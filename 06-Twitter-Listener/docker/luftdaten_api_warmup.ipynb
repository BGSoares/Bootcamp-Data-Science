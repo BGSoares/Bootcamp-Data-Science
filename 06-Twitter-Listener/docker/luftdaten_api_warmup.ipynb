{
 "cells": [
  {
   "cell_type": "markdown",
   "metadata": {},
   "source": [
    "### Get sensor data from the luftdaten project:\n",
    "- project description: https://luftdaten.info/\n",
    "- API documentation: https://github.com/opendata-stuttgart/meta/wiki/APIs"
   ]
  },
  {
   "cell_type": "code",
   "execution_count": 31,
   "metadata": {},
   "outputs": [],
   "source": [
    "import requests\n",
    "import json\n",
    "import random\n",
    "import time\n",
    "import logging #deluxe version of the print, print difficult for different systems"
   ]
  },
  {
   "cell_type": "code",
   "execution_count": 32,
   "metadata": {},
   "outputs": [],
   "source": [
    "SENSOR_URL = \"http://api.luftdaten.info/static/v1/sensor/{}/\""
   ]
  },
  {
   "cell_type": "markdown",
   "metadata": {},
   "source": [
    "#### 1. Pick one sensor IDs from as that interests you\n",
    "- https://maps.sensor.community/#13/48.7740/9.1828"
   ]
  },
  {
   "cell_type": "code",
   "execution_count": 33,
   "metadata": {},
   "outputs": [],
   "source": [
    "sensor_id = 8104"
   ]
  },
  {
   "cell_type": "markdown",
   "metadata": {},
   "source": [
    "#### 2. Inspect the result of the response"
   ]
  },
  {
   "cell_type": "code",
   "execution_count": 34,
   "metadata": {},
   "outputs": [],
   "source": [
    "result = requests.get(SENSOR_URL.format(sensor_id))"
   ]
  },
  {
   "cell_type": "code",
   "execution_count": 35,
   "metadata": {},
   "outputs": [],
   "source": [
    "data_json = result.json()"
   ]
  },
  {
   "cell_type": "code",
   "execution_count": 37,
   "metadata": {},
   "outputs": [
    {
     "name": "stdout",
     "output_type": "stream",
     "text": [
      "[\n",
      "    {\n",
      "        \"id\": 7634525950,\n",
      "        \"location\": {\n",
      "            \"altitude\": \"211.4\",\n",
      "            \"country\": \"DE\",\n",
      "            \"exact_location\": 0,\n",
      "            \"id\": 4095,\n",
      "            \"indoor\": 0,\n",
      "            \"latitude\": \"48.942\",\n",
      "            \"longitude\": \"9.104\"\n",
      "        },\n",
      "        \"sampling_rate\": null,\n",
      "        \"sensor\": {\n",
      "            \"id\": 8104,\n",
      "            \"pin\": \"1\",\n",
      "            \"sensor_type\": {\n",
      "                \"id\": 14,\n",
      "                \"manufacturer\": \"Nova Fitness\",\n",
      "                \"name\": \"SDS011\"\n",
      "            }\n",
      "        },\n",
      "        \"sensordatavalues\": [\n",
      "            {\n",
      "                \"id\": 16770284176,\n",
      "                \"value\": \"7.93\",\n",
      "                \"value_type\": \"P1\"\n",
      "            },\n",
      "            {\n",
      "                \"id\": 16770284199,\n",
      "                \"value\": \"4.80\",\n",
      "                \"value_type\": \"P2\"\n",
      "            }\n",
      "        ],\n",
      "        \"timestamp\": \"2021-11-02 09:21:17\"\n",
      "    },\n",
      "    {\n",
      "        \"id\": 7634500587,\n",
      "        \"location\": {\n",
      "            \"altitude\": \"211.4\",\n",
      "            \"country\": \"DE\",\n",
      "            \"exact_location\": 0,\n",
      "            \"id\": 4095,\n",
      "            \"indoor\": 0,\n",
      "            \"latitude\": \"48.942\",\n",
      "            \"longitude\": \"9.104\"\n",
      "        },\n",
      "        \"sampling_rate\": null,\n",
      "        \"sensor\": {\n",
      "            \"id\": 8104,\n",
      "            \"pin\": \"1\",\n",
      "            \"sensor_type\": {\n",
      "                \"id\": 14,\n",
      "                \"manufacturer\": \"Nova Fitness\",\n",
      "                \"name\": \"SDS011\"\n",
      "            }\n",
      "        },\n",
      "        \"sensordatavalues\": [\n",
      "            {\n",
      "                \"id\": 16770227312,\n",
      "                \"value\": \"4.23\",\n",
      "                \"value_type\": \"P1\"\n",
      "            },\n",
      "            {\n",
      "                \"id\": 16770227341,\n",
      "                \"value\": \"3.30\",\n",
      "                \"value_type\": \"P2\"\n",
      "            }\n",
      "        ],\n",
      "        \"timestamp\": \"2021-11-02 09:18:50\"\n",
      "    }\n",
      "]\n"
     ]
    }
   ],
   "source": [
    "print(json.dumps(data_json, indent=4, sort_keys=True))"
   ]
  },
  {
   "cell_type": "markdown",
   "metadata": {},
   "source": [
    "### 3. Write a function to extract: \n",
    "- time\n",
    "- P1\n",
    "- P2\n",
    "- longitude\n",
    "- latitude\n",
    "for the given sensor id"
   ]
  },
  {
   "cell_type": "code",
   "execution_count": 24,
   "metadata": {},
   "outputs": [],
   "source": [
    "def pick_luftdaten_values(sensor_id):\n",
    "\n",
    "    SENSOR_URL = \"http://api.luftdaten.info/static/v1/sensor/{}/\".format(sensor_id)\n",
    "\n",
    "    result = requests.get(SENSOR_URL)\n",
    "    json = result.json()\n",
    "\n",
    "    time_stamp = json[0]['timestamp'] # first element is most recent measurement\n",
    "    PM25, PM10 = json[0]['sensordatavalues'][0]['value'], json[0]['sensordatavalues'][1]['value']\n",
    "    lon, lat = json[0]['location']['longitude'], json[0]['location']['latitude']\n",
    "    \n",
    "    \n",
    "    return time_stamp, PM25, PM10, lon, lat "
   ]
  },
  {
   "cell_type": "code",
   "execution_count": 25,
   "metadata": {},
   "outputs": [
    {
     "data": {
      "text/plain": [
       "('2021-11-02 09:18:50', '4.23', '3.30', '9.104', '48.942')"
      ]
     },
     "execution_count": 25,
     "metadata": {},
     "output_type": "execute_result"
    }
   ],
   "source": [
    "pick_luftdaten_values(8104)"
   ]
  }
 ],
 "metadata": {
  "interpreter": {
   "hash": "e47b1a34c05c1e3b83a62d7885c9d1b5ef8a0522d3be0182d0a008ec409b2b3d"
  },
  "kernelspec": {
   "display_name": "Python 3.7.11 64-bit ('myenv': conda)",
   "name": "python3"
  },
  "language_info": {
   "codemirror_mode": {
    "name": "ipython",
    "version": 3
   },
   "file_extension": ".py",
   "mimetype": "text/x-python",
   "name": "python",
   "nbconvert_exporter": "python",
   "pygments_lexer": "ipython3",
   "version": "3.7.11"
  }
 },
 "nbformat": 4,
 "nbformat_minor": 4
}
