{
 "cells": [
  {
   "cell_type": "markdown",
   "metadata": {},
   "source": [
    "# SPICED ACADEMY // WEEK 1 // DEMOGRAPHIC VISUALIZATION\n",
    "By: **Brunno Gorgulho Soares**\n",
    "\n",
    "Data: Gapminder"
   ]
  },
  {
   "cell_type": "markdown",
   "metadata": {},
   "source": [
    "---"
   ]
  },
  {
   "cell_type": "markdown",
   "metadata": {},
   "source": [
    "# 0. Setup"
   ]
  },
  {
   "cell_type": "code",
   "execution_count": 2,
   "metadata": {},
   "outputs": [],
   "source": [
    "''' Data manipulation '''\n",
    "import pandas as pd\n",
    "import numpy as np\n",
    "import math\n",
    "\n",
    "''' Visualization '''\n",
    "import matplotlib.pyplot as plt\n",
    "import seaborn as sns\n",
    "\n",
    "''' GIF generation '''\n",
    "import imageio"
   ]
  },
  {
   "cell_type": "markdown",
   "metadata": {},
   "source": [
    "---"
   ]
  },
  {
   "cell_type": "markdown",
   "metadata": {},
   "source": [
    "# 1. Define Business Goal"
   ]
  },
  {
   "cell_type": "markdown",
   "metadata": {},
   "source": [
    "Visually identify if increased internet use has led to a decrease in fertility rate, presumably through preference for internet entertainment over having children. Method: visually inspecting number of internet users against fertility rate by country and over time. The result is a GIF, where each frame is one year. "
   ]
  },
  {
   "cell_type": "markdown",
   "metadata": {},
   "source": [
    "---"
   ]
  },
  {
   "cell_type": "markdown",
   "metadata": {},
   "source": [
    "# 2. Getting data"
   ]
  },
  {
   "cell_type": "code",
   "execution_count": 3,
   "metadata": {},
   "outputs": [],
   "source": [
    "''' Focus data '''\n",
    "data_cont = pd.read_csv(\"data/continents.csv\", sep = ';')\n",
    "data_fert = pd.read_csv(\"data/gapminder_total_fertility.csv\")\n",
    "data_pop = pd.read_excel(\"data/gapminder_population.xlsx\")\n",
    "data_internet = pd.read_csv('data/net_users_num.csv')"
   ]
  },
  {
   "cell_type": "markdown",
   "metadata": {},
   "source": [
    "---"
   ]
  },
  {
   "cell_type": "markdown",
   "metadata": {},
   "source": [
    "# 3. Exploring Data"
   ]
  },
  {
   "cell_type": "markdown",
   "metadata": {},
   "source": [
    "## 3.1 Continents table"
   ]
  },
  {
   "cell_type": "code",
   "execution_count": 4,
   "metadata": {},
   "outputs": [
    {
     "name": "stdout",
     "output_type": "stream",
     "text": [
      "Index(['continent', 'country'], dtype='object')\n"
     ]
    },
    {
     "data": {
      "text/plain": [
       "continent    0\n",
       "country      0\n",
       "dtype: int64"
      ]
     },
     "execution_count": 4,
     "metadata": {},
     "output_type": "execute_result"
    }
   ],
   "source": [
    "''' Continents data is clean '''\n",
    "\n",
    "print(data_cont.columns)\n",
    "data_cont['continent'].unique()\n",
    "data_cont['country'].unique()\n",
    "data_cont['country'].count()\n",
    "data_cont.isna().sum() # no na's"
   ]
  },
  {
   "cell_type": "code",
   "execution_count": 5,
   "metadata": {},
   "outputs": [
    {
     "data": {
      "text/html": [
       "<div>\n",
       "<style scoped>\n",
       "    .dataframe tbody tr th:only-of-type {\n",
       "        vertical-align: middle;\n",
       "    }\n",
       "\n",
       "    .dataframe tbody tr th {\n",
       "        vertical-align: top;\n",
       "    }\n",
       "\n",
       "    .dataframe thead th {\n",
       "        text-align: right;\n",
       "    }\n",
       "</style>\n",
       "<table border=\"1\" class=\"dataframe\">\n",
       "  <thead>\n",
       "    <tr style=\"text-align: right;\">\n",
       "      <th></th>\n",
       "      <th>country</th>\n",
       "    </tr>\n",
       "    <tr>\n",
       "      <th>continent</th>\n",
       "      <th></th>\n",
       "    </tr>\n",
       "  </thead>\n",
       "  <tbody>\n",
       "    <tr>\n",
       "      <th>Africa</th>\n",
       "      <td>54</td>\n",
       "    </tr>\n",
       "    <tr>\n",
       "      <th>Asia</th>\n",
       "      <td>44</td>\n",
       "    </tr>\n",
       "    <tr>\n",
       "      <th>Australia and Oceania</th>\n",
       "      <td>14</td>\n",
       "    </tr>\n",
       "    <tr>\n",
       "      <th>Europe</th>\n",
       "      <td>47</td>\n",
       "    </tr>\n",
       "    <tr>\n",
       "      <th>North America</th>\n",
       "      <td>23</td>\n",
       "    </tr>\n",
       "    <tr>\n",
       "      <th>South America</th>\n",
       "      <td>12</td>\n",
       "    </tr>\n",
       "  </tbody>\n",
       "</table>\n",
       "</div>"
      ],
      "text/plain": [
       "                       country\n",
       "continent                     \n",
       "Africa                      54\n",
       "Asia                        44\n",
       "Australia and Oceania       14\n",
       "Europe                      47\n",
       "North America               23\n",
       "South America               12"
      ]
     },
     "execution_count": 5,
     "metadata": {},
     "output_type": "execute_result"
    }
   ],
   "source": [
    "''' Number of countries considered by continent -- obs. North America includes small islands '''\n",
    "\n",
    "data_cont.groupby('continent').count()"
   ]
  },
  {
   "cell_type": "markdown",
   "metadata": {},
   "source": [
    "## 3.2 Fertility table"
   ]
  },
  {
   "cell_type": "code",
   "execution_count": 6,
   "metadata": {},
   "outputs": [
    {
     "name": "stdout",
     "output_type": "stream",
     "text": [
      "Index(['Total fertility rate', '1800', '1801', '1802', '1803', '1804', '1805',\n",
      "       '1806', '1807', '1808',\n",
      "       ...\n",
      "       '2006', '2007', '2008', '2009', '2010', '2011', '2012', '2013', '2014',\n",
      "       '2015'],\n",
      "      dtype='object', length=217)\n"
     ]
    }
   ],
   "source": [
    "''' Fertility data is in wide format '''\n",
    "\n",
    "print(data_fert.columns)"
   ]
  },
  {
   "cell_type": "code",
   "execution_count": 7,
   "metadata": {},
   "outputs": [
    {
     "data": {
      "text/plain": [
       "61"
      ]
     },
     "execution_count": 7,
     "metadata": {},
     "output_type": "execute_result"
    }
   ],
   "source": [
    "''' There is missing data to correct '''\n",
    "\n",
    "data_fert.isna().sum().max() # missing data must be corrected, column max # of na's is 61"
   ]
  },
  {
   "cell_type": "code",
   "execution_count": 8,
   "metadata": {},
   "outputs": [
    {
     "data": {
      "text/plain": [
       "array(['Abkhazia', 'Afghanistan', 'Akrotiri and Dhekelia', 'Albania',\n",
       "       'Algeria', 'American Samoa', 'Andorra', 'Angola', 'Anguilla',\n",
       "       'Antigua and Barbuda', 'Argentina', 'Armenia', 'Aruba',\n",
       "       'Australia', 'Austria', 'Azerbaijan', 'Bahamas', 'Bahrain',\n",
       "       'Bangladesh', 'Barbados', 'Belarus', 'Belgium', 'Belize', 'Benin',\n",
       "       'Bermuda', 'Bhutan', 'Bolivia', 'Bosnia and Herzegovina',\n",
       "       'Botswana', 'Brazil', 'British Virgin Islands', 'Brunei',\n",
       "       'Bulgaria', 'Burkina Faso', 'Burundi', 'Cambodia', 'Cameroon',\n",
       "       'Canada', 'Cape Verde', 'Cayman Islands',\n",
       "       'Central African Republic', 'Chad', 'Channel Islands', 'Chile',\n",
       "       'China', 'Christmas Island', 'Cocos Island', 'Colombia', 'Comoros',\n",
       "       'Congo, Dem. Rep.', 'Congo, Rep.', 'Cook Is', 'Costa Rica',\n",
       "       \"Cote d'Ivoire\", 'Croatia', 'Cuba', 'Cyprus', 'Czech Republic',\n",
       "       'Czechoslovakia', 'Denmark', 'Djibouti', 'Dominica',\n",
       "       'Dominican Republic', 'East Germany', 'Ecuador', 'Egypt',\n",
       "       'El Salvador', 'Equatorial Guinea', 'Eritrea',\n",
       "       'Eritrea and Ethiopia', 'Estonia', 'Ethiopia', 'Faeroe Islands',\n",
       "       'Falkland Is (Malvinas)', 'Fiji', 'Finland', 'France',\n",
       "       'French Guiana', 'French Polynesia', 'Gabon', 'Gambia', 'Georgia',\n",
       "       'Germany', 'Ghana', 'Gibraltar', 'Greece', 'Greenland', 'Grenada',\n",
       "       'Guadeloupe', 'Guam', 'Guatemala', 'Guernsey', 'Guinea',\n",
       "       'Guinea-Bissau', 'Guyana', 'Haiti', 'Holy See', 'Honduras',\n",
       "       'Hong Kong, China', 'Hungary', 'Iceland', 'India', 'Indonesia',\n",
       "       'Iran', 'Iraq', 'Ireland', 'Isle of Man', 'Israel', 'Italy',\n",
       "       'Jamaica', 'Japan', 'Jersey', 'Jordan', 'Kazakhstan', 'Kenya',\n",
       "       'Kiribati', 'North Korea', 'South Korea',\n",
       "       'United Korea (former)\\n', 'Kosovo', 'Kuwait', 'Kyrgyz Republic',\n",
       "       'Lao', 'Latvia', 'Lebanon', 'Lesotho', 'Liberia', 'Libya',\n",
       "       'Liechtenstein', 'Lithuania', 'Luxembourg', 'Macao, China',\n",
       "       'Macedonia, FYR', 'Madagascar', 'Malawi', 'Malaysia', 'Maldives',\n",
       "       'Mali', 'Malta', 'Marshall Islands', 'Martinique', 'Mauritania',\n",
       "       'Mauritius', 'Mayotte', 'Mexico', 'Micronesia, Fed. Sts.',\n",
       "       'Moldova', 'Monaco', 'Mongolia', 'Montenegro', 'Montserrat',\n",
       "       'Morocco', 'Mozambique', 'Myanmar', 'Namibia', 'Nauru', 'Nepal',\n",
       "       'Netherlands', 'Netherlands Antilles', 'New Caledonia',\n",
       "       'New Zealand', 'Ngorno-Karabakh', 'Nicaragua', 'Niger', 'Nigeria',\n",
       "       'Niue', 'Norfolk Island', 'Northern Cyprus',\n",
       "       'Northern Mariana Islands', 'Norway', 'Oman', 'Pakistan', 'Palau',\n",
       "       'Panama', 'Papua New Guinea', 'Paraguay', 'Peru', 'Philippines',\n",
       "       'Pitcairn', 'Poland', 'Portugal', 'Puerto Rico', 'Qatar',\n",
       "       'Reunion', 'Romania', 'Russia', 'Rwanda', 'St. Barthélemy',\n",
       "       'St. Helena', 'St. Kitts and Nevis', 'St. Lucia', 'St. Martin',\n",
       "       'St. Vincent and the Grenadines', 'St.-Pierre-et-Miquelon',\n",
       "       'Samoa', 'San Marino', 'Sao Tome and Principe', 'Saudi Arabia',\n",
       "       'Senegal', 'Serbia', 'Serbia and Montenegro',\n",
       "       'Serbia excluding Kosovo', 'Seychelles', 'Sierra Leone',\n",
       "       'Singapore', 'Slovak Republic', 'Slovenia', 'Solomon Islands',\n",
       "       'Somalia', 'Somaliland', 'South Africa', 'South Ossetia', 'Spain',\n",
       "       'Sri Lanka', 'Sudan', 'Suriname', 'Svalbard', 'Swaziland',\n",
       "       'Sweden', 'Switzerland', 'Syria', 'Taiwan', 'Tajikistan',\n",
       "       'Tanzania', 'Thailand', 'Timor-Leste', 'Togo', 'Tokelau', 'Tonga',\n",
       "       'Transnistria', 'Trinidad and Tobago', 'Tunisia', 'Turkey',\n",
       "       'Turkmenistan', 'Turks and Caicos Islands', 'Tuvalu', 'Uganda',\n",
       "       'Ukraine', 'United Arab Emirates', 'United Kingdom',\n",
       "       'United States', 'Uruguay', 'USSR', 'Uzbekistan',\n",
       "       'Wallis et Futuna', 'Vanuatu', 'Venezuela', 'West Bank and Gaza',\n",
       "       'West Germany', 'Western Sahara', 'Vietnam',\n",
       "       'Virgin Islands (U.S.)', 'North Yemen (former)',\n",
       "       'South Yemen (former)', 'Yemen', 'Yugoslavia', 'Zambia',\n",
       "       'Zimbabwe', 'Åland'], dtype=object)"
      ]
     },
     "execution_count": 8,
     "metadata": {},
     "output_type": "execute_result"
    }
   ],
   "source": [
    "''' Fertility data is available for 260 countries -- obs. includes old country names '''\n",
    "\n",
    "data_fert['Total fertility rate'].unique().shape\n",
    "data_fert['Total fertility rate'].unique()"
   ]
  },
  {
   "cell_type": "code",
   "execution_count": 9,
   "metadata": {},
   "outputs": [
    {
     "data": {
      "text/plain": [
       "175"
      ]
     },
     "execution_count": 9,
     "metadata": {},
     "output_type": "execute_result"
    }
   ],
   "source": [
    "''' 175 of the countries in the fertility rate table are also found in the contintents table '''\n",
    "\n",
    "counter = []\n",
    "for i in range(len(data_fert['Total fertility rate'])):\n",
    "    if data_fert['Total fertility rate'][i] in list(data_cont['country']):\n",
    "        counter.append(1)\n",
    "sum(counter)"
   ]
  },
  {
   "cell_type": "code",
   "execution_count": 10,
   "metadata": {},
   "outputs": [
    {
     "data": {
      "text/plain": [
       "array([[<AxesSubplot:title={'center':'2015'}>]], dtype=object)"
      ]
     },
     "execution_count": 10,
     "metadata": {},
     "output_type": "execute_result"
    },
    {
     "data": {
      "image/png": "[encoded data removed]",
      "text/plain": [
       "<Figure size 432x288 with 1 Axes>"
      ]
     },
     "metadata": {
      "needs_background": "light"
     },
     "output_type": "display_data"
    }
   ],
   "source": [
    "''' Positively skewed fertility distribution '''\n",
    "\n",
    "data_fert_2015 = data_fert[['Total fertility rate','2015']].dropna()\n",
    "data_fert_2015.hist(bins=100)\n"
   ]
  },
  {
   "cell_type": "code",
   "execution_count": 11,
   "metadata": {},
   "outputs": [
    {
     "name": "stdout",
     "output_type": "stream",
     "text": [
      "Total fertility rate    Afghanistan\n",
      "2015                           1.13\n",
      "dtype: object Total fertility rate    Zimbabwe\n",
      "2015                        7.51\n",
      "dtype: object\n"
     ]
    }
   ],
   "source": [
    "''' Minimum fertility rate in 2015 is 1.13 (Afghanistan), and highest 7.51 (Zimbabwe) '''\n",
    "\n",
    "print(data_fert_2015.min(), data_fert_2015.max())"
   ]
  },
  {
   "cell_type": "code",
   "execution_count": 12,
   "metadata": {},
   "outputs": [
    {
     "data": {
      "text/plain": [
       "Total fertility rate    77\n",
       "2015                    77\n",
       "dtype: int64"
      ]
     },
     "execution_count": 12,
     "metadata": {},
     "output_type": "execute_result"
    }
   ],
   "source": [
    "''' 77 countries had fertility rate below 2 in 2015, indicating population decrease '''\n",
    "\n",
    "data_fert_2015[data_fert_2015['2015'] < 2].count()"
   ]
  },
  {
   "cell_type": "markdown",
   "metadata": {},
   "source": [
    "## 3.3 Populations table"
   ]
  },
  {
   "cell_type": "code",
   "execution_count": 13,
   "metadata": {},
   "outputs": [
    {
     "data": {
      "text/plain": [
       "(275, 92)"
      ]
     },
     "execution_count": 13,
     "metadata": {},
     "output_type": "execute_result"
    }
   ],
   "source": [
    "data_pop.shape"
   ]
  },
  {
   "cell_type": "code",
   "execution_count": 14,
   "metadata": {},
   "outputs": [],
   "source": [
    "''' Drop columns without information '''\n",
    "\n",
    "data_pop = data_pop[data_pop.columns.drop(list(data_pop.filter(regex='Unnamed:')))]"
   ]
  },
  {
   "cell_type": "code",
   "execution_count": 15,
   "metadata": {},
   "outputs": [
    {
     "data": {
      "text/plain": [
       "46"
      ]
     },
     "execution_count": 15,
     "metadata": {},
     "output_type": "execute_result"
    }
   ],
   "source": [
    "''' Missing data must be corrected, column max # of na's is 46, which means all values are missing '''\n",
    "\n",
    "data_pop.isna().sum().max() "
   ]
  },
  {
   "cell_type": "code",
   "execution_count": 16,
   "metadata": {},
   "outputs": [
    {
     "data": {
      "text/plain": [
       "176"
      ]
     },
     "execution_count": 16,
     "metadata": {},
     "output_type": "execute_result"
    }
   ],
   "source": [
    "''' 176 of the countries in the life expectancy table also in populations table '''\n",
    "\n",
    "counter = []\n",
    "for i, country in enumerate(data_pop['Total population']):\n",
    "    if country in list(data_cont['country']):\n",
    "        counter.append(1)\n",
    "sum(counter)"
   ]
  },
  {
   "cell_type": "code",
   "execution_count": 17,
   "metadata": {},
   "outputs": [
    {
     "data": {
      "text/html": [
       "<div>\n",
       "<style scoped>\n",
       "    .dataframe tbody tr th:only-of-type {\n",
       "        vertical-align: middle;\n",
       "    }\n",
       "\n",
       "    .dataframe tbody tr th {\n",
       "        vertical-align: top;\n",
       "    }\n",
       "\n",
       "    .dataframe thead th {\n",
       "        text-align: right;\n",
       "    }\n",
       "</style>\n",
       "<table border=\"1\" class=\"dataframe\">\n",
       "  <thead>\n",
       "    <tr style=\"text-align: right;\">\n",
       "      <th></th>\n",
       "      <th>Total population</th>\n",
       "      <th>2015</th>\n",
       "    </tr>\n",
       "  </thead>\n",
       "  <tbody>\n",
       "    <tr>\n",
       "      <th>44</th>\n",
       "      <td>China</td>\n",
       "      <td>1.376049e+09</td>\n",
       "    </tr>\n",
       "    <tr>\n",
       "      <th>101</th>\n",
       "      <td>India</td>\n",
       "      <td>1.311051e+09</td>\n",
       "    </tr>\n",
       "  </tbody>\n",
       "</table>\n",
       "</div>"
      ],
      "text/plain": [
       "    Total population          2015\n",
       "44             China  1.376049e+09\n",
       "101            India  1.311051e+09"
      ]
     },
     "execution_count": 17,
     "metadata": {},
     "output_type": "execute_result"
    },
    {
     "data": {
      "image/png": "[encoded data removed]",
      "text/plain": [
       "<Figure size 432x288 with 1 Axes>"
      ]
     },
     "metadata": {
      "needs_background": "light"
     },
     "output_type": "display_data"
    },
    {
     "data": {
      "image/png": "[encoded data removed]",
      "text/plain": [
       "<Figure size 432x288 with 1 Axes>"
      ]
     },
     "metadata": {
      "needs_background": "light"
     },
     "output_type": "display_data"
    }
   ],
   "source": [
    "''' Identifying outliers -- obs. China and India are outliers in population and distort visualizations '''\n",
    "\n",
    "data_pop_2015 = data_pop[['Total population', 2015]].dropna()\n",
    "data_pop_2015.hist(bins=100)\n",
    "q3 = data_pop_2015.quantile(0.75)\n",
    "q1 = data_pop_2015.quantile(0.25)\n",
    "outl_thres = int(q3 + 1.5 * (q3 - q1))\n",
    "\n",
    "data_pop_2015_no_outl = data_pop_2015[data_pop_2015[2015]<outl_thres]\n",
    "data_pop_2015_no_outl.hist(bins=20)\n",
    "\n",
    "data_pop_2015[data_pop_2015[2015]>1000000000] # China and India are clear outliers"
   ]
  },
  {
   "cell_type": "markdown",
   "metadata": {},
   "source": [
    "## 3.4 Internet Users table"
   ]
  },
  {
   "cell_type": "code",
   "execution_count": 18,
   "metadata": {},
   "outputs": [
    {
     "data": {
      "text/html": [
       "<div>\n",
       "<style scoped>\n",
       "    .dataframe tbody tr th:only-of-type {\n",
       "        vertical-align: middle;\n",
       "    }\n",
       "\n",
       "    .dataframe tbody tr th {\n",
       "        vertical-align: top;\n",
       "    }\n",
       "\n",
       "    .dataframe thead th {\n",
       "        text-align: right;\n",
       "    }\n",
       "</style>\n",
       "<table border=\"1\" class=\"dataframe\">\n",
       "  <thead>\n",
       "    <tr style=\"text-align: right;\">\n",
       "      <th></th>\n",
       "      <th>country</th>\n",
       "      <th>1990</th>\n",
       "      <th>1991</th>\n",
       "      <th>1992</th>\n",
       "      <th>1993</th>\n",
       "      <th>1994</th>\n",
       "      <th>1995</th>\n",
       "      <th>1996</th>\n",
       "      <th>1997</th>\n",
       "      <th>1998</th>\n",
       "      <th>...</th>\n",
       "      <th>2010</th>\n",
       "      <th>2011</th>\n",
       "      <th>2012</th>\n",
       "      <th>2013</th>\n",
       "      <th>2014</th>\n",
       "      <th>2015</th>\n",
       "      <th>2016</th>\n",
       "      <th>2017</th>\n",
       "      <th>2018</th>\n",
       "      <th>2019</th>\n",
       "    </tr>\n",
       "  </thead>\n",
       "  <tbody>\n",
       "    <tr>\n",
       "      <th>0</th>\n",
       "      <td>Afghanistan</td>\n",
       "      <td>0</td>\n",
       "      <td>0</td>\n",
       "      <td>0</td>\n",
       "      <td>0</td>\n",
       "      <td>0</td>\n",
       "      <td>0</td>\n",
       "      <td>NaN</td>\n",
       "      <td>NaN</td>\n",
       "      <td>NaN</td>\n",
       "      <td>...</td>\n",
       "      <td>1.17M</td>\n",
       "      <td>1.51M</td>\n",
       "      <td>1.7M</td>\n",
       "      <td>1.9M</td>\n",
       "      <td>2.34M</td>\n",
       "      <td>2.84M</td>\n",
       "      <td>3.96M</td>\n",
       "      <td>4.9M</td>\n",
       "      <td>5.02M</td>\n",
       "      <td>5.14M</td>\n",
       "    </tr>\n",
       "    <tr>\n",
       "      <th>1</th>\n",
       "      <td>Angola</td>\n",
       "      <td>0</td>\n",
       "      <td>0</td>\n",
       "      <td>0</td>\n",
       "      <td>0</td>\n",
       "      <td>0</td>\n",
       "      <td>0</td>\n",
       "      <td>112</td>\n",
       "      <td>844</td>\n",
       "      <td>2830</td>\n",
       "      <td>...</td>\n",
       "      <td>654k</td>\n",
       "      <td>751k</td>\n",
       "      <td>1.63M</td>\n",
       "      <td>2.32M</td>\n",
       "      <td>5.77M</td>\n",
       "      <td>3.46M</td>\n",
       "      <td>3.75M</td>\n",
       "      <td>4.28M</td>\n",
       "      <td>4.42M</td>\n",
       "      <td>4.56M</td>\n",
       "    </tr>\n",
       "    <tr>\n",
       "      <th>2</th>\n",
       "      <td>Albania</td>\n",
       "      <td>0</td>\n",
       "      <td>0</td>\n",
       "      <td>0</td>\n",
       "      <td>0</td>\n",
       "      <td>0</td>\n",
       "      <td>348</td>\n",
       "      <td>998</td>\n",
       "      <td>1510</td>\n",
       "      <td>2020</td>\n",
       "      <td>...</td>\n",
       "      <td>1.33M</td>\n",
       "      <td>1.44M</td>\n",
       "      <td>1.59M</td>\n",
       "      <td>1.66M</td>\n",
       "      <td>1.74M</td>\n",
       "      <td>1.83M</td>\n",
       "      <td>1.92M</td>\n",
       "      <td>2.07M</td>\n",
       "      <td>2.07M</td>\n",
       "      <td>2.01M</td>\n",
       "    </tr>\n",
       "    <tr>\n",
       "      <th>3</th>\n",
       "      <td>Andorra</td>\n",
       "      <td>0</td>\n",
       "      <td>0</td>\n",
       "      <td>0</td>\n",
       "      <td>0</td>\n",
       "      <td>0</td>\n",
       "      <td>0</td>\n",
       "      <td>983</td>\n",
       "      <td>1960</td>\n",
       "      <td>4420</td>\n",
       "      <td>...</td>\n",
       "      <td>68.4k</td>\n",
       "      <td>67.8k</td>\n",
       "      <td>71.2k</td>\n",
       "      <td>75.9k</td>\n",
       "      <td>76k</td>\n",
       "      <td>75.6k</td>\n",
       "      <td>75.7k</td>\n",
       "      <td>70.5k</td>\n",
       "      <td>70.5k</td>\n",
       "      <td>70.6k</td>\n",
       "    </tr>\n",
       "    <tr>\n",
       "      <th>4</th>\n",
       "      <td>United Arab Emirates</td>\n",
       "      <td>0</td>\n",
       "      <td>0</td>\n",
       "      <td>0</td>\n",
       "      <td>0</td>\n",
       "      <td>0</td>\n",
       "      <td>2490</td>\n",
       "      <td>9530</td>\n",
       "      <td>88k</td>\n",
       "      <td>194k</td>\n",
       "      <td>...</td>\n",
       "      <td>5.81M</td>\n",
       "      <td>6.98M</td>\n",
       "      <td>7.77M</td>\n",
       "      <td>8.09M</td>\n",
       "      <td>8.33M</td>\n",
       "      <td>8.38M</td>\n",
       "      <td>8.48M</td>\n",
       "      <td>9M</td>\n",
       "      <td>9.48M</td>\n",
       "      <td>9.69M</td>\n",
       "    </tr>\n",
       "    <tr>\n",
       "      <th>...</th>\n",
       "      <td>...</td>\n",
       "      <td>...</td>\n",
       "      <td>...</td>\n",
       "      <td>...</td>\n",
       "      <td>...</td>\n",
       "      <td>...</td>\n",
       "      <td>...</td>\n",
       "      <td>...</td>\n",
       "      <td>...</td>\n",
       "      <td>...</td>\n",
       "      <td>...</td>\n",
       "      <td>...</td>\n",
       "      <td>...</td>\n",
       "      <td>...</td>\n",
       "      <td>...</td>\n",
       "      <td>...</td>\n",
       "      <td>...</td>\n",
       "      <td>...</td>\n",
       "      <td>...</td>\n",
       "      <td>...</td>\n",
       "      <td>...</td>\n",
       "    </tr>\n",
       "    <tr>\n",
       "      <th>191</th>\n",
       "      <td>Samoa</td>\n",
       "      <td>0</td>\n",
       "      <td>0</td>\n",
       "      <td>0</td>\n",
       "      <td>0</td>\n",
       "      <td>0</td>\n",
       "      <td>0</td>\n",
       "      <td>NaN</td>\n",
       "      <td>300</td>\n",
       "      <td>398</td>\n",
       "      <td>...</td>\n",
       "      <td>13k</td>\n",
       "      <td>20.6k</td>\n",
       "      <td>24.4k</td>\n",
       "      <td>29.2k</td>\n",
       "      <td>40.8k</td>\n",
       "      <td>49.2k</td>\n",
       "      <td>57.2k</td>\n",
       "      <td>65.7k</td>\n",
       "      <td>65.9k</td>\n",
       "      <td>66.2k</td>\n",
       "    </tr>\n",
       "    <tr>\n",
       "      <th>192</th>\n",
       "      <td>Yemen</td>\n",
       "      <td>0</td>\n",
       "      <td>0</td>\n",
       "      <td>0</td>\n",
       "      <td>0</td>\n",
       "      <td>0</td>\n",
       "      <td>0</td>\n",
       "      <td>96</td>\n",
       "      <td>2400</td>\n",
       "      <td>3840</td>\n",
       "      <td>...</td>\n",
       "      <td>2.86M</td>\n",
       "      <td>3.55M</td>\n",
       "      <td>4.27M</td>\n",
       "      <td>5.03M</td>\n",
       "      <td>5.82M</td>\n",
       "      <td>6.38M</td>\n",
       "      <td>6.68M</td>\n",
       "      <td>7.44M</td>\n",
       "      <td>7.61M</td>\n",
       "      <td>7.79M</td>\n",
       "    </tr>\n",
       "    <tr>\n",
       "      <th>193</th>\n",
       "      <td>South Africa</td>\n",
       "      <td>0</td>\n",
       "      <td>5010</td>\n",
       "      <td>15k</td>\n",
       "      <td>45.1k</td>\n",
       "      <td>100k</td>\n",
       "      <td>280k</td>\n",
       "      <td>356k</td>\n",
       "      <td>702k</td>\n",
       "      <td>1.27M</td>\n",
       "      <td>...</td>\n",
       "      <td>12.3M</td>\n",
       "      <td>17.7M</td>\n",
       "      <td>21.7M</td>\n",
       "      <td>25M</td>\n",
       "      <td>26.7M</td>\n",
       "      <td>28.8M</td>\n",
       "      <td>30.4M</td>\n",
       "      <td>32M</td>\n",
       "      <td>32.5M</td>\n",
       "      <td>32.9M</td>\n",
       "    </tr>\n",
       "    <tr>\n",
       "      <th>194</th>\n",
       "      <td>Zambia</td>\n",
       "      <td>0</td>\n",
       "      <td>0</td>\n",
       "      <td>0</td>\n",
       "      <td>0</td>\n",
       "      <td>601</td>\n",
       "      <td>799</td>\n",
       "      <td>847</td>\n",
       "      <td>895</td>\n",
       "      <td>2980</td>\n",
       "      <td>...</td>\n",
       "      <td>1.36M</td>\n",
       "      <td>1.61M</td>\n",
       "      <td>1.95M</td>\n",
       "      <td>2.3M</td>\n",
       "      <td>2.93M</td>\n",
       "      <td>3.33M</td>\n",
       "      <td>4.17M</td>\n",
       "      <td>4.69M</td>\n",
       "      <td>2.48M</td>\n",
       "      <td>2.55M</td>\n",
       "    </tr>\n",
       "    <tr>\n",
       "      <th>195</th>\n",
       "      <td>Zimbabwe</td>\n",
       "      <td>0</td>\n",
       "      <td>0</td>\n",
       "      <td>0</td>\n",
       "      <td>0</td>\n",
       "      <td>196</td>\n",
       "      <td>877</td>\n",
       "      <td>1940</td>\n",
       "      <td>3860</td>\n",
       "      <td>9590</td>\n",
       "      <td>...</td>\n",
       "      <td>813k</td>\n",
       "      <td>1.08M</td>\n",
       "      <td>1.57M</td>\n",
       "      <td>2.07M</td>\n",
       "      <td>2.22M</td>\n",
       "      <td>3.14M</td>\n",
       "      <td>3.24M</td>\n",
       "      <td>3.85M</td>\n",
       "      <td>3.91M</td>\n",
       "      <td>3.96M</td>\n",
       "    </tr>\n",
       "  </tbody>\n",
       "</table>\n",
       "<p>196 rows × 31 columns</p>\n",
       "</div>"
      ],
      "text/plain": [
       "                  country 1990  1991 1992   1993  1994  1995  1996  1997  \\\n",
       "0             Afghanistan    0     0    0      0     0     0   NaN   NaN   \n",
       "1                  Angola    0     0    0      0     0     0   112   844   \n",
       "2                 Albania    0     0    0      0     0   348   998  1510   \n",
       "3                 Andorra    0     0    0      0     0     0   983  1960   \n",
       "4    United Arab Emirates    0     0    0      0     0  2490  9530   88k   \n",
       "..                    ...  ...   ...  ...    ...   ...   ...   ...   ...   \n",
       "191                 Samoa    0     0    0      0     0     0   NaN   300   \n",
       "192                 Yemen    0     0    0      0     0     0    96  2400   \n",
       "193          South Africa    0  5010  15k  45.1k  100k  280k  356k  702k   \n",
       "194                Zambia    0     0    0      0   601   799   847   895   \n",
       "195              Zimbabwe    0     0    0      0   196   877  1940  3860   \n",
       "\n",
       "      1998  ...   2010   2011   2012   2013   2014   2015   2016   2017  \\\n",
       "0      NaN  ...  1.17M  1.51M   1.7M   1.9M  2.34M  2.84M  3.96M   4.9M   \n",
       "1     2830  ...   654k   751k  1.63M  2.32M  5.77M  3.46M  3.75M  4.28M   \n",
       "2     2020  ...  1.33M  1.44M  1.59M  1.66M  1.74M  1.83M  1.92M  2.07M   \n",
       "3     4420  ...  68.4k  67.8k  71.2k  75.9k    76k  75.6k  75.7k  70.5k   \n",
       "4     194k  ...  5.81M  6.98M  7.77M  8.09M  8.33M  8.38M  8.48M     9M   \n",
       "..     ...  ...    ...    ...    ...    ...    ...    ...    ...    ...   \n",
       "191    398  ...    13k  20.6k  24.4k  29.2k  40.8k  49.2k  57.2k  65.7k   \n",
       "192   3840  ...  2.86M  3.55M  4.27M  5.03M  5.82M  6.38M  6.68M  7.44M   \n",
       "193  1.27M  ...  12.3M  17.7M  21.7M    25M  26.7M  28.8M  30.4M    32M   \n",
       "194   2980  ...  1.36M  1.61M  1.95M   2.3M  2.93M  3.33M  4.17M  4.69M   \n",
       "195   9590  ...   813k  1.08M  1.57M  2.07M  2.22M  3.14M  3.24M  3.85M   \n",
       "\n",
       "      2018   2019  \n",
       "0    5.02M  5.14M  \n",
       "1    4.42M  4.56M  \n",
       "2    2.07M  2.01M  \n",
       "3    70.5k  70.6k  \n",
       "4    9.48M  9.69M  \n",
       "..     ...    ...  \n",
       "191  65.9k  66.2k  \n",
       "192  7.61M  7.79M  \n",
       "193  32.5M  32.9M  \n",
       "194  2.48M  2.55M  \n",
       "195  3.91M  3.96M  \n",
       "\n",
       "[196 rows x 31 columns]"
      ]
     },
     "execution_count": 18,
     "metadata": {},
     "output_type": "execute_result"
    }
   ],
   "source": [
    "''' At least 34 rows with na's '''\n",
    "\n",
    "data_internet.isna().sum().max() # remove na's, max 34\n",
    "data_internet"
   ]
  },
  {
   "cell_type": "markdown",
   "metadata": {},
   "source": [
    "---"
   ]
  },
  {
   "cell_type": "markdown",
   "metadata": {},
   "source": [
    "# 4. Data Cleaning"
   ]
  },
  {
   "cell_type": "code",
   "execution_count": 23,
   "metadata": {},
   "outputs": [],
   "source": [
    "\" Continents data table does not require cleaning \"\n",
    "df_cont = data_cont"
   ]
  },
  {
   "cell_type": "code",
   "execution_count": 24,
   "id": "67e2c90c",
   "metadata": {},
   "outputs": [],
   "source": [
    "''' Fertility data cleaning '''\n",
    "\n",
    "df_fert = pd.melt(data_fert,id_vars = 'Total fertility rate').dropna() # wide to long format\n",
    "df_fert.columns = ['country', 'year', 'fertility_rate'] # renaming columns\n",
    "df_fert = df_fert.astype({'year': 'int', 'fertility_rate': 'float'}) # fixing variable types"
   ]
  },
  {
   "cell_type": "code",
   "execution_count": 28,
   "metadata": {},
   "outputs": [],
   "source": [
    "''' Population data cleaning '''\n",
    "\n",
    "df_pop = pd.melt(data_pop, id_vars = 'Total population').dropna() # dropping rows with nan\n",
    "df_pop.columns = ['country', 'year', 'total_population'] # renaming columns\n",
    "df_pop = df_pop.astype({'year': 'int', 'total_population': 'int'}) # fixing variable types"
   ]
  },
  {
   "cell_type": "code",
   "execution_count": 29,
   "metadata": {},
   "outputs": [],
   "source": [
    "''' Internet data cleaning '''\n",
    "\n",
    "df_internet = data_internet.melt(id_vars='country') # wide to long format\n",
    "df_internet.columns = ['country', 'year', 'internet_users'] # renaming columns\n",
    "\n",
    "# converting human legible number (e.g. 10M) format to computer format (e.g. 10_000_000)\n",
    "df_internet['short_number'] = df_internet['internet_users'].apply(lambda x: 1_000_000 if str(x)[-1] == 'M' else (1_000 if str(x)[-1] == 'k' else 1)) \n",
    "df_internet['internet_users'] = df_internet['internet_users'].str.replace('M', '')\n",
    "df_internet['internet_users'] = df_internet['internet_users'].str.replace('k', '').astype(float)\n",
    "df_internet['internet_users'] = df_internet['internet_users'] * df_internet['short_number']\n",
    "df_internet.drop('short_number', inplace=True, axis=1)\n",
    "\n",
    "df_internet = df_internet.astype({'country':'str', 'year':'int'}) # fixing variable types\n",
    "\n",
    "df_internet['internet_users'].replace(0.0,np.nan,inplace=True)\n"
   ]
  },
  {
   "cell_type": "code",
   "execution_count": 31,
   "metadata": {},
   "outputs": [],
   "source": [
    "''' Creating a master table with data for: Population, Fertility, Life Expectancy, Continent Name, and Internet Users '''\n",
    "\n",
    "df_merge = df_pop.\\\n",
    "    merge(df_fert, how='left', on=['country','year']).\\\n",
    "    merge(df_cont, how='left', on='country').\\\n",
    "    merge(df_internet, how='left', on=['country','year'])\n"
   ]
  },
  {
   "cell_type": "markdown",
   "metadata": {},
   "source": [
    "---"
   ]
  },
  {
   "cell_type": "markdown",
   "metadata": {},
   "source": [
    "# 5. Data Engineering"
   ]
  },
  {
   "cell_type": "code",
   "execution_count": null,
   "id": "cbb53353",
   "metadata": {},
   "outputs": [],
   "source": []
  },
  {
   "cell_type": "code",
   "execution_count": 32,
   "metadata": {},
   "outputs": [],
   "source": [
    "\"Extracting log of internet users, to remove exponential pattern\"\n",
    "df_merge['internet_users_log'] = np.log2(df_merge['internet_users'])"
   ]
  },
  {
   "cell_type": "markdown",
   "metadata": {},
   "source": [
    "---"
   ]
  },
  {
   "cell_type": "markdown",
   "metadata": {},
   "source": [
    "# 6. Exploring Variable Relationships"
   ]
  },
  {
   "cell_type": "markdown",
   "metadata": {},
   "source": [
    "## 6.1 Visualizing all possible relationships"
   ]
  },
  {
   "cell_type": "code",
   "execution_count": 33,
   "metadata": {},
   "outputs": [],
   "source": [
    "''' Excluding China and India for being outliers in population size '''\n",
    "\n",
    "df_plot = df_merge[(df_merge['year']==2015) & (~df_merge['country'].isin(['China', 'India']))]"
   ]
  },
  {
   "cell_type": "code",
   "execution_count": 35,
   "metadata": {},
   "outputs": [
    {
     "data": {
      "image/png": "[encoded data removed]",
      "text/plain": [
       "<Figure size 864x576 with 9 Axes>"
      ]
     },
     "metadata": {
      "needs_background": "light"
     },
     "output_type": "display_data"
    }
   ],
   "source": [
    "''' No clear relationship between internet users and fertility rate when not factoring in time component '''\n",
    "\n",
    "pd.plotting.scatter_matrix(df_plot[['fertility_rate', 'total_population','internet_users']], figsize=(12,8))\n",
    "despine=True # cleaning graph display"
   ]
  },
  {
   "cell_type": "markdown",
   "metadata": {},
   "source": [
    "## 6.2 Fertility Rate over time"
   ]
  },
  {
   "cell_type": "code",
   "execution_count": 36,
   "metadata": {},
   "outputs": [
    {
     "data": {
      "text/html": [
       "<div>\n",
       "<style scoped>\n",
       "    .dataframe tbody tr th:only-of-type {\n",
       "        vertical-align: middle;\n",
       "    }\n",
       "\n",
       "    .dataframe tbody tr th {\n",
       "        vertical-align: top;\n",
       "    }\n",
       "\n",
       "    .dataframe thead th {\n",
       "        text-align: right;\n",
       "    }\n",
       "</style>\n",
       "<table border=\"1\" class=\"dataframe\">\n",
       "  <thead>\n",
       "    <tr style=\"text-align: right;\">\n",
       "      <th></th>\n",
       "      <th>country</th>\n",
       "      <th>fert_rate_1960</th>\n",
       "      <th>fert_rate_2015</th>\n",
       "      <th>fert_delta</th>\n",
       "    </tr>\n",
       "  </thead>\n",
       "  <tbody>\n",
       "    <tr>\n",
       "      <th>188</th>\n",
       "      <td>Somalia</td>\n",
       "      <td>7.25</td>\n",
       "      <td>6.36</td>\n",
       "      <td>-0.89</td>\n",
       "    </tr>\n",
       "    <tr>\n",
       "      <th>168</th>\n",
       "      <td>Romania</td>\n",
       "      <td>2.32</td>\n",
       "      <td>1.45</td>\n",
       "      <td>-0.87</td>\n",
       "    </tr>\n",
       "    <tr>\n",
       "      <th>31</th>\n",
       "      <td>Burkina Faso</td>\n",
       "      <td>6.29</td>\n",
       "      <td>5.43</td>\n",
       "      <td>-0.86</td>\n",
       "    </tr>\n",
       "    <tr>\n",
       "      <th>61</th>\n",
       "      <td>Equatorial Guinea</td>\n",
       "      <td>5.51</td>\n",
       "      <td>4.65</td>\n",
       "      <td>-0.86</td>\n",
       "    </tr>\n",
       "    <tr>\n",
       "      <th>216</th>\n",
       "      <td>Uruguay</td>\n",
       "      <td>2.88</td>\n",
       "      <td>2.03</td>\n",
       "      <td>-0.85</td>\n",
       "    </tr>\n",
       "    <tr>\n",
       "      <th>100</th>\n",
       "      <td>Italy</td>\n",
       "      <td>2.37</td>\n",
       "      <td>1.52</td>\n",
       "      <td>-0.85</td>\n",
       "    </tr>\n",
       "    <tr>\n",
       "      <th>68</th>\n",
       "      <td>Finland</td>\n",
       "      <td>2.71</td>\n",
       "      <td>1.86</td>\n",
       "      <td>-0.85</td>\n",
       "    </tr>\n",
       "    <tr>\n",
       "      <th>50</th>\n",
       "      <td>Croatia</td>\n",
       "      <td>2.33</td>\n",
       "      <td>1.52</td>\n",
       "      <td>-0.81</td>\n",
       "    </tr>\n",
       "    <tr>\n",
       "      <th>214</th>\n",
       "      <td>United Kingdom</td>\n",
       "      <td>2.69</td>\n",
       "      <td>1.89</td>\n",
       "      <td>-0.80</td>\n",
       "    </tr>\n",
       "    <tr>\n",
       "      <th>69</th>\n",
       "      <td>France</td>\n",
       "      <td>2.77</td>\n",
       "      <td>1.98</td>\n",
       "      <td>-0.79</td>\n",
       "    </tr>\n",
       "    <tr>\n",
       "      <th>186</th>\n",
       "      <td>Slovenia</td>\n",
       "      <td>2.32</td>\n",
       "      <td>1.53</td>\n",
       "      <td>-0.79</td>\n",
       "    </tr>\n",
       "    <tr>\n",
       "      <th>201</th>\n",
       "      <td>Timor-Leste</td>\n",
       "      <td>6.37</td>\n",
       "      <td>5.60</td>\n",
       "      <td>-0.77</td>\n",
       "    </tr>\n",
       "    <tr>\n",
       "      <th>19</th>\n",
       "      <td>Belgium</td>\n",
       "      <td>2.60</td>\n",
       "      <td>1.86</td>\n",
       "      <td>-0.74</td>\n",
       "    </tr>\n",
       "    <tr>\n",
       "      <th>53</th>\n",
       "      <td>Czech Republic</td>\n",
       "      <td>2.30</td>\n",
       "      <td>1.60</td>\n",
       "      <td>-0.70</td>\n",
       "    </tr>\n",
       "    <tr>\n",
       "      <th>30</th>\n",
       "      <td>Bulgaria</td>\n",
       "      <td>2.25</td>\n",
       "      <td>1.57</td>\n",
       "      <td>-0.68</td>\n",
       "    </tr>\n",
       "    <tr>\n",
       "      <th>78</th>\n",
       "      <td>Greece</td>\n",
       "      <td>2.22</td>\n",
       "      <td>1.55</td>\n",
       "      <td>-0.67</td>\n",
       "    </tr>\n",
       "    <tr>\n",
       "      <th>119</th>\n",
       "      <td>Luxembourg</td>\n",
       "      <td>2.35</td>\n",
       "      <td>1.69</td>\n",
       "      <td>-0.66</td>\n",
       "    </tr>\n",
       "    <tr>\n",
       "      <th>54</th>\n",
       "      <td>Denmark</td>\n",
       "      <td>2.54</td>\n",
       "      <td>1.89</td>\n",
       "      <td>-0.65</td>\n",
       "    </tr>\n",
       "    <tr>\n",
       "      <th>91</th>\n",
       "      <td>Hungary</td>\n",
       "      <td>2.05</td>\n",
       "      <td>1.44</td>\n",
       "      <td>-0.61</td>\n",
       "    </tr>\n",
       "    <tr>\n",
       "      <th>102</th>\n",
       "      <td>Japan</td>\n",
       "      <td>2.00</td>\n",
       "      <td>1.45</td>\n",
       "      <td>-0.55</td>\n",
       "    </tr>\n",
       "    <tr>\n",
       "      <th>151</th>\n",
       "      <td>Nigeria</td>\n",
       "      <td>6.35</td>\n",
       "      <td>5.89</td>\n",
       "      <td>-0.46</td>\n",
       "    </tr>\n",
       "    <tr>\n",
       "      <th>72</th>\n",
       "      <td>Gabon</td>\n",
       "      <td>4.38</td>\n",
       "      <td>3.97</td>\n",
       "      <td>-0.41</td>\n",
       "    </tr>\n",
       "    <tr>\n",
       "      <th>63</th>\n",
       "      <td>Estonia</td>\n",
       "      <td>1.95</td>\n",
       "      <td>1.62</td>\n",
       "      <td>-0.33</td>\n",
       "    </tr>\n",
       "    <tr>\n",
       "      <th>45</th>\n",
       "      <td>Congo, Dem. Rep.</td>\n",
       "      <td>6.00</td>\n",
       "      <td>5.72</td>\n",
       "      <td>-0.28</td>\n",
       "    </tr>\n",
       "    <tr>\n",
       "      <th>195</th>\n",
       "      <td>Sweden</td>\n",
       "      <td>2.20</td>\n",
       "      <td>1.93</td>\n",
       "      <td>-0.27</td>\n",
       "    </tr>\n",
       "    <tr>\n",
       "      <th>112</th>\n",
       "      <td>Latvia</td>\n",
       "      <td>1.90</td>\n",
       "      <td>1.64</td>\n",
       "      <td>-0.26</td>\n",
       "    </tr>\n",
       "    <tr>\n",
       "      <th>39</th>\n",
       "      <td>Chad</td>\n",
       "      <td>6.25</td>\n",
       "      <td>6.04</td>\n",
       "      <td>-0.21</td>\n",
       "    </tr>\n",
       "    <tr>\n",
       "      <th>73</th>\n",
       "      <td>Gambia</td>\n",
       "      <td>5.57</td>\n",
       "      <td>5.67</td>\n",
       "      <td>0.10</td>\n",
       "    </tr>\n",
       "    <tr>\n",
       "      <th>126</th>\n",
       "      <td>Mali</td>\n",
       "      <td>6.70</td>\n",
       "      <td>6.81</td>\n",
       "      <td>0.11</td>\n",
       "    </tr>\n",
       "    <tr>\n",
       "      <th>150</th>\n",
       "      <td>Niger</td>\n",
       "      <td>7.05</td>\n",
       "      <td>7.51</td>\n",
       "      <td>0.46</td>\n",
       "    </tr>\n",
       "  </tbody>\n",
       "</table>\n",
       "</div>"
      ],
      "text/plain": [
       "               country  fert_rate_1960  fert_rate_2015  fert_delta\n",
       "188            Somalia            7.25            6.36       -0.89\n",
       "168            Romania            2.32            1.45       -0.87\n",
       "31        Burkina Faso            6.29            5.43       -0.86\n",
       "61   Equatorial Guinea            5.51            4.65       -0.86\n",
       "216            Uruguay            2.88            2.03       -0.85\n",
       "100              Italy            2.37            1.52       -0.85\n",
       "68             Finland            2.71            1.86       -0.85\n",
       "50             Croatia            2.33            1.52       -0.81\n",
       "214     United Kingdom            2.69            1.89       -0.80\n",
       "69              France            2.77            1.98       -0.79\n",
       "186           Slovenia            2.32            1.53       -0.79\n",
       "201        Timor-Leste            6.37            5.60       -0.77\n",
       "19             Belgium            2.60            1.86       -0.74\n",
       "53      Czech Republic            2.30            1.60       -0.70\n",
       "30            Bulgaria            2.25            1.57       -0.68\n",
       "78              Greece            2.22            1.55       -0.67\n",
       "119         Luxembourg            2.35            1.69       -0.66\n",
       "54             Denmark            2.54            1.89       -0.65\n",
       "91             Hungary            2.05            1.44       -0.61\n",
       "102              Japan            2.00            1.45       -0.55\n",
       "151            Nigeria            6.35            5.89       -0.46\n",
       "72               Gabon            4.38            3.97       -0.41\n",
       "63             Estonia            1.95            1.62       -0.33\n",
       "45    Congo, Dem. Rep.            6.00            5.72       -0.28\n",
       "195             Sweden            2.20            1.93       -0.27\n",
       "112             Latvia            1.90            1.64       -0.26\n",
       "39                Chad            6.25            6.04       -0.21\n",
       "73              Gambia            5.57            5.67        0.10\n",
       "126               Mali            6.70            6.81        0.11\n",
       "150              Niger            7.05            7.51        0.46"
      ]
     },
     "execution_count": 36,
     "metadata": {},
     "output_type": "execute_result"
    }
   ],
   "source": [
    "''' Fertility rate has dropped between 1960 and 2015 for most countries '''\n",
    "\n",
    "df_exper_1960 = df_merge[df_merge['year']==1960][['country','fertility_rate']]\n",
    "df_exper_1960.rename(columns={'country':'country', 'fertility_rate': 'fert_rate_1960'}, inplace=True)\n",
    "\n",
    "df_exper_2015 = df_merge[df_merge['year']==2015][['country','fertility_rate']]\n",
    "df_exper_2015.rename(columns={'country':'country', 'fertility_rate': 'fert_rate_2015'}, inplace=True)\n",
    "\n",
    "df_exper = df_exper_1960.merge(df_exper_2015)\n",
    "df_exper.set_index('country')\n",
    "df_exper['fert_delta'] = df_exper['fert_rate_2015'] - df_exper['fert_rate_1960']\n",
    "df_exper = df_exper.sort_values('fert_delta')\n",
    "df_exper.dropna().tail(30)\n"
   ]
  },
  {
   "cell_type": "markdown",
   "metadata": {},
   "source": [
    "---"
   ]
  },
  {
   "cell_type": "markdown",
   "metadata": {},
   "source": [
    "# 7. Deployment (GIF Scatter)"
   ]
  },
  {
   "cell_type": "code",
   "execution_count": 37,
   "metadata": {},
   "outputs": [
    {
     "name": "stdout",
     "output_type": "stream",
     "text": [
      "Asia\n",
      "Europe\n",
      "Africa\n",
      "nan\n",
      "North America\n",
      "South America\n",
      "Australia and Oceania\n"
     ]
    }
   ],
   "source": [
    "for i in df_merge['continent'].unique():\n",
    "    print(i)"
   ]
  },
  {
   "cell_type": "code",
   "execution_count": 38,
   "metadata": {},
   "outputs": [],
   "source": [
    "''' Adding coloring to different continents '''\n",
    "\n",
    "# colors = {\n",
    "#     'Asia':'blue', \n",
    "#     'Europe':'red', \n",
    "#     'Africa':'yellow', \n",
    "#     'North America':'green', \n",
    "#     'South America':'purple',\n",
    "#     'Australia and Oceania':'black'\n",
    "# }"
   ]
  },
  {
   "cell_type": "code",
   "execution_count": 39,
   "metadata": {},
   "outputs": [],
   "source": [
    "plt.style.use('seaborn')\n",
    "\n",
    "x = 'internet_users_log'\n",
    "y = 'fertility_rate'\n",
    "z = 'total_population'\n",
    "c = 'continent'\n",
    "\n",
    "for year in range(1990, 2015+1):\n",
    "    plt.axis((0,30,0,8))\n",
    "    \n",
    "    d = df_merge[df_merge['year']==year].dropna()\n",
    "\n",
    "    plt.scatter(x=d[x], y=d[y], s=d[z]/5000000) # , c=d[c].replace(colors).values)\n",
    "    \n",
    "    plt.title(f'Preference of Couples in {year}', size=20)\n",
    "    plt.xlabel('Log of Internet Users', size=15)\n",
    "    plt.ylabel('Fertility Rate', size=15)\n",
    "    # plt.legend('Continent', fontsize='x-large') # working to fix legend\n",
    "    \n",
    "    plt.savefig('data/lifeexp_'+str(year)+'.png', dpi=200)\n",
    "    plt.close()"
   ]
  },
  {
   "cell_type": "code",
   "execution_count": 40,
   "metadata": {},
   "outputs": [],
   "source": [
    "images =[]\n",
    "\n",
    "for i in range(1990, 2015+1):\n",
    "    filename = 'data/lifeexp_{}.png'.format(i)\n",
    "    images.append(imageio.imread(filename))\n",
    "\n",
    "imageio.mimsave('output.gif', images, fps=4)"
   ]
  }
 ],
 "metadata": {
  "interpreter": {
   "hash": "e47b1a34c05c1e3b83a62d7885c9d1b5ef8a0522d3be0182d0a008ec409b2b3d"
  },
  "kernelspec": {
   "display_name": "Python 3.7.11 64-bit ('myenv': conda)",
   "name": "python3"
  },
  "language_info": {
   "codemirror_mode": {
    "name": "ipython",
    "version": 3
   },
   "file_extension": ".py",
   "mimetype": "text/x-python",
   "name": "python",
   "nbconvert_exporter": "python",
   "pygments_lexer": "ipython3",
   "version": "3.7.11"
  }
 },
 "nbformat": 4,
 "nbformat_minor": 5
}
