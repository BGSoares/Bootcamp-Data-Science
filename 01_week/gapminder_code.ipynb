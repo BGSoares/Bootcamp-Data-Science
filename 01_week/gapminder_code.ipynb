{
 "cells": [
  {
   "cell_type": "markdown",
   "source": [
    "# Week 1 Project: Gapminder Scatter Plot\n",
    "##### Brunno Gorgulho Soares"
   ],
   "metadata": {}
  },
  {
   "cell_type": "markdown",
   "source": [
    "## Setup"
   ],
   "metadata": {}
  },
  {
   "cell_type": "code",
   "execution_count": 177,
   "source": [
    "# Load Packages\n",
    "import pandas as pd\n",
    "import matplotlib.pyplot as plt\n",
    "import seaborn as sns\n",
    "import time\n",
    "import numpy as np\n",
    "import math "
   ],
   "outputs": [],
   "metadata": {}
  },
  {
   "cell_type": "markdown",
   "source": [
    "## Getting data"
   ],
   "metadata": {}
  },
  {
   "cell_type": "code",
   "execution_count": 105,
   "source": [
    "data_cont = pd.read_csv(\"data/continents.csv\", sep = ';')\n",
    "data_fert = pd.read_csv(\"data/gapminder_total_fertility.csv\")\n",
    "data_lifeexp = pd.read_excel(\"data/gapminder_lifeexpectancy.xlsx\")\n",
    "data_pop = pd.read_excel(\"data/gapminder_population.xlsx\")\n",
    "data_internet = pd.read_csv('data/net_users_num.csv')"
   ],
   "outputs": [],
   "metadata": {}
  },
  {
   "cell_type": "markdown",
   "source": [
    "## Inspect variables"
   ],
   "metadata": {}
  },
  {
   "cell_type": "markdown",
   "source": [
    "### Continents table"
   ],
   "metadata": {}
  },
  {
   "cell_type": "code",
   "execution_count": 3,
   "source": [
    "print(data_cont.columns)\n",
    "data_cont['continent'].unique()\n",
    "data_cont['country'].unique()\n",
    "data_cont['country'].count()\n",
    "data_cont.isna().sum() # no na's"
   ],
   "outputs": [
    {
     "output_type": "stream",
     "name": "stdout",
     "text": [
      "Index(['continent', 'country'], dtype='object')\n"
     ]
    },
    {
     "output_type": "execute_result",
     "data": {
      "text/plain": [
       "continent    0\n",
       "country      0\n",
       "dtype: int64"
      ]
     },
     "metadata": {},
     "execution_count": 3
    }
   ],
   "metadata": {}
  },
  {
   "cell_type": "code",
   "execution_count": 4,
   "source": [
    "data_cont.groupby('continent').count()"
   ],
   "outputs": [
    {
     "output_type": "execute_result",
     "data": {
      "text/html": [
       "<div>\n",
       "<style scoped>\n",
       "    .dataframe tbody tr th:only-of-type {\n",
       "        vertical-align: middle;\n",
       "    }\n",
       "\n",
       "    .dataframe tbody tr th {\n",
       "        vertical-align: top;\n",
       "    }\n",
       "\n",
       "    .dataframe thead th {\n",
       "        text-align: right;\n",
       "    }\n",
       "</style>\n",
       "<table border=\"1\" class=\"dataframe\">\n",
       "  <thead>\n",
       "    <tr style=\"text-align: right;\">\n",
       "      <th></th>\n",
       "      <th>country</th>\n",
       "    </tr>\n",
       "    <tr>\n",
       "      <th>continent</th>\n",
       "      <th></th>\n",
       "    </tr>\n",
       "  </thead>\n",
       "  <tbody>\n",
       "    <tr>\n",
       "      <th>Africa</th>\n",
       "      <td>54</td>\n",
       "    </tr>\n",
       "    <tr>\n",
       "      <th>Asia</th>\n",
       "      <td>44</td>\n",
       "    </tr>\n",
       "    <tr>\n",
       "      <th>Australia and Oceania</th>\n",
       "      <td>14</td>\n",
       "    </tr>\n",
       "    <tr>\n",
       "      <th>Europe</th>\n",
       "      <td>47</td>\n",
       "    </tr>\n",
       "    <tr>\n",
       "      <th>North America</th>\n",
       "      <td>23</td>\n",
       "    </tr>\n",
       "    <tr>\n",
       "      <th>South America</th>\n",
       "      <td>12</td>\n",
       "    </tr>\n",
       "  </tbody>\n",
       "</table>\n",
       "</div>"
      ],
      "text/plain": [
       "                       country\n",
       "continent                     \n",
       "Africa                      54\n",
       "Asia                        44\n",
       "Australia and Oceania       14\n",
       "Europe                      47\n",
       "North America               23\n",
       "South America               12"
      ]
     },
     "metadata": {},
     "execution_count": 4
    }
   ],
   "metadata": {}
  },
  {
   "cell_type": "markdown",
   "source": [
    "### Fertility table"
   ],
   "metadata": {}
  },
  {
   "cell_type": "code",
   "execution_count": 5,
   "source": [
    "data_fert\n",
    "print(data_fert.columns)\n",
    "data_fert.isna().sum().max() # missing data must be corrected, column max # of na's is 61"
   ],
   "outputs": [
    {
     "output_type": "stream",
     "name": "stdout",
     "text": [
      "Index(['Total fertility rate', '1800', '1801', '1802', '1803', '1804', '1805',\n",
      "       '1806', '1807', '1808',\n",
      "       ...\n",
      "       '2006', '2007', '2008', '2009', '2010', '2011', '2012', '2013', '2014',\n",
      "       '2015'],\n",
      "      dtype='object', length=217)\n"
     ]
    },
    {
     "output_type": "execute_result",
     "data": {
      "text/plain": [
       "61"
      ]
     },
     "metadata": {},
     "execution_count": 5
    }
   ],
   "metadata": {}
  },
  {
   "cell_type": "code",
   "execution_count": 6,
   "source": [
    "len(data_fert['Total fertility rate'])"
   ],
   "outputs": [
    {
     "output_type": "execute_result",
     "data": {
      "text/plain": [
       "260"
      ]
     },
     "metadata": {},
     "execution_count": 6
    }
   ],
   "metadata": {}
  },
  {
   "cell_type": "code",
   "execution_count": 7,
   "source": [
    "data_fert.describe()\n",
    "data_fert['Total fertility rate'].unique().shape # 259 unique countries, but includes old names of countries \n",
    "data_fert['Total fertility rate'].unique()\n",
    "\n",
    "counter = []\n",
    "for i in range(len(data_fert['Total fertility rate'])):\n",
    "    if data_fert['Total fertility rate'][i] in list(data_cont['country']):\n",
    "        counter.append(1)\n",
    "sum(counter) # 175 of the countries in the total fertility rate table are also found in the contintents table"
   ],
   "outputs": [
    {
     "output_type": "execute_result",
     "data": {
      "text/plain": [
       "175"
      ]
     },
     "metadata": {},
     "execution_count": 7
    }
   ],
   "metadata": {}
  },
  {
   "cell_type": "code",
   "execution_count": 8,
   "source": [
    "data_fert_2015 = data_fert[['Total fertility rate','2015']].dropna()\n",
    "data_fert_2015.hist(bins=100)\n"
   ],
   "outputs": [
    {
     "output_type": "execute_result",
     "data": {
      "text/plain": [
       "array([[<AxesSubplot:title={'center':'2015'}>]], dtype=object)"
      ]
     },
     "metadata": {},
     "execution_count": 8
    },
    {
     "output_type": "display_data",
     "data": {
      "image/png": "[encoded data removed]",
      "text/plain": [
       "<Figure size 432x288 with 1 Axes>"
      ]
     },
     "metadata": {
      "needs_background": "light"
     }
    }
   ],
   "metadata": {}
  },
  {
   "cell_type": "code",
   "execution_count": 9,
   "source": [
    "data_fert_2015[data_fert_2015['2015']<1.7]"
   ],
   "outputs": [
    {
     "output_type": "execute_result",
     "data": {
      "text/html": [
       "<div>\n",
       "<style scoped>\n",
       "    .dataframe tbody tr th:only-of-type {\n",
       "        vertical-align: middle;\n",
       "    }\n",
       "\n",
       "    .dataframe tbody tr th {\n",
       "        vertical-align: top;\n",
       "    }\n",
       "\n",
       "    .dataframe thead th {\n",
       "        text-align: right;\n",
       "    }\n",
       "</style>\n",
       "<table border=\"1\" class=\"dataframe\">\n",
       "  <thead>\n",
       "    <tr style=\"text-align: right;\">\n",
       "      <th></th>\n",
       "      <th>Total fertility rate</th>\n",
       "      <th>2015</th>\n",
       "    </tr>\n",
       "  </thead>\n",
       "  <tbody>\n",
       "    <tr>\n",
       "      <th>11</th>\n",
       "      <td>Armenia</td>\n",
       "      <td>1.41</td>\n",
       "    </tr>\n",
       "    <tr>\n",
       "      <th>12</th>\n",
       "      <td>Aruba</td>\n",
       "      <td>1.66</td>\n",
       "    </tr>\n",
       "    <tr>\n",
       "      <th>14</th>\n",
       "      <td>Austria</td>\n",
       "      <td>1.50</td>\n",
       "    </tr>\n",
       "    <tr>\n",
       "      <th>20</th>\n",
       "      <td>Belarus</td>\n",
       "      <td>1.51</td>\n",
       "    </tr>\n",
       "    <tr>\n",
       "      <th>27</th>\n",
       "      <td>Bosnia and Herzegovina</td>\n",
       "      <td>1.32</td>\n",
       "    </tr>\n",
       "    <tr>\n",
       "      <th>32</th>\n",
       "      <td>Bulgaria</td>\n",
       "      <td>1.57</td>\n",
       "    </tr>\n",
       "    <tr>\n",
       "      <th>37</th>\n",
       "      <td>Canada</td>\n",
       "      <td>1.68</td>\n",
       "    </tr>\n",
       "    <tr>\n",
       "      <th>42</th>\n",
       "      <td>Channel Islands</td>\n",
       "      <td>1.47</td>\n",
       "    </tr>\n",
       "    <tr>\n",
       "      <th>44</th>\n",
       "      <td>China</td>\n",
       "      <td>1.57</td>\n",
       "    </tr>\n",
       "    <tr>\n",
       "      <th>54</th>\n",
       "      <td>Croatia</td>\n",
       "      <td>1.52</td>\n",
       "    </tr>\n",
       "    <tr>\n",
       "      <th>55</th>\n",
       "      <td>Cuba</td>\n",
       "      <td>1.45</td>\n",
       "    </tr>\n",
       "    <tr>\n",
       "      <th>56</th>\n",
       "      <td>Cyprus</td>\n",
       "      <td>1.46</td>\n",
       "    </tr>\n",
       "    <tr>\n",
       "      <th>57</th>\n",
       "      <td>Czech Republic</td>\n",
       "      <td>1.60</td>\n",
       "    </tr>\n",
       "    <tr>\n",
       "      <th>70</th>\n",
       "      <td>Estonia</td>\n",
       "      <td>1.62</td>\n",
       "    </tr>\n",
       "    <tr>\n",
       "      <th>82</th>\n",
       "      <td>Germany</td>\n",
       "      <td>1.44</td>\n",
       "    </tr>\n",
       "    <tr>\n",
       "      <th>85</th>\n",
       "      <td>Greece</td>\n",
       "      <td>1.55</td>\n",
       "    </tr>\n",
       "    <tr>\n",
       "      <th>98</th>\n",
       "      <td>Hong Kong, China</td>\n",
       "      <td>1.17</td>\n",
       "    </tr>\n",
       "    <tr>\n",
       "      <th>99</th>\n",
       "      <td>Hungary</td>\n",
       "      <td>1.44</td>\n",
       "    </tr>\n",
       "    <tr>\n",
       "      <th>108</th>\n",
       "      <td>Italy</td>\n",
       "      <td>1.52</td>\n",
       "    </tr>\n",
       "    <tr>\n",
       "      <th>110</th>\n",
       "      <td>Japan</td>\n",
       "      <td>1.45</td>\n",
       "    </tr>\n",
       "    <tr>\n",
       "      <th>117</th>\n",
       "      <td>South Korea</td>\n",
       "      <td>1.36</td>\n",
       "    </tr>\n",
       "    <tr>\n",
       "      <th>123</th>\n",
       "      <td>Latvia</td>\n",
       "      <td>1.64</td>\n",
       "    </tr>\n",
       "    <tr>\n",
       "      <th>124</th>\n",
       "      <td>Lebanon</td>\n",
       "      <td>1.49</td>\n",
       "    </tr>\n",
       "    <tr>\n",
       "      <th>129</th>\n",
       "      <td>Lithuania</td>\n",
       "      <td>1.55</td>\n",
       "    </tr>\n",
       "    <tr>\n",
       "      <th>130</th>\n",
       "      <td>Luxembourg</td>\n",
       "      <td>1.69</td>\n",
       "    </tr>\n",
       "    <tr>\n",
       "      <th>131</th>\n",
       "      <td>Macao, China</td>\n",
       "      <td>1.13</td>\n",
       "    </tr>\n",
       "    <tr>\n",
       "      <th>132</th>\n",
       "      <td>Macedonia, FYR</td>\n",
       "      <td>1.43</td>\n",
       "    </tr>\n",
       "    <tr>\n",
       "      <th>138</th>\n",
       "      <td>Malta</td>\n",
       "      <td>1.35</td>\n",
       "    </tr>\n",
       "    <tr>\n",
       "      <th>142</th>\n",
       "      <td>Mauritius</td>\n",
       "      <td>1.50</td>\n",
       "    </tr>\n",
       "    <tr>\n",
       "      <th>146</th>\n",
       "      <td>Moldova</td>\n",
       "      <td>1.45</td>\n",
       "    </tr>\n",
       "    <tr>\n",
       "      <th>149</th>\n",
       "      <td>Montenegro</td>\n",
       "      <td>1.65</td>\n",
       "    </tr>\n",
       "    <tr>\n",
       "      <th>179</th>\n",
       "      <td>Poland</td>\n",
       "      <td>1.44</td>\n",
       "    </tr>\n",
       "    <tr>\n",
       "      <th>180</th>\n",
       "      <td>Portugal</td>\n",
       "      <td>1.31</td>\n",
       "    </tr>\n",
       "    <tr>\n",
       "      <th>181</th>\n",
       "      <td>Puerto Rico</td>\n",
       "      <td>1.62</td>\n",
       "    </tr>\n",
       "    <tr>\n",
       "      <th>184</th>\n",
       "      <td>Romania</td>\n",
       "      <td>1.45</td>\n",
       "    </tr>\n",
       "    <tr>\n",
       "      <th>185</th>\n",
       "      <td>Russia</td>\n",
       "      <td>1.61</td>\n",
       "    </tr>\n",
       "    <tr>\n",
       "      <th>199</th>\n",
       "      <td>Serbia</td>\n",
       "      <td>1.37</td>\n",
       "    </tr>\n",
       "    <tr>\n",
       "      <th>204</th>\n",
       "      <td>Singapore</td>\n",
       "      <td>1.30</td>\n",
       "    </tr>\n",
       "    <tr>\n",
       "      <th>205</th>\n",
       "      <td>Slovak Republic</td>\n",
       "      <td>1.43</td>\n",
       "    </tr>\n",
       "    <tr>\n",
       "      <th>206</th>\n",
       "      <td>Slovenia</td>\n",
       "      <td>1.53</td>\n",
       "    </tr>\n",
       "    <tr>\n",
       "      <th>212</th>\n",
       "      <td>Spain</td>\n",
       "      <td>1.53</td>\n",
       "    </tr>\n",
       "    <tr>\n",
       "      <th>219</th>\n",
       "      <td>Switzerland</td>\n",
       "      <td>1.55</td>\n",
       "    </tr>\n",
       "    <tr>\n",
       "      <th>224</th>\n",
       "      <td>Thailand</td>\n",
       "      <td>1.38</td>\n",
       "    </tr>\n",
       "    <tr>\n",
       "      <th>237</th>\n",
       "      <td>Ukraine</td>\n",
       "      <td>1.49</td>\n",
       "    </tr>\n",
       "  </tbody>\n",
       "</table>\n",
       "</div>"
      ],
      "text/plain": [
       "       Total fertility rate  2015\n",
       "11                  Armenia  1.41\n",
       "12                    Aruba  1.66\n",
       "14                  Austria  1.50\n",
       "20                  Belarus  1.51\n",
       "27   Bosnia and Herzegovina  1.32\n",
       "32                 Bulgaria  1.57\n",
       "37                   Canada  1.68\n",
       "42          Channel Islands  1.47\n",
       "44                    China  1.57\n",
       "54                  Croatia  1.52\n",
       "55                     Cuba  1.45\n",
       "56                   Cyprus  1.46\n",
       "57           Czech Republic  1.60\n",
       "70                  Estonia  1.62\n",
       "82                  Germany  1.44\n",
       "85                   Greece  1.55\n",
       "98         Hong Kong, China  1.17\n",
       "99                  Hungary  1.44\n",
       "108                   Italy  1.52\n",
       "110                   Japan  1.45\n",
       "117             South Korea  1.36\n",
       "123                  Latvia  1.64\n",
       "124                 Lebanon  1.49\n",
       "129               Lithuania  1.55\n",
       "130              Luxembourg  1.69\n",
       "131            Macao, China  1.13\n",
       "132          Macedonia, FYR  1.43\n",
       "138                   Malta  1.35\n",
       "142               Mauritius  1.50\n",
       "146                 Moldova  1.45\n",
       "149              Montenegro  1.65\n",
       "179                  Poland  1.44\n",
       "180                Portugal  1.31\n",
       "181             Puerto Rico  1.62\n",
       "184                 Romania  1.45\n",
       "185                  Russia  1.61\n",
       "199                  Serbia  1.37\n",
       "204               Singapore  1.30\n",
       "205         Slovak Republic  1.43\n",
       "206                Slovenia  1.53\n",
       "212                   Spain  1.53\n",
       "219             Switzerland  1.55\n",
       "224                Thailand  1.38\n",
       "237                 Ukraine  1.49"
      ]
     },
     "metadata": {},
     "execution_count": 9
    }
   ],
   "metadata": {}
  },
  {
   "cell_type": "markdown",
   "source": [
    "### Life Expectancy table"
   ],
   "metadata": {}
  },
  {
   "cell_type": "code",
   "execution_count": 10,
   "source": [
    "data_lifeexp\n",
    "print(data_lifeexp.columns)\n",
    "data_lifeexp.isna().sum().max() # missing data must be corrected, column max # of na's is 59\n",
    "\n",
    "counter = []\n",
    "for i, country in enumerate(data_lifeexp['Life expectancy']):\n",
    "    if country in list(data_cont['country']):\n",
    "        counter.append(1)\n",
    "sum(counter) # 176 of the countries in the life expectancy table also in continents table"
   ],
   "outputs": [
    {
     "output_type": "stream",
     "name": "stdout",
     "text": [
      "Index(['Life expectancy',            1800.0,            1801.0,\n",
      "                  1802.0,            1803.0,            1804.0,\n",
      "                  1805.0,            1806.0,            1807.0,\n",
      "                  1808.0,\n",
      "       ...\n",
      "                  2007.0,            2008.0,            2009.0,\n",
      "                  2010.0,            2011.0,            2012.0,\n",
      "                  2013.0,            2014.0,            2015.0,\n",
      "                  2016.0],\n",
      "      dtype='object', length=218)\n"
     ]
    },
    {
     "output_type": "execute_result",
     "data": {
      "text/plain": [
       "176"
      ]
     },
     "metadata": {},
     "execution_count": 10
    }
   ],
   "metadata": {}
  },
  {
   "cell_type": "code",
   "execution_count": 11,
   "source": [
    "data_lifeexp_2015 = data_lifeexp[['Life expectancy',2015]].dropna()\n",
    "data_lifeexp_2015.hist(bins=20)"
   ],
   "outputs": [
    {
     "output_type": "execute_result",
     "data": {
      "text/plain": [
       "array([[<AxesSubplot:title={'center':'2015.0'}>]], dtype=object)"
      ]
     },
     "metadata": {},
     "execution_count": 11
    },
    {
     "output_type": "display_data",
     "data": {
      "image/png": "[encoded data removed]",
      "text/plain": [
       "<Figure size 432x288 with 1 Axes>"
      ]
     },
     "metadata": {
      "needs_background": "light"
     }
    }
   ],
   "metadata": {}
  },
  {
   "cell_type": "markdown",
   "source": [
    "### Populations table"
   ],
   "metadata": {}
  },
  {
   "cell_type": "code",
   "execution_count": 12,
   "source": [
    "data_pop\n",
    "data_pop.shape\n",
    "print(data_pop.columns)\n",
    "data_pop = data_pop[data_pop.columns.drop(list(data_pop.filter(regex='Unnamed:')))]\n",
    "data_pop\n",
    "data_pop.isna().sum().max() # missing data must be corrected, column max # of na's is 46, which means all values are missing\n",
    "\n",
    "counter = []\n",
    "for i, country in enumerate(data_pop['Total population']):\n",
    "    if country in list(data_cont['country']):\n",
    "        counter.append(1)\n",
    "sum(counter) # 176 of the countries in the life expectancy table also in populations table"
   ],
   "outputs": [
    {
     "output_type": "stream",
     "name": "stdout",
     "text": [
      "Index(['Total population',             1800.0,             1810.0,\n",
      "                   1820.0,             1830.0,             1840.0,\n",
      "                   1850.0,             1860.0,             1870.0,\n",
      "                   1880.0,             1890.0,             1900.0,\n",
      "                   1910.0,             1920.0,             1930.0,\n",
      "                   1940.0,             1950.0,             1951.0,\n",
      "                   1952.0,             1953.0,             1954.0,\n",
      "                   1955.0,             1956.0,             1957.0,\n",
      "                   1958.0,             1959.0,             1960.0,\n",
      "                   1961.0,             1962.0,             1963.0,\n",
      "                   1964.0,             1965.0,             1966.0,\n",
      "                   1967.0,             1968.0,             1969.0,\n",
      "                   1970.0,             1971.0,             1972.0,\n",
      "                   1973.0,             1974.0,             1975.0,\n",
      "                   1976.0,             1977.0,             1978.0,\n",
      "                   1979.0,             1980.0,             1981.0,\n",
      "                   1982.0,             1983.0,             1984.0,\n",
      "                   1985.0,             1986.0,             1987.0,\n",
      "                   1988.0,             1989.0,             1990.0,\n",
      "                   1991.0,             1992.0,             1993.0,\n",
      "                   1994.0,             1995.0,             1996.0,\n",
      "                   1997.0,             1998.0,             1999.0,\n",
      "                   2000.0,             2001.0,             2002.0,\n",
      "                   2003.0,             2004.0,             2005.0,\n",
      "                   2006.0,             2007.0,             2008.0,\n",
      "                   2009.0,             2010.0,             2011.0,\n",
      "                   2012.0,             2013.0,             2014.0,\n",
      "                   2015.0],\n",
      "      dtype='object')\n"
     ]
    },
    {
     "output_type": "execute_result",
     "data": {
      "text/plain": [
       "176"
      ]
     },
     "metadata": {},
     "execution_count": 12
    }
   ],
   "metadata": {}
  },
  {
   "cell_type": "code",
   "execution_count": 13,
   "source": [
    "data_pop_2015 = data_pop[['Total population', 2015]].dropna()\n",
    "data_pop_2015.hist(bins=100)\n",
    "q3 = data_pop_2015.quantile(0.75)\n",
    "q1 = data_pop_2015.quantile(0.25)\n",
    "outl_thres = int(q3 + 1.5 * (q3 - q1))\n",
    "\n",
    "data_pop_2015_no_outl = data_pop_2015[data_pop_2015[2015]<outl_thres]\n",
    "data_pop_2015_no_outl.hist(bins=20)\n",
    "\n",
    "data_pop_2015[data_pop_2015[2015]>1000000000] # China and India are clear outliers"
   ],
   "outputs": [
    {
     "output_type": "execute_result",
     "data": {
      "text/html": [
       "<div>\n",
       "<style scoped>\n",
       "    .dataframe tbody tr th:only-of-type {\n",
       "        vertical-align: middle;\n",
       "    }\n",
       "\n",
       "    .dataframe tbody tr th {\n",
       "        vertical-align: top;\n",
       "    }\n",
       "\n",
       "    .dataframe thead th {\n",
       "        text-align: right;\n",
       "    }\n",
       "</style>\n",
       "<table border=\"1\" class=\"dataframe\">\n",
       "  <thead>\n",
       "    <tr style=\"text-align: right;\">\n",
       "      <th></th>\n",
       "      <th>Total population</th>\n",
       "      <th>2015.0</th>\n",
       "    </tr>\n",
       "  </thead>\n",
       "  <tbody>\n",
       "    <tr>\n",
       "      <th>44</th>\n",
       "      <td>China</td>\n",
       "      <td>1.376049e+09</td>\n",
       "    </tr>\n",
       "    <tr>\n",
       "      <th>101</th>\n",
       "      <td>India</td>\n",
       "      <td>1.311051e+09</td>\n",
       "    </tr>\n",
       "  </tbody>\n",
       "</table>\n",
       "</div>"
      ],
      "text/plain": [
       "    Total population        2015.0\n",
       "44             China  1.376049e+09\n",
       "101            India  1.311051e+09"
      ]
     },
     "metadata": {},
     "execution_count": 13
    },
    {
     "output_type": "display_data",
     "data": {
      "image/png": "[encoded data removed]",
      "text/plain": [
       "<Figure size 432x288 with 1 Axes>"
      ]
     },
     "metadata": {
      "needs_background": "light"
     }
    },
    {
     "output_type": "display_data",
     "data": {
      "image/png": "[encoded data removed]",
      "text/plain": [
       "<Figure size 432x288 with 1 Axes>"
      ]
     },
     "metadata": {
      "needs_background": "light"
     }
    }
   ],
   "metadata": {}
  },
  {
   "cell_type": "markdown",
   "source": [
    "### Internet Users table"
   ],
   "metadata": {}
  },
  {
   "cell_type": "code",
   "execution_count": 109,
   "source": [
    "data_internet.isna().sum().max() # remove na's, max 34\n",
    "data_internet\n"
   ],
   "outputs": [
    {
     "output_type": "execute_result",
     "data": {
      "text/html": [
       "<div>\n",
       "<style scoped>\n",
       "    .dataframe tbody tr th:only-of-type {\n",
       "        vertical-align: middle;\n",
       "    }\n",
       "\n",
       "    .dataframe tbody tr th {\n",
       "        vertical-align: top;\n",
       "    }\n",
       "\n",
       "    .dataframe thead th {\n",
       "        text-align: right;\n",
       "    }\n",
       "</style>\n",
       "<table border=\"1\" class=\"dataframe\">\n",
       "  <thead>\n",
       "    <tr style=\"text-align: right;\">\n",
       "      <th></th>\n",
       "      <th>country</th>\n",
       "      <th>year</th>\n",
       "      <th>internet_users</th>\n",
       "    </tr>\n",
       "  </thead>\n",
       "  <tbody>\n",
       "    <tr>\n",
       "      <th>0</th>\n",
       "      <td>Afghanistan</td>\n",
       "      <td>1990</td>\n",
       "      <td>0.0</td>\n",
       "    </tr>\n",
       "    <tr>\n",
       "      <th>1</th>\n",
       "      <td>Angola</td>\n",
       "      <td>1990</td>\n",
       "      <td>0.0</td>\n",
       "    </tr>\n",
       "    <tr>\n",
       "      <th>2</th>\n",
       "      <td>Albania</td>\n",
       "      <td>1990</td>\n",
       "      <td>0.0</td>\n",
       "    </tr>\n",
       "    <tr>\n",
       "      <th>3</th>\n",
       "      <td>Andorra</td>\n",
       "      <td>1990</td>\n",
       "      <td>0.0</td>\n",
       "    </tr>\n",
       "    <tr>\n",
       "      <th>4</th>\n",
       "      <td>United Arab Emirates</td>\n",
       "      <td>1990</td>\n",
       "      <td>0.0</td>\n",
       "    </tr>\n",
       "    <tr>\n",
       "      <th>...</th>\n",
       "      <td>...</td>\n",
       "      <td>...</td>\n",
       "      <td>...</td>\n",
       "    </tr>\n",
       "    <tr>\n",
       "      <th>5875</th>\n",
       "      <td>Samoa</td>\n",
       "      <td>2019</td>\n",
       "      <td>66200.0</td>\n",
       "    </tr>\n",
       "    <tr>\n",
       "      <th>5876</th>\n",
       "      <td>Yemen</td>\n",
       "      <td>2019</td>\n",
       "      <td>7790000.0</td>\n",
       "    </tr>\n",
       "    <tr>\n",
       "      <th>5877</th>\n",
       "      <td>South Africa</td>\n",
       "      <td>2019</td>\n",
       "      <td>32900000.0</td>\n",
       "    </tr>\n",
       "    <tr>\n",
       "      <th>5878</th>\n",
       "      <td>Zambia</td>\n",
       "      <td>2019</td>\n",
       "      <td>2550000.0</td>\n",
       "    </tr>\n",
       "    <tr>\n",
       "      <th>5879</th>\n",
       "      <td>Zimbabwe</td>\n",
       "      <td>2019</td>\n",
       "      <td>3960000.0</td>\n",
       "    </tr>\n",
       "  </tbody>\n",
       "</table>\n",
       "<p>5880 rows × 3 columns</p>\n",
       "</div>"
      ],
      "text/plain": [
       "                   country  year  internet_users\n",
       "0              Afghanistan  1990             0.0\n",
       "1                   Angola  1990             0.0\n",
       "2                  Albania  1990             0.0\n",
       "3                  Andorra  1990             0.0\n",
       "4     United Arab Emirates  1990             0.0\n",
       "...                    ...   ...             ...\n",
       "5875                 Samoa  2019         66200.0\n",
       "5876                 Yemen  2019       7790000.0\n",
       "5877          South Africa  2019      32900000.0\n",
       "5878                Zambia  2019       2550000.0\n",
       "5879              Zimbabwe  2019       3960000.0\n",
       "\n",
       "[5880 rows x 3 columns]"
      ]
     },
     "metadata": {},
     "execution_count": 109
    }
   ],
   "metadata": {}
  },
  {
   "cell_type": "markdown",
   "source": [
    "## Data wrangling"
   ],
   "metadata": {}
  },
  {
   "cell_type": "markdown",
   "source": [
    "### Clean"
   ],
   "metadata": {}
  },
  {
   "cell_type": "code",
   "execution_count": 179,
   "source": [
    "df_cont = data_cont\n",
    "\n",
    "df_fert = pd.melt(data_fert,id_vars = 'Total fertility rate').dropna()\n",
    "df_fert.columns = ['country', 'year', 'fertility_rate']\n",
    "df_fert = df_fert.astype({'year': 'int', 'fertility_rate': 'float'})\n",
    "\n",
    "df_lifeexp = pd.melt(data_lifeexp, id_vars = \"Life expectancy\").dropna()\n",
    "df_lifeexp.columns = ['country', 'year', 'life_expectancy']\n",
    "df_lifeexp = df_lifeexp.astype({'year': 'int', 'life_expectancy': 'float'})\n",
    "\n",
    "df_pop = pd.melt(data_pop, id_vars = 'Total population').dropna()\n",
    "df_pop.columns = ['country', 'year', 'total_population']\n",
    "df_pop = df_pop.astype({'year': 'int', 'total_population': 'int'})\n",
    "\n",
    "df_internet = data_internet.melt(id_vars='country')\n",
    "df_internet.columns = ['country', 'year', 'internet_users']\n",
    "df_internet['short_number'] = df_internet['internet_users'].apply(lambda x: 1000000 if str(x)[-1] == 'M' else (1000 if str(x)[-1] == 'k' else 1))\n",
    "df_internet['internet_users'] = df_internet['internet_users'].str.replace('M', '')\n",
    "df_internet['internet_users'] = df_internet['internet_users'].str.replace('k', '').astype(float)\n",
    "df_internet['internet_users'] = df_internet['internet_users'] * df_internet['short_number']\n",
    "df_internet.drop('short_number', inplace=True, axis=1)\n",
    "\n",
    "df_internet['country'] = df_internet['country'].astype(str)\n",
    "df_internet['year'] = df_internet['year'].astype(int)\n",
    "\n",
    "df_merge['internet_users'].replace(0.0,np.nan,inplace=True)\n",
    "df_merge['internet_users_log'] = np.log2(df_merge['internet_users'])\n",
    "\n",
    "\n",
    "print(\n",
    "    'df_fert shape:', df_fert.shape,\n",
    "    '\\ndf_lifeexp shape:', df_lifeexp.shape,\n",
    "    '\\ndf_pop shape', df_pop.shape,\n",
    "    '\\ndf_internet', df_internet.shape\n",
    "    )"
   ],
   "outputs": [
    {
     "output_type": "stream",
     "name": "stdout",
     "text": [
      "df_fert shape: (43412, 3) \n",
      "df_lifeexp shape: (43857, 3) \n",
      "df_pop shape (20176, 3) \n",
      "df_internet (5880, 3)\n"
     ]
    }
   ],
   "metadata": {}
  },
  {
   "cell_type": "code",
   "execution_count": 116,
   "source": [
    "df_internet['country'].dtype"
   ],
   "outputs": [
    {
     "output_type": "execute_result",
     "data": {
      "text/plain": [
       "dtype('O')"
      ]
     },
     "metadata": {},
     "execution_count": 116
    }
   ],
   "metadata": {}
  },
  {
   "cell_type": "markdown",
   "source": [
    "### Merge"
   ],
   "metadata": {}
  },
  {
   "cell_type": "code",
   "execution_count": 125,
   "source": [
    "df_merge = df_pop.merge(df_fert, how='left', on=['country','year']).merge(df_lifeexp, how='left', on=['country','year']).merge(df_cont, how='left', on='country').merge(df_internet, how='left', on=['country','year'])"
   ],
   "outputs": [],
   "metadata": {}
  },
  {
   "cell_type": "markdown",
   "source": [
    "## Sample Plots"
   ],
   "metadata": {}
  },
  {
   "cell_type": "code",
   "execution_count": 120,
   "source": [
    "pd.plotting.scatter_matrix(df_merge[df_merge['year']==2015][['fertility_rate']])\n",
    "despine=True"
   ],
   "outputs": [
    {
     "output_type": "display_data",
     "data": {
      "image/png": "[encoded data removed]",
      "text/plain": [
       "<Figure size 432x288 with 1 Axes>"
      ]
     },
     "metadata": {
      "needs_background": "light"
     }
    }
   ],
   "metadata": {}
  },
  {
   "cell_type": "code",
   "execution_count": 126,
   "source": [
    "df_plot = df_merge[(df_merge['year']==2015) & (~df_merge['country'].isin(['China', 'India']))]"
   ],
   "outputs": [],
   "metadata": {}
  },
  {
   "cell_type": "code",
   "execution_count": 127,
   "source": [
    "pd.plotting.scatter_matrix(df_plot[['fertility_rate', 'life_expectancy', 'total_population','internet_users']], figsize=(12,8))\n",
    "despine=True\n",
    "# EXCLUDES CHINA AND INDIA"
   ],
   "outputs": [
    {
     "output_type": "display_data",
     "data": {
      "image/png": "[encoded data removed]",
      "text/plain": [
       "<Figure size 864x576 with 16 Axes>"
      ]
     },
     "metadata": {
      "needs_background": "light"
     }
    }
   ],
   "metadata": {}
  },
  {
   "cell_type": "code",
   "execution_count": 128,
   "source": [
    "# Parameters\n",
    "x = 'fertility_rate'\n",
    "y = 'life_expectancy'\n",
    "year = 2015"
   ],
   "outputs": [],
   "metadata": {}
  },
  {
   "cell_type": "code",
   "execution_count": 129,
   "source": [
    "plt.scatter(df_plot[x], df_plot[y])\n",
    "df_plot[[x, y]].corr(method='pearson')"
   ],
   "outputs": [
    {
     "output_type": "execute_result",
     "data": {
      "text/html": [
       "<div>\n",
       "<style scoped>\n",
       "    .dataframe tbody tr th:only-of-type {\n",
       "        vertical-align: middle;\n",
       "    }\n",
       "\n",
       "    .dataframe tbody tr th {\n",
       "        vertical-align: top;\n",
       "    }\n",
       "\n",
       "    .dataframe thead th {\n",
       "        text-align: right;\n",
       "    }\n",
       "</style>\n",
       "<table border=\"1\" class=\"dataframe\">\n",
       "  <thead>\n",
       "    <tr style=\"text-align: right;\">\n",
       "      <th></th>\n",
       "      <th>fertility_rate</th>\n",
       "      <th>life_expectancy</th>\n",
       "    </tr>\n",
       "  </thead>\n",
       "  <tbody>\n",
       "    <tr>\n",
       "      <th>fertility_rate</th>\n",
       "      <td>1.000000</td>\n",
       "      <td>-0.756996</td>\n",
       "    </tr>\n",
       "    <tr>\n",
       "      <th>life_expectancy</th>\n",
       "      <td>-0.756996</td>\n",
       "      <td>1.000000</td>\n",
       "    </tr>\n",
       "  </tbody>\n",
       "</table>\n",
       "</div>"
      ],
      "text/plain": [
       "                 fertility_rate  life_expectancy\n",
       "fertility_rate         1.000000        -0.756996\n",
       "life_expectancy       -0.756996         1.000000"
      ]
     },
     "metadata": {},
     "execution_count": 129
    },
    {
     "output_type": "display_data",
     "data": {
      "image/png": "[encoded data removed]",
      "text/plain": [
       "<Figure size 432x288 with 1 Axes>"
      ]
     },
     "metadata": {
      "needs_background": "light"
     }
    }
   ],
   "metadata": {}
  },
  {
   "cell_type": "code",
   "execution_count": 130,
   "source": [
    "#fert_avg = df_merge[df_merge['year']>1900].groupby('year')['fertility_rate'].mean()\n",
    "#plt.plot(fert_avg)\n",
    "\n",
    "df_exper_1960 = df_merge[df_merge['year']==1960][['country','fertility_rate']]\n",
    "df_exper_1960.rename(columns={'country':'country', 'fertility_rate': 'fert_rate_1960'}, inplace=True)\n",
    "\n",
    "df_exper_2015 = df_merge[df_merge['year']==2015][['country','fertility_rate']]\n",
    "df_exper_2015.rename(columns={'country':'country', 'fertility_rate': 'fert_rate_2015'}, inplace=True)\n",
    "\n",
    "df_exper = df_exper_1960.merge(df_exper_2015)\n",
    "df_exper.set_index('country')\n",
    "df_exper['fert_delta'] = df_exper['fert_rate_2015'] - df_exper['fert_rate_1960']\n",
    "df_exper = df_exper.sort_values('fert_delta')\n",
    "df_exper.head(30)\n"
   ],
   "outputs": [
    {
     "output_type": "execute_result",
     "data": {
      "text/html": [
       "<div>\n",
       "<style scoped>\n",
       "    .dataframe tbody tr th:only-of-type {\n",
       "        vertical-align: middle;\n",
       "    }\n",
       "\n",
       "    .dataframe tbody tr th {\n",
       "        vertical-align: top;\n",
       "    }\n",
       "\n",
       "    .dataframe thead th {\n",
       "        text-align: right;\n",
       "    }\n",
       "</style>\n",
       "<table border=\"1\" class=\"dataframe\">\n",
       "  <thead>\n",
       "    <tr style=\"text-align: right;\">\n",
       "      <th></th>\n",
       "      <th>country</th>\n",
       "      <th>fert_rate_1960</th>\n",
       "      <th>fert_rate_2015</th>\n",
       "      <th>fert_delta</th>\n",
       "    </tr>\n",
       "  </thead>\n",
       "  <tbody>\n",
       "    <tr>\n",
       "      <th>48</th>\n",
       "      <td>Costa Rica</td>\n",
       "      <td>7.31</td>\n",
       "      <td>1.77</td>\n",
       "      <td>-5.54</td>\n",
       "    </tr>\n",
       "    <tr>\n",
       "      <th>116</th>\n",
       "      <td>Libya</td>\n",
       "      <td>7.54</td>\n",
       "      <td>2.26</td>\n",
       "      <td>-5.28</td>\n",
       "    </tr>\n",
       "    <tr>\n",
       "      <th>174</th>\n",
       "      <td>St. Vincent and the Grenadines</td>\n",
       "      <td>7.22</td>\n",
       "      <td>1.95</td>\n",
       "      <td>-5.27</td>\n",
       "    </tr>\n",
       "    <tr>\n",
       "      <th>213</th>\n",
       "      <td>United Arab Emirates</td>\n",
       "      <td>6.93</td>\n",
       "      <td>1.77</td>\n",
       "      <td>-5.16</td>\n",
       "    </tr>\n",
       "    <tr>\n",
       "      <th>57</th>\n",
       "      <td>Dominican Republic</td>\n",
       "      <td>7.56</td>\n",
       "      <td>2.42</td>\n",
       "      <td>-5.14</td>\n",
       "    </tr>\n",
       "    <tr>\n",
       "      <th>173</th>\n",
       "      <td>St. Lucia</td>\n",
       "      <td>6.97</td>\n",
       "      <td>1.87</td>\n",
       "      <td>-5.10</td>\n",
       "    </tr>\n",
       "    <tr>\n",
       "      <th>206</th>\n",
       "      <td>Tunisia</td>\n",
       "      <td>7.04</td>\n",
       "      <td>1.97</td>\n",
       "      <td>-5.07</td>\n",
       "    </tr>\n",
       "    <tr>\n",
       "      <th>15</th>\n",
       "      <td>Bahrain</td>\n",
       "      <td>7.09</td>\n",
       "      <td>2.03</td>\n",
       "      <td>-5.06</td>\n",
       "    </tr>\n",
       "    <tr>\n",
       "      <th>95</th>\n",
       "      <td>Iran</td>\n",
       "      <td>6.93</td>\n",
       "      <td>1.91</td>\n",
       "      <td>-5.02</td>\n",
       "    </tr>\n",
       "    <tr>\n",
       "      <th>166</th>\n",
       "      <td>Qatar</td>\n",
       "      <td>6.97</td>\n",
       "      <td>1.98</td>\n",
       "      <td>-4.99</td>\n",
       "    </tr>\n",
       "    <tr>\n",
       "      <th>2</th>\n",
       "      <td>Algeria</td>\n",
       "      <td>7.65</td>\n",
       "      <td>2.71</td>\n",
       "      <td>-4.94</td>\n",
       "    </tr>\n",
       "    <tr>\n",
       "      <th>149</th>\n",
       "      <td>Nicaragua</td>\n",
       "      <td>7.34</td>\n",
       "      <td>2.42</td>\n",
       "      <td>-4.92</td>\n",
       "    </tr>\n",
       "    <tr>\n",
       "      <th>125</th>\n",
       "      <td>Maldives</td>\n",
       "      <td>7.02</td>\n",
       "      <td>2.18</td>\n",
       "      <td>-4.84</td>\n",
       "    </tr>\n",
       "    <tr>\n",
       "      <th>108</th>\n",
       "      <td>South Korea</td>\n",
       "      <td>6.16</td>\n",
       "      <td>1.36</td>\n",
       "      <td>-4.80</td>\n",
       "    </tr>\n",
       "    <tr>\n",
       "      <th>200</th>\n",
       "      <td>Thailand</td>\n",
       "      <td>6.15</td>\n",
       "      <td>1.38</td>\n",
       "      <td>-4.77</td>\n",
       "    </tr>\n",
       "    <tr>\n",
       "      <th>109</th>\n",
       "      <td>Kuwait</td>\n",
       "      <td>7.25</td>\n",
       "      <td>2.55</td>\n",
       "      <td>-4.70</td>\n",
       "    </tr>\n",
       "    <tr>\n",
       "      <th>179</th>\n",
       "      <td>Saudi Arabia</td>\n",
       "      <td>7.22</td>\n",
       "      <td>2.54</td>\n",
       "      <td>-4.68</td>\n",
       "    </tr>\n",
       "    <tr>\n",
       "      <th>131</th>\n",
       "      <td>Mauritius</td>\n",
       "      <td>6.17</td>\n",
       "      <td>1.50</td>\n",
       "      <td>-4.67</td>\n",
       "    </tr>\n",
       "    <tr>\n",
       "      <th>36</th>\n",
       "      <td>Cape Verde</td>\n",
       "      <td>6.89</td>\n",
       "      <td>2.22</td>\n",
       "      <td>-4.67</td>\n",
       "    </tr>\n",
       "    <tr>\n",
       "      <th>133</th>\n",
       "      <td>Mexico</td>\n",
       "      <td>6.78</td>\n",
       "      <td>2.13</td>\n",
       "      <td>-4.65</td>\n",
       "    </tr>\n",
       "    <tr>\n",
       "      <th>223</th>\n",
       "      <td>Vietnam</td>\n",
       "      <td>6.35</td>\n",
       "      <td>1.70</td>\n",
       "      <td>-4.65</td>\n",
       "    </tr>\n",
       "    <tr>\n",
       "      <th>80</th>\n",
       "      <td>Grenada</td>\n",
       "      <td>6.74</td>\n",
       "      <td>2.13</td>\n",
       "      <td>-4.61</td>\n",
       "    </tr>\n",
       "    <tr>\n",
       "      <th>16</th>\n",
       "      <td>Bangladesh</td>\n",
       "      <td>6.73</td>\n",
       "      <td>2.12</td>\n",
       "      <td>-4.61</td>\n",
       "    </tr>\n",
       "    <tr>\n",
       "      <th>60</th>\n",
       "      <td>El Salvador</td>\n",
       "      <td>6.73</td>\n",
       "      <td>2.14</td>\n",
       "      <td>-4.59</td>\n",
       "    </tr>\n",
       "    <tr>\n",
       "      <th>197</th>\n",
       "      <td>Syria</td>\n",
       "      <td>7.47</td>\n",
       "      <td>2.88</td>\n",
       "      <td>-4.59</td>\n",
       "    </tr>\n",
       "    <tr>\n",
       "      <th>43</th>\n",
       "      <td>Colombia</td>\n",
       "      <td>6.81</td>\n",
       "      <td>2.23</td>\n",
       "      <td>-4.58</td>\n",
       "    </tr>\n",
       "    <tr>\n",
       "      <th>103</th>\n",
       "      <td>Jordan</td>\n",
       "      <td>7.69</td>\n",
       "      <td>3.12</td>\n",
       "      <td>-4.57</td>\n",
       "    </tr>\n",
       "    <tr>\n",
       "      <th>137</th>\n",
       "      <td>Mongolia</td>\n",
       "      <td>6.95</td>\n",
       "      <td>2.40</td>\n",
       "      <td>-4.55</td>\n",
       "    </tr>\n",
       "    <tr>\n",
       "      <th>89</th>\n",
       "      <td>Honduras</td>\n",
       "      <td>7.46</td>\n",
       "      <td>2.91</td>\n",
       "      <td>-4.55</td>\n",
       "    </tr>\n",
       "    <tr>\n",
       "      <th>29</th>\n",
       "      <td>Brunei</td>\n",
       "      <td>6.49</td>\n",
       "      <td>1.96</td>\n",
       "      <td>-4.53</td>\n",
       "    </tr>\n",
       "  </tbody>\n",
       "</table>\n",
       "</div>"
      ],
      "text/plain": [
       "                            country  fert_rate_1960  fert_rate_2015  \\\n",
       "48                       Costa Rica            7.31            1.77   \n",
       "116                           Libya            7.54            2.26   \n",
       "174  St. Vincent and the Grenadines            7.22            1.95   \n",
       "213            United Arab Emirates            6.93            1.77   \n",
       "57               Dominican Republic            7.56            2.42   \n",
       "173                       St. Lucia            6.97            1.87   \n",
       "206                         Tunisia            7.04            1.97   \n",
       "15                          Bahrain            7.09            2.03   \n",
       "95                             Iran            6.93            1.91   \n",
       "166                           Qatar            6.97            1.98   \n",
       "2                           Algeria            7.65            2.71   \n",
       "149                       Nicaragua            7.34            2.42   \n",
       "125                        Maldives            7.02            2.18   \n",
       "108                     South Korea            6.16            1.36   \n",
       "200                        Thailand            6.15            1.38   \n",
       "109                          Kuwait            7.25            2.55   \n",
       "179                    Saudi Arabia            7.22            2.54   \n",
       "131                       Mauritius            6.17            1.50   \n",
       "36                       Cape Verde            6.89            2.22   \n",
       "133                          Mexico            6.78            2.13   \n",
       "223                         Vietnam            6.35            1.70   \n",
       "80                          Grenada            6.74            2.13   \n",
       "16                       Bangladesh            6.73            2.12   \n",
       "60                      El Salvador            6.73            2.14   \n",
       "197                           Syria            7.47            2.88   \n",
       "43                         Colombia            6.81            2.23   \n",
       "103                          Jordan            7.69            3.12   \n",
       "137                        Mongolia            6.95            2.40   \n",
       "89                         Honduras            7.46            2.91   \n",
       "29                           Brunei            6.49            1.96   \n",
       "\n",
       "     fert_delta  \n",
       "48        -5.54  \n",
       "116       -5.28  \n",
       "174       -5.27  \n",
       "213       -5.16  \n",
       "57        -5.14  \n",
       "173       -5.10  \n",
       "206       -5.07  \n",
       "15        -5.06  \n",
       "95        -5.02  \n",
       "166       -4.99  \n",
       "2         -4.94  \n",
       "149       -4.92  \n",
       "125       -4.84  \n",
       "108       -4.80  \n",
       "200       -4.77  \n",
       "109       -4.70  \n",
       "179       -4.68  \n",
       "131       -4.67  \n",
       "36        -4.67  \n",
       "133       -4.65  \n",
       "223       -4.65  \n",
       "80        -4.61  \n",
       "16        -4.61  \n",
       "60        -4.59  \n",
       "197       -4.59  \n",
       "43        -4.58  \n",
       "103       -4.57  \n",
       "137       -4.55  \n",
       "89        -4.55  \n",
       "29        -4.53  "
      ]
     },
     "metadata": {},
     "execution_count": 130
    }
   ],
   "metadata": {}
  },
  {
   "cell_type": "markdown",
   "source": [
    "## Animated Scatter plot"
   ],
   "metadata": {}
  },
  {
   "cell_type": "markdown",
   "source": [
    "### Practice"
   ],
   "metadata": {}
  },
  {
   "cell_type": "code",
   "execution_count": 133,
   "source": [
    "plt.style.use('seaborn')\n",
    "\n",
    "for year in range(1960, 2015+1):\n",
    "    plt.axis((0,10,0,90))\n",
    "    df_split = df_merge[df_merge['year']==year]\n",
    "    plt.scatter(x=df_split['fertility_rate'], y=df_split['life_expectancy'], s=df_split['total_population']/5000000)\n",
    "    plt.title('Progress of Countries', size=20)\n",
    "    plt.xlabel('Fertility Rate', size=15)\n",
    "    plt.ylabel('Life Expectancy', size=15)\n",
    "    plt.legend([str(year)], fontsize='x-large')\n",
    "    plt.savefig('data/lifeexp_'+str(year)+'.png', dpi=200)\n",
    "    plt.close()"
   ],
   "outputs": [],
   "metadata": {}
  },
  {
   "cell_type": "code",
   "execution_count": 134,
   "source": [
    "import imageio\n",
    "\n",
    "images =[]\n",
    "\n",
    "for i in range(1960, 2015+1):\n",
    "    filename = 'data/lifeexp_{}.png'.format(i)\n",
    "    images.append(imageio.imread(filename))\n",
    "\n",
    "imageio.mimsave('output.gif', images, fps=12)"
   ],
   "outputs": [],
   "metadata": {}
  },
  {
   "cell_type": "markdown",
   "source": [
    "### Internet Users Graph"
   ],
   "metadata": {}
  },
  {
   "cell_type": "code",
   "execution_count": 175,
   "source": [
    "plt.style.use('seaborn')\n",
    "\n",
    "for year in range(1990, 2015+1):\n",
    "    plt.axis((0,30,0,10))\n",
    "    \n",
    "    df_split = df_merge[df_merge['year']==year]\n",
    "    plt.scatter(x=df_split['internet_users_log'], y=df_split['fertility_rate'], s=df_split['total_population']/5000000)\n",
    "    \n",
    "    plt.title('Preference of Couples', size=20)\n",
    "    plt.xlabel('Log of Internet Users', size=15)\n",
    "    plt.ylabel('Fertility Rate', size=15)\n",
    "    plt.legend([str(year)], fontsize='x-large')\n",
    "    \n",
    "    plt.savefig('data/lifeexp_'+str(year)+'.png', dpi=200)\n",
    "    plt.close()"
   ],
   "outputs": [],
   "metadata": {}
  },
  {
   "cell_type": "code",
   "execution_count": 176,
   "source": [
    "import imageio\n",
    "\n",
    "images =[]\n",
    "\n",
    "for i in range(1990, 2015+1):\n",
    "    filename = 'data/lifeexp_{}.png'.format(i)\n",
    "    images.append(imageio.imread(filename))\n",
    "\n",
    "imageio.mimsave('output.gif', images, fps=4)"
   ],
   "outputs": [],
   "metadata": {}
  },
  {
   "cell_type": "code",
   "execution_count": null,
   "source": [],
   "outputs": [],
   "metadata": {}
  }
 ],
 "metadata": {
  "kernelspec": {
   "name": "python3",
   "display_name": "Python 3.7.11 64-bit ('myenv': conda)"
  },
  "language_info": {
   "name": "python",
   "version": "3.7.11",
   "mimetype": "text/x-python",
   "codemirror_mode": {
    "name": "ipython",
    "version": 3
   },
   "pygments_lexer": "ipython3",
   "nbconvert_exporter": "python",
   "file_extension": ".py"
  },
  "interpreter": {
   "hash": "f5c9dfabb21bd2a91b63810df81acbdc6b5e617e45414f0ef050ca96090c868f"
  }
 },
 "nbformat": 4,
 "nbformat_minor": 5
}