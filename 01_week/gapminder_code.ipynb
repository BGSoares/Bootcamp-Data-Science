{
 "cells": [
  {
   "cell_type": "markdown",
   "source": [
    "# Week 1 Project: Gapminder Scatter Plot\n",
    "##### Brunno Gorgulho Soares"
   ],
   "metadata": {}
  },
  {
   "cell_type": "markdown",
   "source": [
    "## Setup"
   ],
   "metadata": {}
  },
  {
   "cell_type": "code",
   "execution_count": 1,
   "source": [
    "# Load Packages\n",
    "import pandas as pd\n",
    "import matplotlib.pyplot as plt\n",
    "import seaborn as sns\n",
    "import time"
   ],
   "outputs": [],
   "metadata": {}
  },
  {
   "cell_type": "markdown",
   "source": [
    "## Getting data"
   ],
   "metadata": {}
  },
  {
   "cell_type": "code",
   "execution_count": 411,
   "source": [
    "data_cont = pd.read_csv(\"data/continents.csv\", sep = ';')\n",
    "data_fert = pd.read_csv(\"data/gapminder_total_fertility.csv\")\n",
    "data_lifeexp = pd.read_excel(\"data/gapminder_lifeexpectancy.xlsx\")\n",
    "data_pop = pd.read_excel(\"data/gapminder_population.xlsx\")\n",
    "data_internet = pd.read_csv('data/net_users_num.csv')"
   ],
   "outputs": [],
   "metadata": {}
  },
  {
   "cell_type": "markdown",
   "source": [
    "## Inspect variables"
   ],
   "metadata": {}
  },
  {
   "cell_type": "markdown",
   "source": [
    "### Continents table"
   ],
   "metadata": {}
  },
  {
   "cell_type": "code",
   "execution_count": 27,
   "source": [
    "print(data_cont.columns)\n",
    "data_cont['continent'].unique()\n",
    "data_cont['country'].unique()\n",
    "data_cont['country'].count()\n",
    "data_cont.isna().sum() # no na's"
   ],
   "outputs": [
    {
     "output_type": "stream",
     "name": "stdout",
     "text": [
      "Index(['continent', 'country'], dtype='object')\n"
     ]
    },
    {
     "output_type": "execute_result",
     "data": {
      "text/plain": [
       "continent    0\n",
       "country      0\n",
       "dtype: int64"
      ]
     },
     "metadata": {},
     "execution_count": 27
    }
   ],
   "metadata": {}
  },
  {
   "cell_type": "code",
   "execution_count": 28,
   "source": [
    "data_cont.groupby('continent').count()"
   ],
   "outputs": [
    {
     "output_type": "execute_result",
     "data": {
      "text/html": [
       "<div>\n",
       "<style scoped>\n",
       "    .dataframe tbody tr th:only-of-type {\n",
       "        vertical-align: middle;\n",
       "    }\n",
       "\n",
       "    .dataframe tbody tr th {\n",
       "        vertical-align: top;\n",
       "    }\n",
       "\n",
       "    .dataframe thead th {\n",
       "        text-align: right;\n",
       "    }\n",
       "</style>\n",
       "<table border=\"1\" class=\"dataframe\">\n",
       "  <thead>\n",
       "    <tr style=\"text-align: right;\">\n",
       "      <th></th>\n",
       "      <th>country</th>\n",
       "    </tr>\n",
       "    <tr>\n",
       "      <th>continent</th>\n",
       "      <th></th>\n",
       "    </tr>\n",
       "  </thead>\n",
       "  <tbody>\n",
       "    <tr>\n",
       "      <th>Africa</th>\n",
       "      <td>54</td>\n",
       "    </tr>\n",
       "    <tr>\n",
       "      <th>Asia</th>\n",
       "      <td>44</td>\n",
       "    </tr>\n",
       "    <tr>\n",
       "      <th>Australia and Oceania</th>\n",
       "      <td>14</td>\n",
       "    </tr>\n",
       "    <tr>\n",
       "      <th>Europe</th>\n",
       "      <td>47</td>\n",
       "    </tr>\n",
       "    <tr>\n",
       "      <th>North America</th>\n",
       "      <td>23</td>\n",
       "    </tr>\n",
       "    <tr>\n",
       "      <th>South America</th>\n",
       "      <td>12</td>\n",
       "    </tr>\n",
       "  </tbody>\n",
       "</table>\n",
       "</div>"
      ],
      "text/plain": [
       "                       country\n",
       "continent                     \n",
       "Africa                      54\n",
       "Asia                        44\n",
       "Australia and Oceania       14\n",
       "Europe                      47\n",
       "North America               23\n",
       "South America               12"
      ]
     },
     "metadata": {},
     "execution_count": 28
    }
   ],
   "metadata": {}
  },
  {
   "cell_type": "markdown",
   "source": [
    "### Fertility table"
   ],
   "metadata": {}
  },
  {
   "cell_type": "code",
   "execution_count": 29,
   "source": [
    "data_fert\n",
    "print(data_fert.columns)\n",
    "data_fert.isna().sum().max() # missing data must be corrected, column max # of na's is 61"
   ],
   "outputs": [
    {
     "output_type": "stream",
     "name": "stdout",
     "text": [
      "Index(['Total fertility rate', '1800', '1801', '1802', '1803', '1804', '1805',\n",
      "       '1806', '1807', '1808',\n",
      "       ...\n",
      "       '2006', '2007', '2008', '2009', '2010', '2011', '2012', '2013', '2014',\n",
      "       '2015'],\n",
      "      dtype='object', length=217)\n"
     ]
    },
    {
     "output_type": "execute_result",
     "data": {
      "text/plain": [
       "61"
      ]
     },
     "metadata": {},
     "execution_count": 29
    }
   ],
   "metadata": {}
  },
  {
   "cell_type": "code",
   "execution_count": 78,
   "source": [
    "len(data_fert['Total fertility rate'])"
   ],
   "outputs": [
    {
     "output_type": "execute_result",
     "data": {
      "text/plain": [
       "260"
      ]
     },
     "metadata": {},
     "execution_count": 78
    }
   ],
   "metadata": {}
  },
  {
   "cell_type": "code",
   "execution_count": 113,
   "source": [
    "data_fert.describe()\n",
    "data_fert['Total fertility rate'].unique().shape # 259 unique countries, but includes old names of countries \n",
    "data_fert['Total fertility rate'].unique()\n",
    "\n",
    "counter = []\n",
    "for i in range(len(data_fert['Total fertility rate'])):\n",
    "    if data_fert['Total fertility rate'][i] in list(data_cont['country']):\n",
    "        counter.append(1)\n",
    "sum(counter) # 175 of the countries in the total fertility rate table are also found in the contintents table"
   ],
   "outputs": [
    {
     "output_type": "execute_result",
     "data": {
      "text/plain": [
       "175"
      ]
     },
     "metadata": {},
     "execution_count": 113
    }
   ],
   "metadata": {}
  },
  {
   "cell_type": "code",
   "execution_count": 119,
   "source": [
    "data_fert_2015 = data_fert[['Total fertility rate','2015']].dropna()\n",
    "data_fert_2015.hist(bins=100)\n"
   ],
   "outputs": [
    {
     "output_type": "execute_result",
     "data": {
      "text/plain": [
       "array([[<AxesSubplot:title={'center':'2015'}>]], dtype=object)"
      ]
     },
     "metadata": {},
     "execution_count": 119
    },
    {
     "output_type": "display_data",
     "data": {
      "image/png": "[encoded data removed]",
      "text/plain": [
       "<Figure size 432x288 with 1 Axes>"
      ]
     },
     "metadata": {
      "needs_background": "light"
     }
    }
   ],
   "metadata": {}
  },
  {
   "cell_type": "code",
   "execution_count": 120,
   "source": [
    "data_fert_2015[data_fert_2015['2015']<1.7]"
   ],
   "outputs": [
    {
     "output_type": "execute_result",
     "data": {
      "text/html": [
       "<div>\n",
       "<style scoped>\n",
       "    .dataframe tbody tr th:only-of-type {\n",
       "        vertical-align: middle;\n",
       "    }\n",
       "\n",
       "    .dataframe tbody tr th {\n",
       "        vertical-align: top;\n",
       "    }\n",
       "\n",
       "    .dataframe thead th {\n",
       "        text-align: right;\n",
       "    }\n",
       "</style>\n",
       "<table border=\"1\" class=\"dataframe\">\n",
       "  <thead>\n",
       "    <tr style=\"text-align: right;\">\n",
       "      <th></th>\n",
       "      <th>Total fertility rate</th>\n",
       "      <th>2015</th>\n",
       "    </tr>\n",
       "  </thead>\n",
       "  <tbody>\n",
       "    <tr>\n",
       "      <th>11</th>\n",
       "      <td>Armenia</td>\n",
       "      <td>1.41</td>\n",
       "    </tr>\n",
       "    <tr>\n",
       "      <th>12</th>\n",
       "      <td>Aruba</td>\n",
       "      <td>1.66</td>\n",
       "    </tr>\n",
       "    <tr>\n",
       "      <th>14</th>\n",
       "      <td>Austria</td>\n",
       "      <td>1.50</td>\n",
       "    </tr>\n",
       "    <tr>\n",
       "      <th>20</th>\n",
       "      <td>Belarus</td>\n",
       "      <td>1.51</td>\n",
       "    </tr>\n",
       "    <tr>\n",
       "      <th>27</th>\n",
       "      <td>Bosnia and Herzegovina</td>\n",
       "      <td>1.32</td>\n",
       "    </tr>\n",
       "    <tr>\n",
       "      <th>32</th>\n",
       "      <td>Bulgaria</td>\n",
       "      <td>1.57</td>\n",
       "    </tr>\n",
       "    <tr>\n",
       "      <th>37</th>\n",
       "      <td>Canada</td>\n",
       "      <td>1.68</td>\n",
       "    </tr>\n",
       "    <tr>\n",
       "      <th>42</th>\n",
       "      <td>Channel Islands</td>\n",
       "      <td>1.47</td>\n",
       "    </tr>\n",
       "    <tr>\n",
       "      <th>44</th>\n",
       "      <td>China</td>\n",
       "      <td>1.57</td>\n",
       "    </tr>\n",
       "    <tr>\n",
       "      <th>54</th>\n",
       "      <td>Croatia</td>\n",
       "      <td>1.52</td>\n",
       "    </tr>\n",
       "    <tr>\n",
       "      <th>55</th>\n",
       "      <td>Cuba</td>\n",
       "      <td>1.45</td>\n",
       "    </tr>\n",
       "    <tr>\n",
       "      <th>56</th>\n",
       "      <td>Cyprus</td>\n",
       "      <td>1.46</td>\n",
       "    </tr>\n",
       "    <tr>\n",
       "      <th>57</th>\n",
       "      <td>Czech Republic</td>\n",
       "      <td>1.60</td>\n",
       "    </tr>\n",
       "    <tr>\n",
       "      <th>70</th>\n",
       "      <td>Estonia</td>\n",
       "      <td>1.62</td>\n",
       "    </tr>\n",
       "    <tr>\n",
       "      <th>82</th>\n",
       "      <td>Germany</td>\n",
       "      <td>1.44</td>\n",
       "    </tr>\n",
       "    <tr>\n",
       "      <th>85</th>\n",
       "      <td>Greece</td>\n",
       "      <td>1.55</td>\n",
       "    </tr>\n",
       "    <tr>\n",
       "      <th>98</th>\n",
       "      <td>Hong Kong, China</td>\n",
       "      <td>1.17</td>\n",
       "    </tr>\n",
       "    <tr>\n",
       "      <th>99</th>\n",
       "      <td>Hungary</td>\n",
       "      <td>1.44</td>\n",
       "    </tr>\n",
       "    <tr>\n",
       "      <th>108</th>\n",
       "      <td>Italy</td>\n",
       "      <td>1.52</td>\n",
       "    </tr>\n",
       "    <tr>\n",
       "      <th>110</th>\n",
       "      <td>Japan</td>\n",
       "      <td>1.45</td>\n",
       "    </tr>\n",
       "    <tr>\n",
       "      <th>117</th>\n",
       "      <td>South Korea</td>\n",
       "      <td>1.36</td>\n",
       "    </tr>\n",
       "    <tr>\n",
       "      <th>123</th>\n",
       "      <td>Latvia</td>\n",
       "      <td>1.64</td>\n",
       "    </tr>\n",
       "    <tr>\n",
       "      <th>124</th>\n",
       "      <td>Lebanon</td>\n",
       "      <td>1.49</td>\n",
       "    </tr>\n",
       "    <tr>\n",
       "      <th>129</th>\n",
       "      <td>Lithuania</td>\n",
       "      <td>1.55</td>\n",
       "    </tr>\n",
       "    <tr>\n",
       "      <th>130</th>\n",
       "      <td>Luxembourg</td>\n",
       "      <td>1.69</td>\n",
       "    </tr>\n",
       "    <tr>\n",
       "      <th>131</th>\n",
       "      <td>Macao, China</td>\n",
       "      <td>1.13</td>\n",
       "    </tr>\n",
       "    <tr>\n",
       "      <th>132</th>\n",
       "      <td>Macedonia, FYR</td>\n",
       "      <td>1.43</td>\n",
       "    </tr>\n",
       "    <tr>\n",
       "      <th>138</th>\n",
       "      <td>Malta</td>\n",
       "      <td>1.35</td>\n",
       "    </tr>\n",
       "    <tr>\n",
       "      <th>142</th>\n",
       "      <td>Mauritius</td>\n",
       "      <td>1.50</td>\n",
       "    </tr>\n",
       "    <tr>\n",
       "      <th>146</th>\n",
       "      <td>Moldova</td>\n",
       "      <td>1.45</td>\n",
       "    </tr>\n",
       "    <tr>\n",
       "      <th>149</th>\n",
       "      <td>Montenegro</td>\n",
       "      <td>1.65</td>\n",
       "    </tr>\n",
       "    <tr>\n",
       "      <th>179</th>\n",
       "      <td>Poland</td>\n",
       "      <td>1.44</td>\n",
       "    </tr>\n",
       "    <tr>\n",
       "      <th>180</th>\n",
       "      <td>Portugal</td>\n",
       "      <td>1.31</td>\n",
       "    </tr>\n",
       "    <tr>\n",
       "      <th>181</th>\n",
       "      <td>Puerto Rico</td>\n",
       "      <td>1.62</td>\n",
       "    </tr>\n",
       "    <tr>\n",
       "      <th>184</th>\n",
       "      <td>Romania</td>\n",
       "      <td>1.45</td>\n",
       "    </tr>\n",
       "    <tr>\n",
       "      <th>185</th>\n",
       "      <td>Russia</td>\n",
       "      <td>1.61</td>\n",
       "    </tr>\n",
       "    <tr>\n",
       "      <th>199</th>\n",
       "      <td>Serbia</td>\n",
       "      <td>1.37</td>\n",
       "    </tr>\n",
       "    <tr>\n",
       "      <th>204</th>\n",
       "      <td>Singapore</td>\n",
       "      <td>1.30</td>\n",
       "    </tr>\n",
       "    <tr>\n",
       "      <th>205</th>\n",
       "      <td>Slovak Republic</td>\n",
       "      <td>1.43</td>\n",
       "    </tr>\n",
       "    <tr>\n",
       "      <th>206</th>\n",
       "      <td>Slovenia</td>\n",
       "      <td>1.53</td>\n",
       "    </tr>\n",
       "    <tr>\n",
       "      <th>212</th>\n",
       "      <td>Spain</td>\n",
       "      <td>1.53</td>\n",
       "    </tr>\n",
       "    <tr>\n",
       "      <th>219</th>\n",
       "      <td>Switzerland</td>\n",
       "      <td>1.55</td>\n",
       "    </tr>\n",
       "    <tr>\n",
       "      <th>224</th>\n",
       "      <td>Thailand</td>\n",
       "      <td>1.38</td>\n",
       "    </tr>\n",
       "    <tr>\n",
       "      <th>237</th>\n",
       "      <td>Ukraine</td>\n",
       "      <td>1.49</td>\n",
       "    </tr>\n",
       "  </tbody>\n",
       "</table>\n",
       "</div>"
      ],
      "text/plain": [
       "       Total fertility rate  2015\n",
       "11                  Armenia  1.41\n",
       "12                    Aruba  1.66\n",
       "14                  Austria  1.50\n",
       "20                  Belarus  1.51\n",
       "27   Bosnia and Herzegovina  1.32\n",
       "32                 Bulgaria  1.57\n",
       "37                   Canada  1.68\n",
       "42          Channel Islands  1.47\n",
       "44                    China  1.57\n",
       "54                  Croatia  1.52\n",
       "55                     Cuba  1.45\n",
       "56                   Cyprus  1.46\n",
       "57           Czech Republic  1.60\n",
       "70                  Estonia  1.62\n",
       "82                  Germany  1.44\n",
       "85                   Greece  1.55\n",
       "98         Hong Kong, China  1.17\n",
       "99                  Hungary  1.44\n",
       "108                   Italy  1.52\n",
       "110                   Japan  1.45\n",
       "117             South Korea  1.36\n",
       "123                  Latvia  1.64\n",
       "124                 Lebanon  1.49\n",
       "129               Lithuania  1.55\n",
       "130              Luxembourg  1.69\n",
       "131            Macao, China  1.13\n",
       "132          Macedonia, FYR  1.43\n",
       "138                   Malta  1.35\n",
       "142               Mauritius  1.50\n",
       "146                 Moldova  1.45\n",
       "149              Montenegro  1.65\n",
       "179                  Poland  1.44\n",
       "180                Portugal  1.31\n",
       "181             Puerto Rico  1.62\n",
       "184                 Romania  1.45\n",
       "185                  Russia  1.61\n",
       "199                  Serbia  1.37\n",
       "204               Singapore  1.30\n",
       "205         Slovak Republic  1.43\n",
       "206                Slovenia  1.53\n",
       "212                   Spain  1.53\n",
       "219             Switzerland  1.55\n",
       "224                Thailand  1.38\n",
       "237                 Ukraine  1.49"
      ]
     },
     "metadata": {},
     "execution_count": 120
    }
   ],
   "metadata": {}
  },
  {
   "cell_type": "markdown",
   "source": [
    "### Life Expectancy table"
   ],
   "metadata": {}
  },
  {
   "cell_type": "code",
   "execution_count": 123,
   "source": [
    "data_lifeexp\n",
    "print(data_lifeexp.columns)\n",
    "data_lifeexp.isna().sum().max() # missing data must be corrected, column max # of na's is 59\n",
    "\n",
    "counter = []\n",
    "for i, country in enumerate(data_lifeexp['Life expectancy']):\n",
    "    if country in list(data_cont['country']):\n",
    "        counter.append(1)\n",
    "sum(counter) # 176 of the countries in the life expectancy table also in continents table"
   ],
   "outputs": [
    {
     "output_type": "stream",
     "name": "stdout",
     "text": [
      "Index(['Life expectancy',              1800,              1801,\n",
      "                    1802,              1803,              1804,\n",
      "                    1805,              1806,              1807,\n",
      "                    1808,\n",
      "       ...\n",
      "                    2007,              2008,              2009,\n",
      "                    2010,              2011,              2012,\n",
      "                    2013,              2014,              2015,\n",
      "                    2016],\n",
      "      dtype='object', length=218)\n"
     ]
    },
    {
     "output_type": "execute_result",
     "data": {
      "text/plain": [
       "176"
      ]
     },
     "metadata": {},
     "execution_count": 123
    }
   ],
   "metadata": {}
  },
  {
   "cell_type": "code",
   "execution_count": 132,
   "source": [
    "data_lifeexp_2015 = data_lifeexp[['Life expectancy',2015]].dropna()\n",
    "data_lifeexp_2015.hist(bins=20)"
   ],
   "outputs": [
    {
     "output_type": "execute_result",
     "data": {
      "text/plain": [
       "array([[<AxesSubplot:title={'center':'2015'}>]], dtype=object)"
      ]
     },
     "metadata": {},
     "execution_count": 132
    },
    {
     "output_type": "display_data",
     "data": {
      "image/png": "[encoded data removed]",
      "text/plain": [
       "<Figure size 432x288 with 1 Axes>"
      ]
     },
     "metadata": {
      "needs_background": "light"
     }
    }
   ],
   "metadata": {}
  },
  {
   "cell_type": "markdown",
   "source": [
    "### Populations table"
   ],
   "metadata": {}
  },
  {
   "cell_type": "code",
   "execution_count": 134,
   "source": [
    "data_pop\n",
    "data_pop.shape\n",
    "print(data_pop.columns)\n",
    "data_pop = data_pop[data_pop.columns.drop(list(data_pop.filter(regex='Unnamed:')))]\n",
    "data_pop\n",
    "data_pop.isna().sum().max() # missing data must be corrected, column max # of na's is 46, which means all values are missing\n",
    "\n",
    "counter = []\n",
    "for i, country in enumerate(data_pop['Total population']):\n",
    "    if country in list(data_cont['country']):\n",
    "        counter.append(1)\n",
    "sum(counter) # 176 of the countries in the life expectancy table also in populations table"
   ],
   "outputs": [
    {
     "output_type": "stream",
     "name": "stdout",
     "text": [
      "Index(['Total population',               1800,               1810,\n",
      "                     1820,               1830,               1840,\n",
      "                     1850,               1860,               1870,\n",
      "                     1880,               1890,               1900,\n",
      "                     1910,               1920,               1930,\n",
      "                     1940,               1950,               1951,\n",
      "                     1952,               1953,               1954,\n",
      "                     1955,               1956,               1957,\n",
      "                     1958,               1959,               1960,\n",
      "                     1961,               1962,               1963,\n",
      "                     1964,               1965,               1966,\n",
      "                     1967,               1968,               1969,\n",
      "                     1970,               1971,               1972,\n",
      "                     1973,               1974,               1975,\n",
      "                     1976,               1977,               1978,\n",
      "                     1979,               1980,               1981,\n",
      "                     1982,               1983,               1984,\n",
      "                     1985,               1986,               1987,\n",
      "                     1988,               1989,               1990,\n",
      "                     1991,               1992,               1993,\n",
      "                     1994,               1995,               1996,\n",
      "                     1997,               1998,               1999,\n",
      "                     2000,               2001,               2002,\n",
      "                     2003,               2004,               2005,\n",
      "                     2006,               2007,               2008,\n",
      "                     2009,               2010,               2011,\n",
      "                     2012,               2013,               2014,\n",
      "                     2015],\n",
      "      dtype='object')\n"
     ]
    },
    {
     "output_type": "execute_result",
     "data": {
      "text/plain": [
       "176"
      ]
     },
     "metadata": {},
     "execution_count": 134
    }
   ],
   "metadata": {}
  },
  {
   "cell_type": "code",
   "execution_count": 162,
   "source": [
    "data_pop_2015 = data_pop[['Total population', 2015]].dropna()\n",
    "data_pop_2015.hist(bins=100)\n",
    "q3 = data_pop_2015.quantile(0.75)\n",
    "q1 = data_pop_2015.quantile(0.25)\n",
    "outl_thres = int(q3 + 1.5 * (q3 - q1))\n",
    "\n",
    "data_pop_2015_no_outl = data_pop_2015[data_pop_2015[2015]<outl_thres]\n",
    "data_pop_2015_no_outl.hist(bins=20)\n",
    "\n",
    "data_pop_2015[data_pop_2015[2015]>1000000000] # China and India are clear outliers"
   ],
   "outputs": [
    {
     "output_type": "execute_result",
     "data": {
      "text/html": [
       "<div>\n",
       "<style scoped>\n",
       "    .dataframe tbody tr th:only-of-type {\n",
       "        vertical-align: middle;\n",
       "    }\n",
       "\n",
       "    .dataframe tbody tr th {\n",
       "        vertical-align: top;\n",
       "    }\n",
       "\n",
       "    .dataframe thead th {\n",
       "        text-align: right;\n",
       "    }\n",
       "</style>\n",
       "<table border=\"1\" class=\"dataframe\">\n",
       "  <thead>\n",
       "    <tr style=\"text-align: right;\">\n",
       "      <th></th>\n",
       "      <th>Total population</th>\n",
       "      <th>2015</th>\n",
       "    </tr>\n",
       "  </thead>\n",
       "  <tbody>\n",
       "    <tr>\n",
       "      <th>44</th>\n",
       "      <td>China</td>\n",
       "      <td>1.376049e+09</td>\n",
       "    </tr>\n",
       "    <tr>\n",
       "      <th>101</th>\n",
       "      <td>India</td>\n",
       "      <td>1.311051e+09</td>\n",
       "    </tr>\n",
       "  </tbody>\n",
       "</table>\n",
       "</div>"
      ],
      "text/plain": [
       "    Total population          2015\n",
       "44             China  1.376049e+09\n",
       "101            India  1.311051e+09"
      ]
     },
     "metadata": {},
     "execution_count": 162
    },
    {
     "output_type": "display_data",
     "data": {
      "image/png": "[encoded data removed]",
      "text/plain": [
       "<Figure size 432x288 with 1 Axes>"
      ]
     },
     "metadata": {
      "needs_background": "light"
     }
    },
    {
     "output_type": "display_data",
     "data": {
      "image/png": "[encoded data removed]",
      "text/plain": [
       "<Figure size 432x288 with 1 Axes>"
      ]
     },
     "metadata": {
      "needs_background": "light"
     }
    }
   ],
   "metadata": {}
  },
  {
   "cell_type": "markdown",
   "source": [
    "### Internet Users table"
   ],
   "metadata": {}
  },
  {
   "cell_type": "code",
   "execution_count": 440,
   "source": [
    "data_internet.isna().sum().max() # remove na's, max 34\n",
    "#data_internet_2019 = pd.DataFrame(data_internet['2019'].unique()).apply(x.replace('M', '000000') for x in df['2019'])\n",
    "#[x.replace('M', '000000') for x in data_internet['2019']]\n",
    "#print(data_internet_2019)"
   ],
   "outputs": [
    {
     "output_type": "execute_result",
     "data": {
      "text/plain": [
       "0"
      ]
     },
     "metadata": {},
     "execution_count": 440
    }
   ],
   "metadata": {}
  },
  {
   "cell_type": "markdown",
   "source": [
    "## Data wrangling"
   ],
   "metadata": {}
  },
  {
   "cell_type": "markdown",
   "source": [
    "### Clean"
   ],
   "metadata": {}
  },
  {
   "cell_type": "code",
   "execution_count": 442,
   "source": [
    "df_cont = data_cont\n",
    "\n",
    "df_fert = pd.melt(data_fert,id_vars = 'Total fertility rate').dropna()\n",
    "df_fert.columns = ['country', 'year', 'fertility_rate']\n",
    "df_fert = df_fert.astype({'year': 'int', 'fertility_rate': 'float'})\n",
    "\n",
    "df_lifeexp = pd.melt(data_lifeexp, id_vars = \"Life expectancy\").dropna()\n",
    "df_lifeexp.columns = ['country', 'year', 'life_expectancy']\n",
    "df_lifeexp = df_lifeexp.astype({'year': 'int', 'life_expectancy': 'float'})\n",
    "\n",
    "df_pop = pd.melt(data_pop, id_vars = 'Total population').dropna()\n",
    "df_pop.columns = ['country', 'year', 'total_population']\n",
    "df_pop = df_pop.astype({'year': 'int', 'total_population': 'int'})\n",
    "\n",
    "df_internet = pd.melt(data_internet, id_vars='country')\n",
    "df_internet.columns = ['country','year','internet_users']\n",
    "#df_internet['units'] = [1000000 if 'M' in df_internet['internet_users']]\n",
    "\n",
    "print(\n",
    "    'df_fert shape:', df_fert.shape,\n",
    "    '\\ndf_lifeexp shape:', df_lifeexp.shape,\n",
    "    '\\ndf_pop shape', df_pop.shape\n",
    "    )"
   ],
   "outputs": [
    {
     "output_type": "stream",
     "name": "stdout",
     "text": [
      "df_fert shape: (43412, 3) \n",
      "df_lifeexp shape: (43857, 3) \n",
      "df_pop shape (20176, 3)\n"
     ]
    }
   ],
   "metadata": {}
  },
  {
   "cell_type": "code",
   "execution_count": 428,
   "source": [
    "df_internet"
   ],
   "outputs": [
    {
     "output_type": "execute_result",
     "data": {
      "text/html": [
       "<div>\n",
       "<style scoped>\n",
       "    .dataframe tbody tr th:only-of-type {\n",
       "        vertical-align: middle;\n",
       "    }\n",
       "\n",
       "    .dataframe tbody tr th {\n",
       "        vertical-align: top;\n",
       "    }\n",
       "\n",
       "    .dataframe thead th {\n",
       "        text-align: right;\n",
       "    }\n",
       "</style>\n",
       "<table border=\"1\" class=\"dataframe\">\n",
       "  <thead>\n",
       "    <tr style=\"text-align: right;\">\n",
       "      <th></th>\n",
       "      <th>country</th>\n",
       "      <th>year</th>\n",
       "      <th>internet_users</th>\n",
       "    </tr>\n",
       "  </thead>\n",
       "  <tbody>\n",
       "    <tr>\n",
       "      <th>0</th>\n",
       "      <td>Angola</td>\n",
       "      <td>1990</td>\n",
       "      <td>0</td>\n",
       "    </tr>\n",
       "    <tr>\n",
       "      <th>1</th>\n",
       "      <td>Albania</td>\n",
       "      <td>1990</td>\n",
       "      <td>0</td>\n",
       "    </tr>\n",
       "    <tr>\n",
       "      <th>2</th>\n",
       "      <td>Andorra</td>\n",
       "      <td>1990</td>\n",
       "      <td>0</td>\n",
       "    </tr>\n",
       "    <tr>\n",
       "      <th>3</th>\n",
       "      <td>United Arab Emirates</td>\n",
       "      <td>1990</td>\n",
       "      <td>0</td>\n",
       "    </tr>\n",
       "    <tr>\n",
       "      <th>4</th>\n",
       "      <td>Argentina</td>\n",
       "      <td>1990</td>\n",
       "      <td>0</td>\n",
       "    </tr>\n",
       "    <tr>\n",
       "      <th>...</th>\n",
       "      <td>...</td>\n",
       "      <td>...</td>\n",
       "      <td>...</td>\n",
       "    </tr>\n",
       "    <tr>\n",
       "      <th>4855</th>\n",
       "      <td>Vanuatu</td>\n",
       "      <td>2019</td>\n",
       "      <td>77.1k</td>\n",
       "    </tr>\n",
       "    <tr>\n",
       "      <th>4856</th>\n",
       "      <td>Yemen</td>\n",
       "      <td>2019</td>\n",
       "      <td>7.79M</td>\n",
       "    </tr>\n",
       "    <tr>\n",
       "      <th>4857</th>\n",
       "      <td>South Africa</td>\n",
       "      <td>2019</td>\n",
       "      <td>32.9M</td>\n",
       "    </tr>\n",
       "    <tr>\n",
       "      <th>4858</th>\n",
       "      <td>Zambia</td>\n",
       "      <td>2019</td>\n",
       "      <td>2.55M</td>\n",
       "    </tr>\n",
       "    <tr>\n",
       "      <th>4859</th>\n",
       "      <td>Zimbabwe</td>\n",
       "      <td>2019</td>\n",
       "      <td>3.96M</td>\n",
       "    </tr>\n",
       "  </tbody>\n",
       "</table>\n",
       "<p>4860 rows × 3 columns</p>\n",
       "</div>"
      ],
      "text/plain": [
       "                   country  year internet_users\n",
       "0                   Angola  1990              0\n",
       "1                  Albania  1990              0\n",
       "2                  Andorra  1990              0\n",
       "3     United Arab Emirates  1990              0\n",
       "4                Argentina  1990              0\n",
       "...                    ...   ...            ...\n",
       "4855               Vanuatu  2019          77.1k\n",
       "4856                 Yemen  2019          7.79M\n",
       "4857          South Africa  2019          32.9M\n",
       "4858                Zambia  2019          2.55M\n",
       "4859              Zimbabwe  2019          3.96M\n",
       "\n",
       "[4860 rows x 3 columns]"
      ]
     },
     "metadata": {},
     "execution_count": 428
    }
   ],
   "metadata": {}
  },
  {
   "cell_type": "markdown",
   "source": [
    "### Merge"
   ],
   "metadata": {}
  },
  {
   "cell_type": "code",
   "execution_count": 212,
   "source": [
    "df_subm1 = pd.merge(df_fert, df_lifeexp, how = \"left\", on = ['country', 'year'])\n",
    "df_subm2 = pd.merge(df_subm1, df_pop, how = \"left\", on = ['country', 'year'])\n",
    "df_merge = pd.merge(df_subm2, df_cont, how = 'left', on = 'country') # 43412 rows\n",
    "\n",
    "df_merge.shape"
   ],
   "outputs": [
    {
     "output_type": "execute_result",
     "data": {
      "text/plain": [
       "(43412, 6)"
      ]
     },
     "metadata": {},
     "execution_count": 212
    }
   ],
   "metadata": {}
  },
  {
   "cell_type": "code",
   "execution_count": 213,
   "source": [
    "df_merge"
   ],
   "outputs": [
    {
     "output_type": "execute_result",
     "data": {
      "text/html": [
       "<div>\n",
       "<style scoped>\n",
       "    .dataframe tbody tr th:only-of-type {\n",
       "        vertical-align: middle;\n",
       "    }\n",
       "\n",
       "    .dataframe tbody tr th {\n",
       "        vertical-align: top;\n",
       "    }\n",
       "\n",
       "    .dataframe thead th {\n",
       "        text-align: right;\n",
       "    }\n",
       "</style>\n",
       "<table border=\"1\" class=\"dataframe\">\n",
       "  <thead>\n",
       "    <tr style=\"text-align: right;\">\n",
       "      <th></th>\n",
       "      <th>country</th>\n",
       "      <th>year</th>\n",
       "      <th>fertility_rate</th>\n",
       "      <th>life_expectancy</th>\n",
       "      <th>total_population</th>\n",
       "      <th>continent</th>\n",
       "    </tr>\n",
       "  </thead>\n",
       "  <tbody>\n",
       "    <tr>\n",
       "      <th>0</th>\n",
       "      <td>Afghanistan</td>\n",
       "      <td>1800</td>\n",
       "      <td>7.00</td>\n",
       "      <td>28.21</td>\n",
       "      <td>3280000.0</td>\n",
       "      <td>Asia</td>\n",
       "    </tr>\n",
       "    <tr>\n",
       "      <th>1</th>\n",
       "      <td>Albania</td>\n",
       "      <td>1800</td>\n",
       "      <td>4.60</td>\n",
       "      <td>35.40</td>\n",
       "      <td>410445.0</td>\n",
       "      <td>Europe</td>\n",
       "    </tr>\n",
       "    <tr>\n",
       "      <th>2</th>\n",
       "      <td>Algeria</td>\n",
       "      <td>1800</td>\n",
       "      <td>6.99</td>\n",
       "      <td>28.82</td>\n",
       "      <td>2503218.0</td>\n",
       "      <td>Africa</td>\n",
       "    </tr>\n",
       "    <tr>\n",
       "      <th>3</th>\n",
       "      <td>Angola</td>\n",
       "      <td>1800</td>\n",
       "      <td>6.93</td>\n",
       "      <td>26.98</td>\n",
       "      <td>1567028.0</td>\n",
       "      <td>Africa</td>\n",
       "    </tr>\n",
       "    <tr>\n",
       "      <th>4</th>\n",
       "      <td>Antigua and Barbuda</td>\n",
       "      <td>1800</td>\n",
       "      <td>5.00</td>\n",
       "      <td>33.54</td>\n",
       "      <td>37000.0</td>\n",
       "      <td>North America</td>\n",
       "    </tr>\n",
       "    <tr>\n",
       "      <th>...</th>\n",
       "      <td>...</td>\n",
       "      <td>...</td>\n",
       "      <td>...</td>\n",
       "      <td>...</td>\n",
       "      <td>...</td>\n",
       "      <td>...</td>\n",
       "    </tr>\n",
       "    <tr>\n",
       "      <th>43407</th>\n",
       "      <td>Vietnam</td>\n",
       "      <td>2015</td>\n",
       "      <td>1.70</td>\n",
       "      <td>75.40</td>\n",
       "      <td>93447601.0</td>\n",
       "      <td>Asia</td>\n",
       "    </tr>\n",
       "    <tr>\n",
       "      <th>43408</th>\n",
       "      <td>Virgin Islands (U.S.)</td>\n",
       "      <td>2015</td>\n",
       "      <td>2.45</td>\n",
       "      <td>80.60</td>\n",
       "      <td>106291.0</td>\n",
       "      <td>NaN</td>\n",
       "    </tr>\n",
       "    <tr>\n",
       "      <th>43409</th>\n",
       "      <td>Yemen</td>\n",
       "      <td>2015</td>\n",
       "      <td>3.83</td>\n",
       "      <td>66.00</td>\n",
       "      <td>26832215.0</td>\n",
       "      <td>Asia</td>\n",
       "    </tr>\n",
       "    <tr>\n",
       "      <th>43410</th>\n",
       "      <td>Zambia</td>\n",
       "      <td>2015</td>\n",
       "      <td>5.59</td>\n",
       "      <td>56.70</td>\n",
       "      <td>16211767.0</td>\n",
       "      <td>Africa</td>\n",
       "    </tr>\n",
       "    <tr>\n",
       "      <th>43411</th>\n",
       "      <td>Zimbabwe</td>\n",
       "      <td>2015</td>\n",
       "      <td>3.35</td>\n",
       "      <td>59.30</td>\n",
       "      <td>15602751.0</td>\n",
       "      <td>Africa</td>\n",
       "    </tr>\n",
       "  </tbody>\n",
       "</table>\n",
       "<p>43412 rows × 6 columns</p>\n",
       "</div>"
      ],
      "text/plain": [
       "                     country  year  fertility_rate  life_expectancy  \\\n",
       "0                Afghanistan  1800            7.00            28.21   \n",
       "1                    Albania  1800            4.60            35.40   \n",
       "2                    Algeria  1800            6.99            28.82   \n",
       "3                     Angola  1800            6.93            26.98   \n",
       "4        Antigua and Barbuda  1800            5.00            33.54   \n",
       "...                      ...   ...             ...              ...   \n",
       "43407                Vietnam  2015            1.70            75.40   \n",
       "43408  Virgin Islands (U.S.)  2015            2.45            80.60   \n",
       "43409                  Yemen  2015            3.83            66.00   \n",
       "43410                 Zambia  2015            5.59            56.70   \n",
       "43411               Zimbabwe  2015            3.35            59.30   \n",
       "\n",
       "       total_population      continent  \n",
       "0             3280000.0           Asia  \n",
       "1              410445.0         Europe  \n",
       "2             2503218.0         Africa  \n",
       "3             1567028.0         Africa  \n",
       "4               37000.0  North America  \n",
       "...                 ...            ...  \n",
       "43407        93447601.0           Asia  \n",
       "43408          106291.0            NaN  \n",
       "43409        26832215.0           Asia  \n",
       "43410        16211767.0         Africa  \n",
       "43411        15602751.0         Africa  \n",
       "\n",
       "[43412 rows x 6 columns]"
      ]
     },
     "metadata": {},
     "execution_count": 213
    }
   ],
   "metadata": {}
  },
  {
   "cell_type": "markdown",
   "source": [
    "## Sample Plots"
   ],
   "metadata": {}
  },
  {
   "cell_type": "code",
   "execution_count": 286,
   "source": [
    "pd.plotting.scatter_matrix(df_merge[df_merge['year']==2015][['fertility_rate']])\n",
    "despine=True"
   ],
   "outputs": [
    {
     "output_type": "stream",
     "name": "stdout",
     "text": [
      "/Users/brunnogorgulhosoares/OneDrive/spiced/random-forest-fennel-student-code/01_week\n"
     ]
    },
    {
     "output_type": "display_data",
     "data": {
      "image/png": "[encoded data removed]",
      "text/plain": [
       "<Figure size 432x288 with 1 Axes>"
      ]
     },
     "metadata": {
      "needs_background": "light"
     }
    }
   ],
   "metadata": {}
  },
  {
   "cell_type": "code",
   "execution_count": 249,
   "source": [
    "df_plot = df_merge[(df_merge['year']==2015) & (~df_merge['country'].isin(['China', 'India']))]"
   ],
   "outputs": [],
   "metadata": {}
  },
  {
   "cell_type": "code",
   "execution_count": 250,
   "source": [
    "pd.plotting.scatter_matrix(df_plot[['fertility_rate', 'life_expectancy', 'total_population']], figsize=(12,8))\n",
    "despine=True\n",
    "# EXCLUDES CHINA AND INDIA"
   ],
   "outputs": [
    {
     "output_type": "display_data",
     "data": {
      "image/png": "[encoded data removed]",
      "text/plain": [
       "<Figure size 864x576 with 9 Axes>"
      ]
     },
     "metadata": {
      "needs_background": "light"
     }
    }
   ],
   "metadata": {}
  },
  {
   "cell_type": "code",
   "execution_count": 265,
   "source": [
    "# Parameters\n",
    "x = 'fertility_rate'\n",
    "y = 'life_expectancy'\n",
    "year = 2015"
   ],
   "outputs": [],
   "metadata": {}
  },
  {
   "cell_type": "code",
   "execution_count": 267,
   "source": [
    "plt.scatter(df_plot[x], df_plot[y])\n",
    "df_plot[[x, y]].corr(method='pearson')"
   ],
   "outputs": [
    {
     "output_type": "execute_result",
     "data": {
      "text/html": [
       "<div>\n",
       "<style scoped>\n",
       "    .dataframe tbody tr th:only-of-type {\n",
       "        vertical-align: middle;\n",
       "    }\n",
       "\n",
       "    .dataframe tbody tr th {\n",
       "        vertical-align: top;\n",
       "    }\n",
       "\n",
       "    .dataframe thead th {\n",
       "        text-align: right;\n",
       "    }\n",
       "</style>\n",
       "<table border=\"1\" class=\"dataframe\">\n",
       "  <thead>\n",
       "    <tr style=\"text-align: right;\">\n",
       "      <th></th>\n",
       "      <th>fertility_rate</th>\n",
       "      <th>life_expectancy</th>\n",
       "    </tr>\n",
       "  </thead>\n",
       "  <tbody>\n",
       "    <tr>\n",
       "      <th>fertility_rate</th>\n",
       "      <td>1.000000</td>\n",
       "      <td>-0.757496</td>\n",
       "    </tr>\n",
       "    <tr>\n",
       "      <th>life_expectancy</th>\n",
       "      <td>-0.757496</td>\n",
       "      <td>1.000000</td>\n",
       "    </tr>\n",
       "  </tbody>\n",
       "</table>\n",
       "</div>"
      ],
      "text/plain": [
       "                 fertility_rate  life_expectancy\n",
       "fertility_rate         1.000000        -0.757496\n",
       "life_expectancy       -0.757496         1.000000"
      ]
     },
     "metadata": {},
     "execution_count": 267
    },
    {
     "output_type": "display_data",
     "data": {
      "image/png": "[encoded data removed]",
      "text/plain": [
       "<Figure size 432x288 with 1 Axes>"
      ]
     },
     "metadata": {
      "needs_background": "light"
     }
    }
   ],
   "metadata": {}
  },
  {
   "cell_type": "code",
   "execution_count": 407,
   "source": [
    "#fert_avg = df_merge[df_merge['year']>1900].groupby('year')['fertility_rate'].mean()\n",
    "#plt.plot(fert_avg)\n",
    "\n",
    "df_exper_1960 = df_merge[df_merge['year']==1960][['country','fertility_rate']]\n",
    "df_exper_1960.rename(columns={'country':'country', 'fertility_rate': 'fert_rate_1960'}, inplace=True)\n",
    "\n",
    "df_exper_2015 = df_merge[df_merge['year']==2015][['country','fertility_rate']]\n",
    "df_exper_2015.rename(columns={'country':'country', 'fertility_rate': 'fert_rate_2015'}, inplace=True)\n",
    "\n",
    "df_exper = df_exper_1960.merge(df_exper_2015)\n",
    "df_exper.set_index('country')\n",
    "df_exper['fert_delta'] = df_exper['fert_rate_2015'] - df_exper['fert_rate_1960']\n",
    "df_exper = df_exper.sort_values('fert_delta')\n",
    "df_exper.head(30)\n"
   ],
   "outputs": [
    {
     "output_type": "execute_result",
     "data": {
      "text/html": [
       "<div>\n",
       "<style scoped>\n",
       "    .dataframe tbody tr th:only-of-type {\n",
       "        vertical-align: middle;\n",
       "    }\n",
       "\n",
       "    .dataframe tbody tr th {\n",
       "        vertical-align: top;\n",
       "    }\n",
       "\n",
       "    .dataframe thead th {\n",
       "        text-align: right;\n",
       "    }\n",
       "</style>\n",
       "<table border=\"1\" class=\"dataframe\">\n",
       "  <thead>\n",
       "    <tr style=\"text-align: right;\">\n",
       "      <th></th>\n",
       "      <th>country</th>\n",
       "      <th>fert_rate_1960</th>\n",
       "      <th>fert_rate_2015</th>\n",
       "      <th>fert_delta</th>\n",
       "    </tr>\n",
       "  </thead>\n",
       "  <tbody>\n",
       "    <tr>\n",
       "      <th>41</th>\n",
       "      <td>Costa Rica</td>\n",
       "      <td>7.31</td>\n",
       "      <td>1.77</td>\n",
       "      <td>-5.54</td>\n",
       "    </tr>\n",
       "    <tr>\n",
       "      <th>102</th>\n",
       "      <td>Libya</td>\n",
       "      <td>7.54</td>\n",
       "      <td>2.26</td>\n",
       "      <td>-5.28</td>\n",
       "    </tr>\n",
       "    <tr>\n",
       "      <th>151</th>\n",
       "      <td>St. Vincent and the Grenadines</td>\n",
       "      <td>7.22</td>\n",
       "      <td>1.95</td>\n",
       "      <td>-5.27</td>\n",
       "    </tr>\n",
       "    <tr>\n",
       "      <th>185</th>\n",
       "      <td>United Arab Emirates</td>\n",
       "      <td>6.93</td>\n",
       "      <td>1.77</td>\n",
       "      <td>-5.16</td>\n",
       "    </tr>\n",
       "    <tr>\n",
       "      <th>49</th>\n",
       "      <td>Dominican Republic</td>\n",
       "      <td>7.56</td>\n",
       "      <td>2.42</td>\n",
       "      <td>-5.14</td>\n",
       "    </tr>\n",
       "    <tr>\n",
       "      <th>150</th>\n",
       "      <td>St. Lucia</td>\n",
       "      <td>6.97</td>\n",
       "      <td>1.87</td>\n",
       "      <td>-5.10</td>\n",
       "    </tr>\n",
       "    <tr>\n",
       "      <th>180</th>\n",
       "      <td>Tunisia</td>\n",
       "      <td>7.04</td>\n",
       "      <td>1.97</td>\n",
       "      <td>-5.07</td>\n",
       "    </tr>\n",
       "    <tr>\n",
       "      <th>12</th>\n",
       "      <td>Bahrain</td>\n",
       "      <td>7.09</td>\n",
       "      <td>2.03</td>\n",
       "      <td>-5.06</td>\n",
       "    </tr>\n",
       "    <tr>\n",
       "      <th>82</th>\n",
       "      <td>Iran</td>\n",
       "      <td>6.93</td>\n",
       "      <td>1.91</td>\n",
       "      <td>-5.02</td>\n",
       "    </tr>\n",
       "    <tr>\n",
       "      <th>145</th>\n",
       "      <td>Qatar</td>\n",
       "      <td>6.97</td>\n",
       "      <td>1.98</td>\n",
       "      <td>-4.99</td>\n",
       "    </tr>\n",
       "    <tr>\n",
       "      <th>2</th>\n",
       "      <td>Algeria</td>\n",
       "      <td>7.65</td>\n",
       "      <td>2.71</td>\n",
       "      <td>-4.94</td>\n",
       "    </tr>\n",
       "    <tr>\n",
       "      <th>131</th>\n",
       "      <td>Nicaragua</td>\n",
       "      <td>7.34</td>\n",
       "      <td>2.42</td>\n",
       "      <td>-4.92</td>\n",
       "    </tr>\n",
       "    <tr>\n",
       "      <th>110</th>\n",
       "      <td>Maldives</td>\n",
       "      <td>7.02</td>\n",
       "      <td>2.18</td>\n",
       "      <td>-4.84</td>\n",
       "    </tr>\n",
       "    <tr>\n",
       "      <th>94</th>\n",
       "      <td>South Korea</td>\n",
       "      <td>6.16</td>\n",
       "      <td>1.36</td>\n",
       "      <td>-4.80</td>\n",
       "    </tr>\n",
       "    <tr>\n",
       "      <th>175</th>\n",
       "      <td>Thailand</td>\n",
       "      <td>6.15</td>\n",
       "      <td>1.38</td>\n",
       "      <td>-4.77</td>\n",
       "    </tr>\n",
       "    <tr>\n",
       "      <th>95</th>\n",
       "      <td>Kuwait</td>\n",
       "      <td>7.25</td>\n",
       "      <td>2.55</td>\n",
       "      <td>-4.70</td>\n",
       "    </tr>\n",
       "    <tr>\n",
       "      <th>154</th>\n",
       "      <td>Saudi Arabia</td>\n",
       "      <td>7.22</td>\n",
       "      <td>2.54</td>\n",
       "      <td>-4.68</td>\n",
       "    </tr>\n",
       "    <tr>\n",
       "      <th>31</th>\n",
       "      <td>Cape Verde</td>\n",
       "      <td>6.89</td>\n",
       "      <td>2.22</td>\n",
       "      <td>-4.67</td>\n",
       "    </tr>\n",
       "    <tr>\n",
       "      <th>115</th>\n",
       "      <td>Mauritius</td>\n",
       "      <td>6.17</td>\n",
       "      <td>1.50</td>\n",
       "      <td>-4.67</td>\n",
       "    </tr>\n",
       "    <tr>\n",
       "      <th>117</th>\n",
       "      <td>Mexico</td>\n",
       "      <td>6.78</td>\n",
       "      <td>2.13</td>\n",
       "      <td>-4.65</td>\n",
       "    </tr>\n",
       "    <tr>\n",
       "      <th>194</th>\n",
       "      <td>Vietnam</td>\n",
       "      <td>6.35</td>\n",
       "      <td>1.70</td>\n",
       "      <td>-4.65</td>\n",
       "    </tr>\n",
       "    <tr>\n",
       "      <th>68</th>\n",
       "      <td>Grenada</td>\n",
       "      <td>6.74</td>\n",
       "      <td>2.13</td>\n",
       "      <td>-4.61</td>\n",
       "    </tr>\n",
       "    <tr>\n",
       "      <th>13</th>\n",
       "      <td>Bangladesh</td>\n",
       "      <td>6.73</td>\n",
       "      <td>2.12</td>\n",
       "      <td>-4.61</td>\n",
       "    </tr>\n",
       "    <tr>\n",
       "      <th>52</th>\n",
       "      <td>El Salvador</td>\n",
       "      <td>6.73</td>\n",
       "      <td>2.14</td>\n",
       "      <td>-4.59</td>\n",
       "    </tr>\n",
       "    <tr>\n",
       "      <th>172</th>\n",
       "      <td>Syria</td>\n",
       "      <td>7.47</td>\n",
       "      <td>2.88</td>\n",
       "      <td>-4.59</td>\n",
       "    </tr>\n",
       "    <tr>\n",
       "      <th>37</th>\n",
       "      <td>Colombia</td>\n",
       "      <td>6.81</td>\n",
       "      <td>2.23</td>\n",
       "      <td>-4.58</td>\n",
       "    </tr>\n",
       "    <tr>\n",
       "      <th>89</th>\n",
       "      <td>Jordan</td>\n",
       "      <td>7.69</td>\n",
       "      <td>3.12</td>\n",
       "      <td>-4.57</td>\n",
       "    </tr>\n",
       "    <tr>\n",
       "      <th>120</th>\n",
       "      <td>Mongolia</td>\n",
       "      <td>6.95</td>\n",
       "      <td>2.40</td>\n",
       "      <td>-4.55</td>\n",
       "    </tr>\n",
       "    <tr>\n",
       "      <th>76</th>\n",
       "      <td>Honduras</td>\n",
       "      <td>7.46</td>\n",
       "      <td>2.91</td>\n",
       "      <td>-4.55</td>\n",
       "    </tr>\n",
       "    <tr>\n",
       "      <th>24</th>\n",
       "      <td>Brunei</td>\n",
       "      <td>6.49</td>\n",
       "      <td>1.96</td>\n",
       "      <td>-4.53</td>\n",
       "    </tr>\n",
       "  </tbody>\n",
       "</table>\n",
       "</div>"
      ],
      "text/plain": [
       "                            country  fert_rate_1960  fert_rate_2015  \\\n",
       "41                       Costa Rica            7.31            1.77   \n",
       "102                           Libya            7.54            2.26   \n",
       "151  St. Vincent and the Grenadines            7.22            1.95   \n",
       "185            United Arab Emirates            6.93            1.77   \n",
       "49               Dominican Republic            7.56            2.42   \n",
       "150                       St. Lucia            6.97            1.87   \n",
       "180                         Tunisia            7.04            1.97   \n",
       "12                          Bahrain            7.09            2.03   \n",
       "82                             Iran            6.93            1.91   \n",
       "145                           Qatar            6.97            1.98   \n",
       "2                           Algeria            7.65            2.71   \n",
       "131                       Nicaragua            7.34            2.42   \n",
       "110                        Maldives            7.02            2.18   \n",
       "94                      South Korea            6.16            1.36   \n",
       "175                        Thailand            6.15            1.38   \n",
       "95                           Kuwait            7.25            2.55   \n",
       "154                    Saudi Arabia            7.22            2.54   \n",
       "31                       Cape Verde            6.89            2.22   \n",
       "115                       Mauritius            6.17            1.50   \n",
       "117                          Mexico            6.78            2.13   \n",
       "194                         Vietnam            6.35            1.70   \n",
       "68                          Grenada            6.74            2.13   \n",
       "13                       Bangladesh            6.73            2.12   \n",
       "52                      El Salvador            6.73            2.14   \n",
       "172                           Syria            7.47            2.88   \n",
       "37                         Colombia            6.81            2.23   \n",
       "89                           Jordan            7.69            3.12   \n",
       "120                        Mongolia            6.95            2.40   \n",
       "76                         Honduras            7.46            2.91   \n",
       "24                           Brunei            6.49            1.96   \n",
       "\n",
       "     fert_delta  \n",
       "41        -5.54  \n",
       "102       -5.28  \n",
       "151       -5.27  \n",
       "185       -5.16  \n",
       "49        -5.14  \n",
       "150       -5.10  \n",
       "180       -5.07  \n",
       "12        -5.06  \n",
       "82        -5.02  \n",
       "145       -4.99  \n",
       "2         -4.94  \n",
       "131       -4.92  \n",
       "110       -4.84  \n",
       "94        -4.80  \n",
       "175       -4.77  \n",
       "95        -4.70  \n",
       "154       -4.68  \n",
       "31        -4.67  \n",
       "115       -4.67  \n",
       "117       -4.65  \n",
       "194       -4.65  \n",
       "68        -4.61  \n",
       "13        -4.61  \n",
       "52        -4.59  \n",
       "172       -4.59  \n",
       "37        -4.58  \n",
       "89        -4.57  \n",
       "120       -4.55  \n",
       "76        -4.55  \n",
       "24        -4.53  "
      ]
     },
     "metadata": {},
     "execution_count": 407
    }
   ],
   "metadata": {}
  },
  {
   "cell_type": "markdown",
   "source": [
    "## Animated Scatter plot"
   ],
   "metadata": {}
  },
  {
   "cell_type": "code",
   "execution_count": 408,
   "source": [
    "plt.style.use('seaborn')\n",
    "\n",
    "for year in range(1960, 2015+1):\n",
    "    plt.axis((0,10,0,90))\n",
    "    df_split = df_merge[df_merge['year']==year]\n",
    "    plt.scatter(x=df_split['fertility_rate'], y=df_split['life_expectancy'], s=df_split['total_population']/5000000)\n",
    "    plt.title('Progress of Countries', size=20)\n",
    "    plt.xlabel('Fertility Rate', size=15)\n",
    "    plt.ylabel('Life Expectancy', size=15)\n",
    "    plt.legend([str(year)], fontsize='x-large')\n",
    "    plt.savefig('data/lifeexp_'+str(year)+'.png', dpi=200)\n",
    "    plt.close()"
   ],
   "outputs": [],
   "metadata": {}
  },
  {
   "cell_type": "code",
   "execution_count": 409,
   "source": [
    "import imageio\n",
    "\n",
    "images =[]\n",
    "\n",
    "for i in range(1960, 2015+1):\n",
    "    filename = 'data/lifeexp_{}.png'.format(i)\n",
    "    images.append(imageio.imread(filename))\n",
    "\n",
    "imageio.mimsave('output.gif', images, fps=12)"
   ],
   "outputs": [],
   "metadata": {}
  },
  {
   "cell_type": "code",
   "execution_count": null,
   "source": [],
   "outputs": [],
   "metadata": {}
  }
 ],
 "metadata": {
  "kernelspec": {
   "name": "python3",
   "display_name": "Python 3.7.11 64-bit ('myenv': conda)"
  },
  "language_info": {
   "name": "python",
   "version": "3.8.8",
   "mimetype": "text/x-python",
   "codemirror_mode": {
    "name": "ipython",
    "version": 3
   },
   "pygments_lexer": "ipython3",
   "nbconvert_exporter": "python",
   "file_extension": ".py"
  },
  "interpreter": {
   "hash": "f5c9dfabb21bd2a91b63810df81acbdc6b5e617e45414f0ef050ca96090c868f"
  }
 },
 "nbformat": 4,
 "nbformat_minor": 5
}