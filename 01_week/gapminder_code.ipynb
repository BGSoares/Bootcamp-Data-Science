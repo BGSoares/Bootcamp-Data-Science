{
 "cells": [
  {
   "cell_type": "markdown",
   "source": [
    "# Week 1 Project: Gapminder Scatter Plot\n",
    "##### Brunno Gorgulho Soares"
   ],
   "metadata": {}
  },
  {
   "cell_type": "markdown",
   "source": [
    "### Setup"
   ],
   "metadata": {}
  },
  {
   "cell_type": "code",
   "execution_count": 23,
   "source": [
    "# Load Packages\n",
    "import pandas as pd\n",
    "import matplotlib.pyplot as plt\n",
    "import seaborn as sns\n",
    "import time"
   ],
   "outputs": [],
   "metadata": {}
  },
  {
   "cell_type": "markdown",
   "source": [
    "### Getting data"
   ],
   "metadata": {}
  },
  {
   "cell_type": "code",
   "execution_count": 24,
   "source": [
    "data_cont = pd.read_csv(\"continents.csv\", sep = ';')\n",
    "data_fert = pd.read_csv(\"gapminder_total_fertility.csv\")\n",
    "data_lifeexp = pd.read_excel(\"gapminder_lifeexpectancy.xlsx\")\n",
    "data_pop = pd.read_excel(\"gapminder_population.xlsx\")"
   ],
   "outputs": [],
   "metadata": {}
  },
  {
   "cell_type": "markdown",
   "source": [
    "### Inspect variables"
   ],
   "metadata": {}
  },
  {
   "cell_type": "code",
   "execution_count": 25,
   "source": [
    "# Continents table\n",
    "\n",
    "print(df_cont['continent'].unique())\n",
    "print(df_cont['country'].unique())\n",
    "print(df_cont['country'].count())"
   ],
   "outputs": [
    {
     "output_type": "stream",
     "name": "stdout",
     "text": [
      "['Africa' 'Asia' 'Europe' 'North America' 'Australia and Oceania'\n",
      " 'South America']\n",
      "['Algeria' 'Angola' 'Benin' 'Botswana' 'Burkina' 'Burundi' 'Cameroon'\n",
      " 'Cape Verde' 'Central African Republic' 'Chad' 'Comoros' 'Congo'\n",
      " 'Congo, Democratic Republic of' 'Djibouti' 'Egypt' 'Equatorial Guinea'\n",
      " 'Eritrea' 'Ethiopia' 'Gabon' 'Gambia' 'Ghana' 'Guinea' 'Guinea-Bissau'\n",
      " 'Ivory Coast' 'Kenya' 'Lesotho' 'Liberia' 'Libya' 'Madagascar' 'Malawi'\n",
      " 'Mali' 'Mauritania' 'Mauritius' 'Morocco' 'Mozambique' 'Namibia' 'Niger'\n",
      " 'Nigeria' 'Rwanda' 'Sao Tome and Principe' 'Senegal' 'Seychelles'\n",
      " 'Sierra Leone' 'Somalia' 'South Africa' 'South Sudan' 'Sudan' 'Swaziland'\n",
      " 'Tanzania' 'Togo' 'Tunisia' 'Uganda' 'Zambia' 'Zimbabwe' 'Afghanistan'\n",
      " 'Bahrain' 'Bangladesh' 'Bhutan' 'Brunei' 'Burma (Myanmar)' 'Cambodia'\n",
      " 'China' 'East Timor' 'India' 'Indonesia' 'Iran' 'Iraq' 'Israel' 'Japan'\n",
      " 'Jordan' 'Kazakhstan' 'Korea, North' 'Korea, South' 'Kuwait' 'Kyrgyzstan'\n",
      " 'Laos' 'Lebanon' 'Malaysia' 'Maldives' 'Mongolia' 'Nepal' 'Oman'\n",
      " 'Pakistan' 'Philippines' 'Qatar' 'Russian Federation' 'Saudi Arabia'\n",
      " 'Singapore' 'Sri Lanka' 'Syria' 'Tajikistan' 'Thailand' 'Turkey'\n",
      " 'Turkmenistan' 'United Arab Emirates' 'Uzbekistan' 'Vietnam' 'Yemen'\n",
      " 'Albania' 'Andorra' 'Armenia' 'Austria' 'Azerbaijan' 'Belarus' 'Belgium'\n",
      " 'Bosnia and Herzegovina' 'Bulgaria' 'Croatia' 'Cyprus' 'Czech Republic'\n",
      " 'Denmark' 'Estonia' 'Finland' 'France' 'Georgia' 'Germany' 'Greece'\n",
      " 'Hungary' 'Iceland' 'Ireland' 'Italy' 'Latvia' 'Liechtenstein'\n",
      " 'Lithuania' 'Luxembourg' 'Macedonia' 'Malta' 'Moldova' 'Monaco'\n",
      " 'Montenegro' 'Netherlands' 'Norway' 'Poland' 'Portugal' 'Romania'\n",
      " 'San Marino' 'Serbia' 'Slovakia' 'Slovenia' 'Spain' 'Sweden'\n",
      " 'Switzerland' 'Ukraine' 'United Kingdom' 'Vatican City'\n",
      " 'Antigua and Barbuda' 'Bahamas' 'Barbados' 'Belize' 'Canada' 'Costa Rica'\n",
      " 'Cuba' 'Dominica' 'Dominican Republic' 'El Salvador' 'Grenada'\n",
      " 'Guatemala' 'Haiti' 'Honduras' 'Jamaica' 'Mexico' 'Nicaragua' 'Panama'\n",
      " 'Saint Kitts and Nevis' 'Saint Lucia' 'Saint Vincent and the Grenadines'\n",
      " 'Trinidad and Tobago' 'United States' 'Australia' 'Fiji' 'Kiribati'\n",
      " 'Marshall Islands' 'Micronesia' 'Nauru' 'New Zealand' 'Palau'\n",
      " 'Papua New Guinea' 'Samoa' 'Solomon Islands' 'Tonga' 'Tuvalu' 'Vanuatu'\n",
      " 'Argentina' 'Bolivia' 'Brazil' 'Chile' 'Colombia' 'Ecuador' 'Guyana'\n",
      " 'Paraguay' 'Peru' 'Suriname' 'Uruguay' 'Venezuela']\n",
      "194\n"
     ]
    }
   ],
   "metadata": {}
  },
  {
   "cell_type": "code",
   "execution_count": 26,
   "source": [
    "# Fertility table\n",
    "\n",
    "df_fert"
   ],
   "outputs": [
    {
     "output_type": "execute_result",
     "data": {
      "text/html": [
       "<div>\n",
       "<style scoped>\n",
       "    .dataframe tbody tr th:only-of-type {\n",
       "        vertical-align: middle;\n",
       "    }\n",
       "\n",
       "    .dataframe tbody tr th {\n",
       "        vertical-align: top;\n",
       "    }\n",
       "\n",
       "    .dataframe thead th {\n",
       "        text-align: right;\n",
       "    }\n",
       "</style>\n",
       "<table border=\"1\" class=\"dataframe\">\n",
       "  <thead>\n",
       "    <tr style=\"text-align: right;\">\n",
       "      <th></th>\n",
       "      <th>country</th>\n",
       "      <th>year</th>\n",
       "      <th>fertility rate</th>\n",
       "    </tr>\n",
       "  </thead>\n",
       "  <tbody>\n",
       "    <tr>\n",
       "      <th>1</th>\n",
       "      <td>Afghanistan</td>\n",
       "      <td>1800</td>\n",
       "      <td>7.00</td>\n",
       "    </tr>\n",
       "    <tr>\n",
       "      <th>3</th>\n",
       "      <td>Albania</td>\n",
       "      <td>1800</td>\n",
       "      <td>4.60</td>\n",
       "    </tr>\n",
       "    <tr>\n",
       "      <th>4</th>\n",
       "      <td>Algeria</td>\n",
       "      <td>1800</td>\n",
       "      <td>6.99</td>\n",
       "    </tr>\n",
       "    <tr>\n",
       "      <th>7</th>\n",
       "      <td>Angola</td>\n",
       "      <td>1800</td>\n",
       "      <td>6.93</td>\n",
       "    </tr>\n",
       "    <tr>\n",
       "      <th>9</th>\n",
       "      <td>Antigua and Barbuda</td>\n",
       "      <td>1800</td>\n",
       "      <td>5.00</td>\n",
       "    </tr>\n",
       "    <tr>\n",
       "      <th>...</th>\n",
       "      <td>...</td>\n",
       "      <td>...</td>\n",
       "      <td>...</td>\n",
       "    </tr>\n",
       "    <tr>\n",
       "      <th>56150</th>\n",
       "      <td>Vietnam</td>\n",
       "      <td>2015</td>\n",
       "      <td>1.70</td>\n",
       "    </tr>\n",
       "    <tr>\n",
       "      <th>56151</th>\n",
       "      <td>Virgin Islands (U.S.)</td>\n",
       "      <td>2015</td>\n",
       "      <td>2.45</td>\n",
       "    </tr>\n",
       "    <tr>\n",
       "      <th>56154</th>\n",
       "      <td>Yemen</td>\n",
       "      <td>2015</td>\n",
       "      <td>3.83</td>\n",
       "    </tr>\n",
       "    <tr>\n",
       "      <th>56156</th>\n",
       "      <td>Zambia</td>\n",
       "      <td>2015</td>\n",
       "      <td>5.59</td>\n",
       "    </tr>\n",
       "    <tr>\n",
       "      <th>56157</th>\n",
       "      <td>Zimbabwe</td>\n",
       "      <td>2015</td>\n",
       "      <td>3.35</td>\n",
       "    </tr>\n",
       "  </tbody>\n",
       "</table>\n",
       "<p>43412 rows × 3 columns</p>\n",
       "</div>"
      ],
      "text/plain": [
       "                     country  year  fertility rate\n",
       "1                Afghanistan  1800            7.00\n",
       "3                    Albania  1800            4.60\n",
       "4                    Algeria  1800            6.99\n",
       "7                     Angola  1800            6.93\n",
       "9        Antigua and Barbuda  1800            5.00\n",
       "...                      ...   ...             ...\n",
       "56150                Vietnam  2015            1.70\n",
       "56151  Virgin Islands (U.S.)  2015            2.45\n",
       "56154                  Yemen  2015            3.83\n",
       "56156                 Zambia  2015            5.59\n",
       "56157               Zimbabwe  2015            3.35\n",
       "\n",
       "[43412 rows x 3 columns]"
      ]
     },
     "metadata": {},
     "execution_count": 26
    }
   ],
   "metadata": {}
  },
  {
   "cell_type": "markdown",
   "source": [
    "### Data wrangling"
   ],
   "metadata": {}
  },
  {
   "cell_type": "code",
   "execution_count": 38,
   "source": [
    "# convert wide to long format, drop na's\n",
    "\n",
    "# Continents table\n",
    "df_cont = data_cont\n",
    "\n",
    "# Fertility Rate table\n",
    "df_fert = pd.melt(data_fert,id_vars = 'Total fertility rate').dropna()\n",
    "df_fert.columns = ['country', 'year', 'fertility rate']\n",
    "df_fert = df_fert.astype({'year': 'int', 'fertility rate': 'float'})\n",
    "\n",
    "# Life Expectancy table\n",
    "df_lifeexp = pd.melt(data_lifeexp, id_vars = \"Life expectancy\").dropna()\n",
    "df_lifeexp.columns = ['country', 'year', 'life expectancy']\n",
    "df_lifeexp = df_lifeexp.astype({'year': 'int', 'life expectancy': 'float'})\n",
    "\n",
    "# Population table\n",
    "df_pop = pd.melt(data_pop, id_vars = 'Total population').dropna()\n",
    "df_pop.columns = ['country', 'year', 'total population']\n",
    "df_pop = df_pop.astype({'year': 'int', 'total population': 'int'})\n",
    "\n",
    "print(\n",
    "    'df_fert shape:', df_fert.shape,\n",
    "    '\\ndf_lifeexp shape:', df_lifeexp.shape,\n",
    "    '\\ndf_pop shape', df_pop.shape\n",
    "    )"
   ],
   "outputs": [
    {
     "output_type": "stream",
     "name": "stdout",
     "text": [
      "df_fert shape: (43412, 3) \n",
      "df_lifeexp shape: (43857, 3) \n",
      "df_pop shape (20176, 3)\n"
     ]
    }
   ],
   "metadata": {}
  },
  {
   "cell_type": "markdown",
   "source": [
    "### Merge"
   ],
   "metadata": {}
  },
  {
   "cell_type": "code",
   "execution_count": 39,
   "source": [
    "df_submerge1 = pd.merge(df_fert, df_lifeexp, how = \"left\", on = ['country', 'year'])\n",
    "df_submerge2 = pd.merge(df_submerge1, df_pop, how = \"left\", on = ['country', 'year'])\n",
    "df_merge = pd.merge(df_submerge2, df_cont, how = 'left', on = 'country')\n",
    "\n",
    "print(\n",
    "    df_merge.head(), \n",
    "    \"\\n\" + str(df_merge.shape)\n",
    "    )"
   ],
   "outputs": [
    {
     "output_type": "stream",
     "name": "stdout",
     "text": [
      "               country  year  fertility rate  life expectancy  \\\n",
      "0          Afghanistan  1800            7.00            28.21   \n",
      "1              Albania  1800            4.60            35.40   \n",
      "2              Algeria  1800            6.99            28.82   \n",
      "3               Angola  1800            6.93            26.98   \n",
      "4  Antigua and Barbuda  1800            5.00            33.54   \n",
      "\n",
      "   total population      continent  \n",
      "0         3280000.0           Asia  \n",
      "1          410445.0         Europe  \n",
      "2         2503218.0         Africa  \n",
      "3         1567028.0         Africa  \n",
      "4           37000.0  North America   \n",
      "(43412, 6)\n"
     ]
    }
   ],
   "metadata": {}
  },
  {
   "cell_type": "markdown",
   "source": [
    "### Sample Plots"
   ],
   "metadata": {}
  },
  {
   "cell_type": "code",
   "execution_count": 40,
   "source": [
    "# Parameters\n",
    "country = 'Brazil'"
   ],
   "outputs": [],
   "metadata": {}
  },
  {
   "cell_type": "code",
   "execution_count": 41,
   "source": [
    "plt.scatter(df_merge[df_merge.country == country]['year'], df_merge[df_merge.country == country]['life expectancy'])"
   ],
   "outputs": [
    {
     "output_type": "execute_result",
     "data": {
      "text/plain": [
       "<matplotlib.collections.PathCollection at 0x7fde01ee1b50>"
      ]
     },
     "metadata": {},
     "execution_count": 41
    },
    {
     "output_type": "display_data",
     "data": {
      "image/png": "[encoded data removed]",
      "text/plain": [
       "<Figure size 432x288 with 1 Axes>"
      ]
     },
     "metadata": {
      "needs_background": "light"
     }
    }
   ],
   "metadata": {}
  },
  {
   "cell_type": "code",
   "execution_count": 31,
   "source": [
    "# Parameters\n",
    "x = 'fertility rate'\n",
    "y = 'life expectancy'\n",
    "year = 2000"
   ],
   "outputs": [],
   "metadata": {}
  },
  {
   "cell_type": "code",
   "execution_count": 32,
   "source": [
    "plt.scatter(df_merge[df_merge.year == year][x], df_merge[df_merge.year == year][y])"
   ],
   "outputs": [
    {
     "output_type": "execute_result",
     "data": {
      "text/plain": [
       "<matplotlib.collections.PathCollection at 0x7fddfc075150>"
      ]
     },
     "metadata": {},
     "execution_count": 32
    },
    {
     "output_type": "display_data",
     "data": {
      "image/png": "[encoded data removed]",
      "text/plain": [
       "<Figure size 432x288 with 1 Axes>"
      ]
     },
     "metadata": {
      "needs_background": "light"
     }
    }
   ],
   "metadata": {}
  },
  {
   "cell_type": "code",
   "execution_count": 52,
   "source": [
    "type(df_merge['total population'][0])"
   ],
   "outputs": [
    {
     "output_type": "execute_result",
     "data": {
      "text/plain": [
       "numpy.float64"
      ]
     },
     "metadata": {},
     "execution_count": 52
    }
   ],
   "metadata": {}
  },
  {
   "cell_type": "code",
   "execution_count": 227,
   "source": [
    "years = list(df_merge.year.unique())\n",
    "for yr in years:\n",
    "    plt.scatter(df_merge[df_merge.year == yr]['fertility rate'], df_merge[df_merge.year == yr]['life expectancy'])\n",
    "    time.sleep(1)"
   ],
   "outputs": [
    {
     "output_type": "error",
     "ename": "KeyboardInterrupt",
     "evalue": "",
     "traceback": [
      "\u001b[0;31m---------------------------------------------------------------------------\u001b[0m",
      "\u001b[0;31mKeyboardInterrupt\u001b[0m                         Traceback (most recent call last)",
      "\u001b[0;32m<ipython-input-227-09186fb77d15>\u001b[0m in \u001b[0;36m<module>\u001b[0;34m\u001b[0m\n\u001b[1;32m      2\u001b[0m \u001b[0;32mfor\u001b[0m \u001b[0myr\u001b[0m \u001b[0;32min\u001b[0m \u001b[0myears\u001b[0m\u001b[0;34m:\u001b[0m\u001b[0;34m\u001b[0m\u001b[0;34m\u001b[0m\u001b[0m\n\u001b[1;32m      3\u001b[0m     \u001b[0mplt\u001b[0m\u001b[0;34m.\u001b[0m\u001b[0mscatter\u001b[0m\u001b[0;34m(\u001b[0m\u001b[0mdf_merge\u001b[0m\u001b[0;34m[\u001b[0m\u001b[0mdf_merge\u001b[0m\u001b[0;34m.\u001b[0m\u001b[0myear\u001b[0m \u001b[0;34m==\u001b[0m \u001b[0myr\u001b[0m\u001b[0;34m]\u001b[0m\u001b[0;34m[\u001b[0m\u001b[0;34m'fertility rate'\u001b[0m\u001b[0;34m]\u001b[0m\u001b[0;34m,\u001b[0m \u001b[0mdf_merge\u001b[0m\u001b[0;34m[\u001b[0m\u001b[0mdf_merge\u001b[0m\u001b[0;34m.\u001b[0m\u001b[0myear\u001b[0m \u001b[0;34m==\u001b[0m \u001b[0myr\u001b[0m\u001b[0;34m]\u001b[0m\u001b[0;34m[\u001b[0m\u001b[0;34m'life expectancy'\u001b[0m\u001b[0;34m]\u001b[0m\u001b[0;34m)\u001b[0m\u001b[0;34m\u001b[0m\u001b[0;34m\u001b[0m\u001b[0m\n\u001b[0;32m----> 4\u001b[0;31m     \u001b[0mtime\u001b[0m\u001b[0;34m.\u001b[0m\u001b[0msleep\u001b[0m\u001b[0;34m(\u001b[0m\u001b[0;36m1\u001b[0m\u001b[0;34m)\u001b[0m\u001b[0;34m\u001b[0m\u001b[0;34m\u001b[0m\u001b[0m\n\u001b[0m",
      "\u001b[0;31mKeyboardInterrupt\u001b[0m: "
     ]
    },
    {
     "output_type": "display_data",
     "data": {
      "image/png": "[encoded data removed]",
      "text/plain": [
       "<Figure size 432x288 with 1 Axes>"
      ]
     },
     "metadata": {
      "needs_background": "light"
     }
    }
   ],
   "metadata": {}
  }
 ],
 "metadata": {
  "kernelspec": {
   "name": "python3",
   "display_name": "Python 3.7.11 64-bit ('myenv': conda)"
  },
  "language_info": {
   "codemirror_mode": {
    "name": "ipython",
    "version": 3
   },
   "file_extension": ".py",
   "mimetype": "text/x-python",
   "name": "python",
   "nbconvert_exporter": "python",
   "pygments_lexer": "ipython3",
   "version": "3.7.11"
  },
  "interpreter": {
   "hash": "f5c9dfabb21bd2a91b63810df81acbdc6b5e617e45414f0ef050ca96090c868f"
  }
 },
 "nbformat": 4,
 "nbformat_minor": 5
}