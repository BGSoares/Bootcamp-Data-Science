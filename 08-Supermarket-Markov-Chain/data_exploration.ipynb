{
 "cells": [
  {
   "cell_type": "markdown",
   "metadata": {},
   "source": [
    "# **SPICED ACADEMY  //  WEEK 08  //  SUPERMARKET MARKOV SIMULATION**"
   ]
  },
  {
   "cell_type": "markdown",
   "metadata": {},
   "source": [
    "**Brunno Gorgulho Soares**"
   ]
  },
  {
   "cell_type": "markdown",
   "metadata": {},
   "source": [
    "# 0. Set Up"
   ]
  },
  {
   "cell_type": "code",
   "execution_count": 2,
   "metadata": {},
   "outputs": [],
   "source": [
    "# Essentials\n",
    "import pandas as pd\n",
    "import numpy as np\n",
    "\n",
    "# Simulating\n",
    "import random\n",
    "from Customer import Customer\n",
    "\n",
    "# Plotting\n",
    "import matplotlib.pyplot as plt\n",
    "plt.rcParams['figure.figsize'] = (12, 6)\n",
    "\n",
    "# PEP8\n",
    "# %load_ext pycodestyle_magic"
   ]
  },
  {
   "cell_type": "markdown",
   "metadata": {},
   "source": [
    "# 1. Get Data"
   ]
  },
  {
   "cell_type": "code",
   "execution_count": 3,
   "metadata": {},
   "outputs": [],
   "source": [
    "# %%pycodestyle\n",
    "\n",
    "def get_data():\n",
    "\n",
    "    for day in ['monday', 'tuesday', 'wednesday', 'thursday', 'friday']:\n",
    "\n",
    "        file = f'data/{day}.csv'\n",
    "        df_temp = pd.read_csv(file, sep=';', parse_dates=['timestamp'])\n",
    "\n",
    "        if day=='monday':\n",
    "            df = df_temp\n",
    "        \n",
    "        else:\n",
    "            df_temp['customer_no'] += last_customer        \n",
    "            df = pd.concat([df, df_temp])\n",
    "\n",
    "        last_customer = df['customer_no'].max()\n",
    "\n",
    "    return df"
   ]
  },
  {
   "cell_type": "code",
   "execution_count": 4,
   "metadata": {},
   "outputs": [],
   "source": [
    "df = get_data()"
   ]
  },
  {
   "cell_type": "markdown",
   "metadata": {},
   "source": [
    "Remove customers which never make it to checkout (store closes before they do)."
   ]
  },
  {
   "cell_type": "code",
   "execution_count": 5,
   "metadata": {},
   "outputs": [],
   "source": [
    "last_location = df.sort_values('timestamp').groupby('customer_no').tail(1)\n",
    "excluded_customers = last_location[last_location['location']!='checkout']['customer_no']\n",
    "df = df[~(df['customer_no'].isin(excluded_customers))]"
   ]
  },
  {
   "cell_type": "markdown",
   "metadata": {},
   "source": [
    "Resample to have minute-by-minute observation."
   ]
  },
  {
   "cell_type": "code",
   "execution_count": 6,
   "metadata": {},
   "outputs": [],
   "source": [
    "df.set_index('timestamp', inplace=True)"
   ]
  },
  {
   "cell_type": "code",
   "execution_count": 7,
   "metadata": {},
   "outputs": [],
   "source": [
    "df = df.groupby('customer_no').resample(rule='T').last().fillna(method='ffill')"
   ]
  },
  {
   "cell_type": "code",
   "execution_count": 8,
   "metadata": {},
   "outputs": [],
   "source": [
    "df.index = df.index.droplevel(0)"
   ]
  },
  {
   "cell_type": "code",
   "execution_count": 9,
   "metadata": {},
   "outputs": [],
   "source": [
    "df.reset_index(inplace=True)"
   ]
  },
  {
   "cell_type": "markdown",
   "metadata": {},
   "source": [
    "# 2. Data Exploration"
   ]
  },
  {
   "cell_type": "code",
   "execution_count": 10,
   "metadata": {},
   "outputs": [
    {
     "data": {
      "text/html": [
       "<div>\n",
       "<style scoped>\n",
       "    .dataframe tbody tr th:only-of-type {\n",
       "        vertical-align: middle;\n",
       "    }\n",
       "\n",
       "    .dataframe tbody tr th {\n",
       "        vertical-align: top;\n",
       "    }\n",
       "\n",
       "    .dataframe thead th {\n",
       "        text-align: right;\n",
       "    }\n",
       "</style>\n",
       "<table border=\"1\" class=\"dataframe\">\n",
       "  <thead>\n",
       "    <tr style=\"text-align: right;\">\n",
       "      <th></th>\n",
       "      <th>location</th>\n",
       "    </tr>\n",
       "  </thead>\n",
       "  <tbody>\n",
       "    <tr>\n",
       "      <th>count</th>\n",
       "      <td>7417.000000</td>\n",
       "    </tr>\n",
       "    <tr>\n",
       "      <th>mean</th>\n",
       "      <td>7.246191</td>\n",
       "    </tr>\n",
       "    <tr>\n",
       "      <th>std</th>\n",
       "      <td>6.003690</td>\n",
       "    </tr>\n",
       "    <tr>\n",
       "      <th>min</th>\n",
       "      <td>2.000000</td>\n",
       "    </tr>\n",
       "    <tr>\n",
       "      <th>25%</th>\n",
       "      <td>3.000000</td>\n",
       "    </tr>\n",
       "    <tr>\n",
       "      <th>50%</th>\n",
       "      <td>5.000000</td>\n",
       "    </tr>\n",
       "    <tr>\n",
       "      <th>75%</th>\n",
       "      <td>9.000000</td>\n",
       "    </tr>\n",
       "    <tr>\n",
       "      <th>max</th>\n",
       "      <td>53.000000</td>\n",
       "    </tr>\n",
       "  </tbody>\n",
       "</table>\n",
       "</div>"
      ],
      "text/plain": [
       "          location\n",
       "count  7417.000000\n",
       "mean      7.246191\n",
       "std       6.003690\n",
       "min       2.000000\n",
       "25%       3.000000\n",
       "50%       5.000000\n",
       "75%       9.000000\n",
       "max      53.000000"
      ]
     },
     "execution_count": 10,
     "metadata": {},
     "output_type": "execute_result"
    }
   ],
   "source": [
    "df[['customer_no', 'location']].groupby(['customer_no']).count().describe()"
   ]
  },
  {
   "cell_type": "code",
   "execution_count": 11,
   "metadata": {},
   "outputs": [
    {
     "data": {
      "text/plain": [
       "timestamp      0\n",
       "customer_no    0\n",
       "location       0\n",
       "dtype: int64"
      ]
     },
     "execution_count": 11,
     "metadata": {},
     "output_type": "execute_result"
    }
   ],
   "source": [
    "df.isna().sum()"
   ]
  },
  {
   "cell_type": "code",
   "execution_count": 12,
   "metadata": {},
   "outputs": [
    {
     "data": {
      "text/html": [
       "<div>\n",
       "<style scoped>\n",
       "    .dataframe tbody tr th:only-of-type {\n",
       "        vertical-align: middle;\n",
       "    }\n",
       "\n",
       "    .dataframe tbody tr th {\n",
       "        vertical-align: top;\n",
       "    }\n",
       "\n",
       "    .dataframe thead th {\n",
       "        text-align: right;\n",
       "    }\n",
       "</style>\n",
       "<table border=\"1\" class=\"dataframe\">\n",
       "  <thead>\n",
       "    <tr style=\"text-align: right;\">\n",
       "      <th></th>\n",
       "      <th>timestamp</th>\n",
       "      <th>customer_no</th>\n",
       "    </tr>\n",
       "  </thead>\n",
       "  <tbody>\n",
       "    <tr>\n",
       "      <th>count</th>\n",
       "      <td>53745</td>\n",
       "      <td>53745.000000</td>\n",
       "    </tr>\n",
       "    <tr>\n",
       "      <th>mean</th>\n",
       "      <td>2019-09-04 15:15:37.044934656</td>\n",
       "      <td>3710.655298</td>\n",
       "    </tr>\n",
       "    <tr>\n",
       "      <th>min</th>\n",
       "      <td>2019-09-02 07:03:00</td>\n",
       "      <td>1.000000</td>\n",
       "    </tr>\n",
       "    <tr>\n",
       "      <th>25%</th>\n",
       "      <td>2019-09-03 10:46:00</td>\n",
       "      <td>1814.000000</td>\n",
       "    </tr>\n",
       "    <tr>\n",
       "      <th>50%</th>\n",
       "      <td>2019-09-04 15:07:00</td>\n",
       "      <td>3710.000000</td>\n",
       "    </tr>\n",
       "    <tr>\n",
       "      <th>75%</th>\n",
       "      <td>2019-09-05 19:02:00</td>\n",
       "      <td>5596.000000</td>\n",
       "    </tr>\n",
       "    <tr>\n",
       "      <th>max</th>\n",
       "      <td>2019-09-06 21:50:00</td>\n",
       "      <td>7443.000000</td>\n",
       "    </tr>\n",
       "    <tr>\n",
       "      <th>std</th>\n",
       "      <td>NaN</td>\n",
       "      <td>2165.147235</td>\n",
       "    </tr>\n",
       "  </tbody>\n",
       "</table>\n",
       "</div>"
      ],
      "text/plain": [
       "                           timestamp   customer_no\n",
       "count                          53745  53745.000000\n",
       "mean   2019-09-04 15:15:37.044934656   3710.655298\n",
       "min              2019-09-02 07:03:00      1.000000\n",
       "25%              2019-09-03 10:46:00   1814.000000\n",
       "50%              2019-09-04 15:07:00   3710.000000\n",
       "75%              2019-09-05 19:02:00   5596.000000\n",
       "max              2019-09-06 21:50:00   7443.000000\n",
       "std                              NaN   2165.147235"
      ]
     },
     "execution_count": 12,
     "metadata": {},
     "output_type": "execute_result"
    }
   ],
   "source": [
    "df.describe(datetime_is_numeric=True)"
   ]
  },
  {
   "cell_type": "markdown",
   "metadata": {},
   "source": [
    "Total number of customers per location, at any given point in time."
   ]
  },
  {
   "cell_type": "code",
   "execution_count": 13,
   "metadata": {},
   "outputs": [
    {
     "data": {
      "text/plain": [
       "<AxesSubplot:xlabel='location'>"
      ]
     },
     "execution_count": 13,
     "metadata": {},
     "output_type": "execute_result"
    },
    {
     "data": {
      "image/png": "[encoded data removed]",
      "text/plain": [
       "<Figure size 864x432 with 1 Axes>"
      ]
     },
     "metadata": {
      "needs_background": "light"
     },
     "output_type": "display_data"
    }
   ],
   "source": [
    "df[['customer_no', 'location']].groupby('location').count().sort_values(by='customer_no', ascending=False).plot.bar()"
   ]
  },
  {
   "cell_type": "code",
   "execution_count": 14,
   "metadata": {},
   "outputs": [
    {
     "data": {
      "text/html": [
       "<div>\n",
       "<style scoped>\n",
       "    .dataframe tbody tr th:only-of-type {\n",
       "        vertical-align: middle;\n",
       "    }\n",
       "\n",
       "    .dataframe tbody tr th {\n",
       "        vertical-align: top;\n",
       "    }\n",
       "\n",
       "    .dataframe thead th {\n",
       "        text-align: right;\n",
       "    }\n",
       "</style>\n",
       "<table border=\"1\" class=\"dataframe\">\n",
       "  <thead>\n",
       "    <tr style=\"text-align: right;\">\n",
       "      <th>location</th>\n",
       "      <th>checkout</th>\n",
       "      <th>dairy</th>\n",
       "      <th>drinks</th>\n",
       "      <th>fruit</th>\n",
       "      <th>spices</th>\n",
       "    </tr>\n",
       "    <tr>\n",
       "      <th>rounded_timestamp</th>\n",
       "      <th></th>\n",
       "      <th></th>\n",
       "      <th></th>\n",
       "      <th></th>\n",
       "      <th></th>\n",
       "    </tr>\n",
       "  </thead>\n",
       "  <tbody>\n",
       "    <tr>\n",
       "      <th>2019-09-02 07:00:00</th>\n",
       "      <td>41</td>\n",
       "      <td>84</td>\n",
       "      <td>65</td>\n",
       "      <td>61</td>\n",
       "      <td>32</td>\n",
       "    </tr>\n",
       "    <tr>\n",
       "      <th>2019-09-02 08:00:00</th>\n",
       "      <td>102</td>\n",
       "      <td>253</td>\n",
       "      <td>160</td>\n",
       "      <td>155</td>\n",
       "      <td>71</td>\n",
       "    </tr>\n",
       "    <tr>\n",
       "      <th>2019-09-02 09:00:00</th>\n",
       "      <td>94</td>\n",
       "      <td>236</td>\n",
       "      <td>184</td>\n",
       "      <td>202</td>\n",
       "      <td>96</td>\n",
       "    </tr>\n",
       "    <tr>\n",
       "      <th>2019-09-02 10:00:00</th>\n",
       "      <td>99</td>\n",
       "      <td>238</td>\n",
       "      <td>130</td>\n",
       "      <td>179</td>\n",
       "      <td>70</td>\n",
       "    </tr>\n",
       "    <tr>\n",
       "      <th>2019-09-02 11:00:00</th>\n",
       "      <td>73</td>\n",
       "      <td>178</td>\n",
       "      <td>94</td>\n",
       "      <td>109</td>\n",
       "      <td>93</td>\n",
       "    </tr>\n",
       "    <tr>\n",
       "      <th>...</th>\n",
       "      <td>...</td>\n",
       "      <td>...</td>\n",
       "      <td>...</td>\n",
       "      <td>...</td>\n",
       "      <td>...</td>\n",
       "    </tr>\n",
       "    <tr>\n",
       "      <th>2019-09-06 18:00:00</th>\n",
       "      <td>128</td>\n",
       "      <td>321</td>\n",
       "      <td>180</td>\n",
       "      <td>251</td>\n",
       "      <td>108</td>\n",
       "    </tr>\n",
       "    <tr>\n",
       "      <th>2019-09-06 19:00:00</th>\n",
       "      <td>141</td>\n",
       "      <td>300</td>\n",
       "      <td>209</td>\n",
       "      <td>262</td>\n",
       "      <td>115</td>\n",
       "    </tr>\n",
       "    <tr>\n",
       "      <th>2019-09-06 20:00:00</th>\n",
       "      <td>130</td>\n",
       "      <td>290</td>\n",
       "      <td>199</td>\n",
       "      <td>243</td>\n",
       "      <td>110</td>\n",
       "    </tr>\n",
       "    <tr>\n",
       "      <th>2019-09-06 21:00:00</th>\n",
       "      <td>75</td>\n",
       "      <td>132</td>\n",
       "      <td>116</td>\n",
       "      <td>86</td>\n",
       "      <td>84</td>\n",
       "    </tr>\n",
       "    <tr>\n",
       "      <th>2019-09-06 22:00:00</th>\n",
       "      <td>18</td>\n",
       "      <td>19</td>\n",
       "      <td>10</td>\n",
       "      <td>17</td>\n",
       "      <td>1</td>\n",
       "    </tr>\n",
       "  </tbody>\n",
       "</table>\n",
       "<p>80 rows × 5 columns</p>\n",
       "</div>"
      ],
      "text/plain": [
       "location             checkout  dairy  drinks  fruit  spices\n",
       "rounded_timestamp                                          \n",
       "2019-09-02 07:00:00        41     84      65     61      32\n",
       "2019-09-02 08:00:00       102    253     160    155      71\n",
       "2019-09-02 09:00:00        94    236     184    202      96\n",
       "2019-09-02 10:00:00        99    238     130    179      70\n",
       "2019-09-02 11:00:00        73    178      94    109      93\n",
       "...                       ...    ...     ...    ...     ...\n",
       "2019-09-06 18:00:00       128    321     180    251     108\n",
       "2019-09-06 19:00:00       141    300     209    262     115\n",
       "2019-09-06 20:00:00       130    290     199    243     110\n",
       "2019-09-06 21:00:00        75    132     116     86      84\n",
       "2019-09-06 22:00:00        18     19      10     17       1\n",
       "\n",
       "[80 rows x 5 columns]"
      ]
     },
     "execution_count": 14,
     "metadata": {},
     "output_type": "execute_result"
    }
   ],
   "source": [
    "df['rounded_timestamp'] = df['timestamp'].round('H')\n",
    "df[['location', 'rounded_timestamp', 'customer_no']].groupby(by=['rounded_timestamp', 'location']).count().unstack().fillna(0)['customer_no']"
   ]
  },
  {
   "cell_type": "code",
   "execution_count": 15,
   "metadata": {},
   "outputs": [
    {
     "data": {
      "text/plain": [
       "<AxesSubplot:xlabel='timestamp'>"
      ]
     },
     "execution_count": 15,
     "metadata": {},
     "output_type": "execute_result"
    },
    {
     "data": {
      "image/png": "[encoded data removed]",
      "text/plain": [
       "<Figure size 864x432 with 1 Axes>"
      ]
     },
     "metadata": {
      "needs_background": "light"
     },
     "output_type": "display_data"
    }
   ],
   "source": [
    "df[df['location']=='checkout']['customer_no'].groupby(df['timestamp'].round('H')).count().plot()"
   ]
  },
  {
   "cell_type": "code",
   "execution_count": 16,
   "metadata": {},
   "outputs": [
    {
     "data": {
      "text/plain": [
       "<AxesSubplot:>"
      ]
     },
     "execution_count": 16,
     "metadata": {},
     "output_type": "execute_result"
    },
    {
     "data": {
      "image/png": "[encoded data removed]",
      "text/plain": [
       "<Figure size 864x432 with 1 Axes>"
      ]
     },
     "metadata": {
      "needs_background": "light"
     },
     "output_type": "display_data"
    }
   ],
   "source": [
    "cust_max_time = df[['customer_no', 'timestamp']].groupby('customer_no').max()\n",
    "cust_min_time = df[['customer_no', 'timestamp']].groupby('customer_no').min()\n",
    "cust_len_stay = cust_min_time.join(cust_max_time, how='right', lsuffix='_min', rsuffix='_max')\n",
    "cust_len_stay['length_stay'] = (cust_len_stay['timestamp_max'] - cust_len_stay['timestamp_min']).astype('timedelta64[m]')\n",
    "cust_len_stay['length_stay'].hist(bins=100)"
   ]
  },
  {
   "cell_type": "code",
   "execution_count": 17,
   "metadata": {},
   "outputs": [
    {
     "data": {
      "text/plain": [
       "<AxesSubplot:xlabel='timestamp'>"
      ]
     },
     "execution_count": 17,
     "metadata": {},
     "output_type": "execute_result"
    },
    {
     "data": {
      "image/png": "[encoded data removed]",
      "text/plain": [
       "<Figure size 864x432 with 1 Axes>"
      ]
     },
     "metadata": {
      "needs_background": "light"
     },
     "output_type": "display_data"
    }
   ],
   "source": [
    "df[df['location']!='checkout']['customer_no'].groupby(df['timestamp'].round('H')).count().plot()"
   ]
  },
  {
   "cell_type": "code",
   "execution_count": 18,
   "metadata": {},
   "outputs": [
    {
     "data": {
      "text/plain": [
       "<AxesSubplot:>"
      ]
     },
     "execution_count": 18,
     "metadata": {},
     "output_type": "execute_result"
    },
    {
     "data": {
      "image/png": "[encoded data removed]",
      "text/plain": [
       "<Figure size 864x432 with 1 Axes>"
      ]
     },
     "metadata": {
      "needs_background": "light"
     },
     "output_type": "display_data"
    }
   ],
   "source": [
    "df['step'] = df.groupby(['customer_no']).cumcount()+1\n",
    "df[df['step']==1]['location'].hist(alpha=0.5)\n",
    "df[df['step']==2]['location'].hist(alpha=0.5)"
   ]
  },
  {
   "cell_type": "code",
   "execution_count": 19,
   "metadata": {},
   "outputs": [],
   "source": [
    "df[df['customer_no']==6][['timestamp']].diff(1).shift(-1)\n",
    "df[df['customer_no']==6][['timestamp']]\n",
    "\n",
    "df_sorted = df.sort_values(by=['customer_no', 'timestamp'])\n",
    "df_sorted['time_spent'] = df_sorted.groupby('customer_no')['timestamp'].diff(1).shift(-1)"
   ]
  },
  {
   "cell_type": "code",
   "execution_count": 20,
   "metadata": {},
   "outputs": [
    {
     "data": {
      "text/html": [
       "<div>\n",
       "<style scoped>\n",
       "    .dataframe tbody tr th:only-of-type {\n",
       "        vertical-align: middle;\n",
       "    }\n",
       "\n",
       "    .dataframe tbody tr th {\n",
       "        vertical-align: top;\n",
       "    }\n",
       "\n",
       "    .dataframe thead th {\n",
       "        text-align: right;\n",
       "    }\n",
       "</style>\n",
       "<table border=\"1\" class=\"dataframe\">\n",
       "  <thead>\n",
       "    <tr style=\"text-align: right;\">\n",
       "      <th></th>\n",
       "      <th>time_spent</th>\n",
       "      <th>revenue_per_minute</th>\n",
       "      <th>time_spent_mins</th>\n",
       "      <th>total_revenue</th>\n",
       "    </tr>\n",
       "    <tr>\n",
       "      <th>location</th>\n",
       "      <th></th>\n",
       "      <th></th>\n",
       "      <th></th>\n",
       "      <th></th>\n",
       "    </tr>\n",
       "  </thead>\n",
       "  <tbody>\n",
       "    <tr>\n",
       "      <th>dairy</th>\n",
       "      <td>12 days 07:24:00</td>\n",
       "      <td>5.0</td>\n",
       "      <td>17724.0</td>\n",
       "      <td>88620.0</td>\n",
       "    </tr>\n",
       "    <tr>\n",
       "      <th>drinks</th>\n",
       "      <td>6 days 17:27:00</td>\n",
       "      <td>6.0</td>\n",
       "      <td>9687.0</td>\n",
       "      <td>58122.0</td>\n",
       "    </tr>\n",
       "    <tr>\n",
       "      <th>fruit</th>\n",
       "      <td>8 days 19:03:00</td>\n",
       "      <td>4.0</td>\n",
       "      <td>12663.0</td>\n",
       "      <td>50652.0</td>\n",
       "    </tr>\n",
       "    <tr>\n",
       "      <th>spices</th>\n",
       "      <td>4 days 08:14:00</td>\n",
       "      <td>3.0</td>\n",
       "      <td>6254.0</td>\n",
       "      <td>18762.0</td>\n",
       "    </tr>\n",
       "  </tbody>\n",
       "</table>\n",
       "</div>"
      ],
      "text/plain": [
       "               time_spent  revenue_per_minute  time_spent_mins  total_revenue\n",
       "location                                                                     \n",
       "dairy    12 days 07:24:00                 5.0          17724.0        88620.0\n",
       "drinks    6 days 17:27:00                 6.0           9687.0        58122.0\n",
       "fruit     8 days 19:03:00                 4.0          12663.0        50652.0\n",
       "spices    4 days 08:14:00                 3.0           6254.0        18762.0"
      ]
     },
     "execution_count": 20,
     "metadata": {},
     "output_type": "execute_result"
    }
   ],
   "source": [
    "time_per_loc = pd.DataFrame(df_sorted.groupby('location')['time_spent'].sum())\n",
    "rev_per_min = pd.DataFrame(data=[4, 3, 5, 6], index=['fruit', 'spices', 'dairy', 'drinks'], columns=['revenue_per_minute'])\n",
    "total_rev = time_per_loc.join(rev_per_min)[1:]\n",
    "\n",
    "total_rev['time_spent_mins'] = [t.total_seconds()/60 for t in total_rev['time_spent']]\n",
    "total_rev['total_revenue'] = total_rev['revenue_per_minute'] * total_rev['time_spent_mins']\n",
    "total_rev.sort_values('total_revenue', ascending=False)"
   ]
  },
  {
   "cell_type": "markdown",
   "metadata": {},
   "source": [
    "Add before_state and after_state columns"
   ]
  },
  {
   "cell_type": "code",
   "execution_count": 21,
   "metadata": {},
   "outputs": [],
   "source": [
    "# pd.crosstab(df['after'], df['before'], normalize=0)\n",
    "\n",
    "# df = df.drop(['rounded_timestamp', 'step'], axis=1)\n",
    "df['before'] = df['location']\n",
    "df['after'] = df.groupby('customer_no')['location'].shift(-1)"
   ]
  },
  {
   "cell_type": "markdown",
   "metadata": {},
   "source": [
    "---"
   ]
  },
  {
   "cell_type": "code",
   "execution_count": 22,
   "metadata": {},
   "outputs": [
    {
     "data": {
      "text/html": [
       "<div>\n",
       "<style scoped>\n",
       "    .dataframe tbody tr th:only-of-type {\n",
       "        vertical-align: middle;\n",
       "    }\n",
       "\n",
       "    .dataframe tbody tr th {\n",
       "        vertical-align: top;\n",
       "    }\n",
       "\n",
       "    .dataframe thead th {\n",
       "        text-align: right;\n",
       "    }\n",
       "</style>\n",
       "<table border=\"1\" class=\"dataframe\">\n",
       "  <thead>\n",
       "    <tr style=\"text-align: right;\">\n",
       "      <th>after</th>\n",
       "      <th>entrance</th>\n",
       "      <th>dairy</th>\n",
       "      <th>drinks</th>\n",
       "      <th>fruit</th>\n",
       "      <th>spices</th>\n",
       "      <th>checkout</th>\n",
       "    </tr>\n",
       "  </thead>\n",
       "  <tbody>\n",
       "    <tr>\n",
       "      <th>entrance</th>\n",
       "      <td>0.0</td>\n",
       "      <td>0.285561</td>\n",
       "      <td>0.152989</td>\n",
       "      <td>0.376629</td>\n",
       "      <td>0.181061</td>\n",
       "      <td>0.000000</td>\n",
       "    </tr>\n",
       "    <tr>\n",
       "      <th>dairy</th>\n",
       "      <td>0.0</td>\n",
       "      <td>0.737587</td>\n",
       "      <td>0.058339</td>\n",
       "      <td>0.049819</td>\n",
       "      <td>0.051286</td>\n",
       "      <td>0.102968</td>\n",
       "    </tr>\n",
       "    <tr>\n",
       "      <th>drinks</th>\n",
       "      <td>0.0</td>\n",
       "      <td>0.010943</td>\n",
       "      <td>0.598534</td>\n",
       "      <td>0.087437</td>\n",
       "      <td>0.086714</td>\n",
       "      <td>0.216372</td>\n",
       "    </tr>\n",
       "    <tr>\n",
       "      <th>fruit</th>\n",
       "      <td>0.0</td>\n",
       "      <td>0.095475</td>\n",
       "      <td>0.054963</td>\n",
       "      <td>0.597094</td>\n",
       "      <td>0.050699</td>\n",
       "      <td>0.201769</td>\n",
       "    </tr>\n",
       "    <tr>\n",
       "      <th>spices</th>\n",
       "      <td>0.0</td>\n",
       "      <td>0.193476</td>\n",
       "      <td>0.163096</td>\n",
       "      <td>0.090822</td>\n",
       "      <td>0.402143</td>\n",
       "      <td>0.150464</td>\n",
       "    </tr>\n",
       "    <tr>\n",
       "      <th>checkout</th>\n",
       "      <td>0.0</td>\n",
       "      <td>0.000000</td>\n",
       "      <td>0.000000</td>\n",
       "      <td>0.000000</td>\n",
       "      <td>0.000000</td>\n",
       "      <td>1.000000</td>\n",
       "    </tr>\n",
       "  </tbody>\n",
       "</table>\n",
       "</div>"
      ],
      "text/plain": [
       "after     entrance     dairy    drinks     fruit    spices  checkout\n",
       "entrance       0.0  0.285561  0.152989  0.376629  0.181061  0.000000\n",
       "dairy          0.0  0.737587  0.058339  0.049819  0.051286  0.102968\n",
       "drinks         0.0  0.010943  0.598534  0.087437  0.086714  0.216372\n",
       "fruit          0.0  0.095475  0.054963  0.597094  0.050699  0.201769\n",
       "spices         0.0  0.193476  0.163096  0.090822  0.402143  0.150464\n",
       "checkout       0.0  0.000000  0.000000  0.000000  0.000000  1.000000"
      ]
     },
     "execution_count": 22,
     "metadata": {},
     "output_type": "execute_result"
    }
   ],
   "source": [
    "transition_matrix = pd.crosstab(df['before'], df['after'], normalize=0)\n",
    "\n",
    "entrance = df.groupby('customer_no').head(1)['location'].value_counts()/7445\n",
    "entrance['checkout']=0\n",
    "entrance.name = 'entrance'\n",
    "transition_matrix = transition_matrix.T.join(entrance).T\n",
    "\n",
    "transition_matrix.loc['checkout'] = [1,0,0,0,0]\n",
    "transition_matrix['entrance'] = [0.,0.,0.,0.,0.,0.]\n",
    "\n",
    "transition_matrix = transition_matrix[['entrance', 'dairy', 'drinks', 'fruit', 'spices', 'checkout']]\n",
    "transition_matrix = transition_matrix.T[['entrance', 'dairy', 'drinks', 'fruit', 'spices', 'checkout']].T\n",
    "\n",
    "transition_matrix\n",
    "\n"
   ]
  },
  {
   "cell_type": "code",
   "execution_count": 23,
   "metadata": {},
   "outputs": [],
   "source": [
    "transition_matrix.to_csv('data/trans_matrix.csv')"
   ]
  },
  {
   "cell_type": "code",
   "execution_count": 24,
   "metadata": {},
   "outputs": [
    {
     "name": "stdout",
     "output_type": "stream",
     "text": [
      "[[1 0 0 0 0 0]]\n",
      "[0.         0.01653053 0.00879804 0.00814153 0.00458018 0.95818881]\n"
     ]
    }
   ],
   "source": [
    "state_distribution = np.array([1,0,0,0,0,0])\n",
    "array_plot = np.array([state_distribution])\n",
    "print(array_plot)\n",
    "for i in range(20):\n",
    "    state_distribution = np.dot(state_distribution, transition_matrix)\n",
    "    array_plot = np.concatenate((array_plot, np.array([state_distribution])), axis=0)\n",
    "print(state_distribution)"
   ]
  },
  {
   "cell_type": "code",
   "execution_count": 25,
   "metadata": {},
   "outputs": [
    {
     "data": {
      "text/plain": [
       "<AxesSubplot:>"
      ]
     },
     "execution_count": 25,
     "metadata": {},
     "output_type": "execute_result"
    },
    {
     "data": {
      "image/png": "[encoded data removed]",
      "text/plain": [
       "<Figure size 864x432 with 1 Axes>"
      ]
     },
     "metadata": {
      "needs_background": "light"
     },
     "output_type": "display_data"
    }
   ],
   "source": [
    "pd.DataFrame(array_plot, columns=['entrance', 'dairy', 'drinks', 'fruit', 'spices', 'checkout']).plot()"
   ]
  },
  {
   "cell_type": "code",
   "execution_count": 26,
   "metadata": {},
   "outputs": [
    {
     "name": "stdout",
     "output_type": "stream",
     "text": [
      "<Customer 1 is in fruit>\n",
      "<Customer 1 is in fruit>\n",
      "<Customer 1 is in fruit>\n",
      "<Customer 1 is in dairy>\n",
      "<Customer 1 is in dairy>\n",
      "<Customer 1 is in fruit>\n",
      "<Customer 1 is in fruit>\n",
      "<Customer 1 is in fruit>\n",
      "<Customer 1 is in fruit>\n",
      "<Customer 1 is in fruit>\n",
      "<Customer 1 is in checkout>\n"
     ]
    }
   ],
   "source": [
    "john = Customer(name=1, state='entrance', transition_probs=transition_matrix)\n",
    "\n",
    "while john.state[0] != 'checkout':\n",
    "    john.next_state()\n",
    "    print(john)"
   ]
  },
  {
   "cell_type": "code",
   "execution_count": 27,
   "metadata": {},
   "outputs": [],
   "source": [
    "class SuperMarket():\n",
    "    \"\"\"\n",
    "    A supermarket which has customers inside.\n",
    "    \"\"\"\n",
    "\n",
    "    def __init__(self):\n",
    "        customers = []\n",
    "\n",
    "    \n",
    "    def __repr__(self):\n",
    "        return f'<The supermarket has {len(self.customers)} customer/s in it>'\n",
    "\n",
    "    \n",
    "    def add_customer(self, new_customer):\n",
    "        if new_customer in self.customers:\n",
    "            pass\n",
    "        else:\n",
    "            self.customers.append(new_customer)"
   ]
  },
  {
   "cell_type": "code",
   "execution_count": 45,
   "metadata": {},
   "outputs": [
    {
     "data": {
      "text/plain": [
       "'01:01'"
      ]
     },
     "execution_count": 45,
     "metadata": {},
     "output_type": "execute_result"
    }
   ],
   "source": [
    "df['timestamp'][0]\n",
    "'{:02d}:{:02d}'.format(*divmod(61, 60))\n"
   ]
  }
 ],
 "metadata": {
  "interpreter": {
   "hash": "e47b1a34c05c1e3b83a62d7885c9d1b5ef8a0522d3be0182d0a008ec409b2b3d"
  },
  "kernelspec": {
   "display_name": "Python 3.7.11 64-bit ('myenv': conda)",
   "language": "python",
   "name": "python3"
  },
  "language_info": {
   "codemirror_mode": {
    "name": "ipython",
    "version": 3
   },
   "file_extension": ".py",
   "mimetype": "text/x-python",
   "name": "python",
   "nbconvert_exporter": "python",
   "pygments_lexer": "ipython3",
   "version": "3.7.11"
  },
  "orig_nbformat": 4
 },
 "nbformat": 4,
 "nbformat_minor": 2
}
