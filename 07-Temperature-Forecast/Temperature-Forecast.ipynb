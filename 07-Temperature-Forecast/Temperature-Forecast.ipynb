{
 "cells": [
  {
   "cell_type": "markdown",
   "metadata": {},
   "source": [
    "# SPICED ACADEMY  //  WEEK 07  //  TEMPERATURE FORECASTING\n",
    "Brunno Gorgulho Soares"
   ]
  },
  {
   "cell_type": "markdown",
   "metadata": {},
   "source": [
    "---"
   ]
  },
  {
   "cell_type": "markdown",
   "metadata": {},
   "source": [
    "# 0. Set Up"
   ]
  },
  {
   "cell_type": "markdown",
   "metadata": {},
   "source": [
    "## 0.a. Modules"
   ]
  },
  {
   "cell_type": "code",
   "execution_count": 1,
   "metadata": {},
   "outputs": [],
   "source": [
    "''' Essentials '''\n",
    "import pandas as pd\n",
    "import numpy as np\n",
    "\n",
    "''' Plotting '''\n",
    "import matplotlib.pyplot as plt\n",
    "from statsmodels.graphics.tsaplots import plot_pacf, plot_acf\n",
    "plt.rcParams['figure.figsize'] = (18, 4)\n",
    "\n",
    "''' Feature Engineering '''\n",
    "from sklearn.preprocessing import FunctionTransformer, StandardScaler\n",
    "from sklearn.compose import ColumnTransformer\n",
    "from sklearn.pipeline import Pipeline\n",
    "from statsmodels.tsa.ar_model import AutoReg, ar_select_order\n",
    "\n",
    "''' Modelling '''\n",
    "from sklearn.linear_model import LinearRegression\n",
    "import pmdarima as pm\n",
    "from statsmodels.tsa.arima.model import ARIMA\n",
    "\n",
    "''' Hyperparameter Optimization '''\n",
    "from sklearn.model_selection import TimeSeriesSplit"
   ]
  },
  {
   "cell_type": "markdown",
   "metadata": {},
   "source": [
    "## 0.b. Efficiency"
   ]
  },
  {
   "cell_type": "code",
   "execution_count": 2,
   "metadata": {},
   "outputs": [],
   "source": [
    "plot = True"
   ]
  },
  {
   "cell_type": "markdown",
   "metadata": {},
   "source": [
    "---"
   ]
  },
  {
   "cell_type": "markdown",
   "metadata": {},
   "source": [
    "# 1. Business Goal\n",
    "Develop a predictive model for weather using past data. "
   ]
  },
  {
   "cell_type": "markdown",
   "metadata": {},
   "source": [
    "---"
   ]
  },
  {
   "cell_type": "markdown",
   "metadata": {},
   "source": [
    "# 2. Get Data"
   ]
  },
  {
   "cell_type": "code",
   "execution_count": 3,
   "metadata": {},
   "outputs": [],
   "source": [
    "df = pd.read_csv('data/TG_STAID002759.csv', na_values='-9999', parse_dates=['date'], index_col=['date'])\n",
    "df = df.drop(['souid','q_tg'], axis=1)"
   ]
  },
  {
   "cell_type": "markdown",
   "metadata": {},
   "source": [
    "---"
   ]
  },
  {
   "cell_type": "markdown",
   "metadata": {},
   "source": [
    "# 3. Train-Test Split"
   ]
  },
  {
   "cell_type": "markdown",
   "metadata": {},
   "source": [
    "## 3.a. Removing NAs before Train-Test Splitting"
   ]
  },
  {
   "cell_type": "code",
   "execution_count": 4,
   "metadata": {},
   "outputs": [
    {
     "name": "stdout",
     "output_type": "stream",
     "text": [
      "195\n",
      "1945-04-25 00:00:00 1945-11-05 00:00:00\n",
      "0\n"
     ]
    }
   ],
   "source": [
    "''' As rows are not randomly assigned train / test, NAs are checked before splitting. '''\n",
    "\n",
    "\n",
    "'''Temperature # NAs: 195'''\n",
    "print(df['tg'].isna().sum())\n",
    "\n",
    "\n",
    "'''Lowest date value for NA is 1945-04-25 and highest 1945-11-05.'''\n",
    "df_nas = df[df['tg'].isna()==True].index\n",
    "print(df_nas.min(), df_nas.max())\n",
    "\n",
    "\n",
    "'''Imputing a large number of consecutive data points will not be trivial, therefore data prior to 1946 is dropped.'''\n",
    "df = df[df.index>='1946-01-01']\n",
    "\n",
    "\n",
    "'''Double-checking for 0 NAs, and it is true.'''\n",
    "print(df['tg'].isna().sum())"
   ]
  },
  {
   "cell_type": "markdown",
   "metadata": {},
   "source": [
    "## 3.b. Train-Test Splitting Remaining Rows"
   ]
  },
  {
   "cell_type": "code",
   "execution_count": 5,
   "metadata": {},
   "outputs": [
    {
     "name": "stdout",
     "output_type": "stream",
     "text": [
      "1946-10-01 00:00:00 2021-09-30 00:00:00\n",
      "22133\n",
      "2006\n",
      "Train starts: 1946-10-01 00:00:00 Train ends: 2006-09-30 00:00:00\n",
      "Test starts: 2006-10-01 00:00:00 Test ends : 2021-09-30 00:00:00\n"
     ]
    }
   ],
   "source": [
    "''' Goal is to split data into train and test sets by approx. 75% & 25%, avoiding over-representing any single datevalue. '''\n",
    "\n",
    "''' To avoid over-representation of any date value, date range is limited to max  '''\n",
    "end_date_month = df.index.max().month\n",
    "end_date_day = df.index.max().day\n",
    "start_date = pd.to_datetime(f'{df.index.min().year}-{end_date_month}-{end_date_day}') + pd.Timedelta('1 day')\n",
    "end_date = df.index.max()\n",
    "print(start_date, end_date)\n",
    "assert type(start_date) == type(end_date)\n",
    "\n",
    "''' 75% is equivalent to about 22133 rows. '''\n",
    "split_nearest_index = int(df['tg'].groupby(df.index.year).count().sum() * (4/5))\n",
    "print(split_nearest_index)\n",
    "\n",
    "''' 22133th row's date vlaue is 2006. '''\n",
    "split_year = df.index[split_nearest_index].year\n",
    "print(split_year)\n",
    "\n",
    "'''  '''\n",
    "train_start_date = start_date\n",
    "train_end_date = pd.to_datetime(f'{split_year}-{end_date_month}-{end_date_day}')\n",
    "\n",
    "test_start_date = pd.to_datetime(f'{split_year}-{end_date_month}-{end_date_day}') + pd.Timedelta('1 day')\n",
    "test_end_date = end_date\n",
    "\n",
    "''' Hence train is from 1946 to 2006 and test from 2007 onwards. '''\n",
    "df_train = df[(df.index >= train_start_date) & (df.index <= train_end_date)]\n",
    "df_test = df[(df.index >= test_start_date) & (df.index <= test_end_date)]\n",
    "\n",
    "print('Train starts:', df_train.index.min(), 'Train ends:', df_train.index.max())\n",
    "print('Test starts:', df_test.index.min(), 'Test ends :', df_test.index.max())"
   ]
  },
  {
   "cell_type": "code",
   "execution_count": 6,
   "metadata": {},
   "outputs": [],
   "source": [
    "''' X and y are separated. X is reshaped to prevent breaking feature engineering function. '''\n",
    "\n",
    "X = np.reshape(df_train.index, (-1,1))\n",
    "y = df_train['tg']"
   ]
  },
  {
   "cell_type": "markdown",
   "metadata": {},
   "source": [
    "---"
   ]
  },
  {
   "cell_type": "markdown",
   "metadata": {},
   "source": [
    "# 4. Explore Data"
   ]
  },
  {
   "cell_type": "code",
   "execution_count": 7,
   "metadata": {},
   "outputs": [
    {
     "data": {
      "image/png": "[encoded data removed]",
      "text/plain": [
       "<Figure size 1296x288 with 1 Axes>"
      ]
     },
     "metadata": {
      "needs_background": "light"
     },
     "output_type": "display_data"
    }
   ],
   "source": [
    "''' Process appears to be weakly stationary. '''\n",
    "\n",
    "if plot: df_train['tg'].plot()"
   ]
  },
  {
   "cell_type": "markdown",
   "metadata": {},
   "source": [
    "---"
   ]
  },
  {
   "cell_type": "markdown",
   "metadata": {},
   "source": [
    "# 5. Feature Engineering"
   ]
  },
  {
   "cell_type": "markdown",
   "metadata": {},
   "source": [
    "## 5.a. Execution"
   ]
  },
  {
   "cell_type": "markdown",
   "metadata": {},
   "source": [
    "Below I define all functions to be used in the Feature Engineering pipeline."
   ]
  },
  {
   "cell_type": "code",
   "execution_count": 8,
   "metadata": {},
   "outputs": [],
   "source": [
    "def timestep_detrend(df):\n",
    "\n",
    "    ''' Sub-function to remove_seasonal_trend. Adds timestamp column for trend modelling. '''\n",
    "\n",
    "    df['timestep'] = list(range(len(df)))\n",
    "    return df\n",
    "\n",
    "\n",
    "\n",
    "def ohe_deseasonal(df, season_granularity):\n",
    " \n",
    "    ''' Sub-function to remove_seasonal_trend. Adds one-hot encoded columns for seasonality modelling. '''\n",
    "    \n",
    "    if season_granularity=='month':\n",
    "        df_month = pd.get_dummies(data=df.index.month, drop_first=True, prefix='month').set_index(df.index)\n",
    "        df = df.join(df_month)\n",
    "\n",
    "    elif season_granularity=='weeknum':\n",
    "        df_weeknum = pd.get_dummies(data=df.index.weekofyear, drop_first=True, prefix='weeknum').set_index(df.index)\n",
    "        df = df.join(df_weeknum)\n",
    "\n",
    "    else:\n",
    "        raise Exception('Try one of: month, weeknum in ohe_deseasonal function.')\n",
    "\n",
    "    return df\n",
    "\n",
    "\n",
    "\n",
    "def remove_trend_seasonal(df, season_granularity='month'):\n",
    "\n",
    "    ''' Creates new y column removing trend and seasonality. '''\n",
    "    \n",
    "    df = timestep_detrend(df) # timestamp column helps de-trending\n",
    "    df = ohe_deseasonal(df, season_granularity) # one-hot encoded seasonal columns help de-seasonalization\n",
    "    \n",
    "    X = df.drop(['tg'], axis=1)\n",
    "    y = df['tg']\n",
    "\n",
    "    m1 = LinearRegression()\n",
    "    m1.fit(X, y)\n",
    "    df['trend_seasonal'] = m1.predict(X)\n",
    "\n",
    "    df['remainder'] = df['tg'] - df['trend_seasonal']\n",
    "\n",
    "    return df\n",
    "\n",
    "\n",
    "\n",
    "def lag(df, n=3):\n",
    "\n",
    "    ''' Creates lag functions for lags 1 to n. Drops NAs '''\n",
    "    \n",
    "    for iter in range(1,n+1):\n",
    "        df[f'lag{iter}'] = df['remainder'].shift(iter)\n",
    "    \n",
    "    df = df.dropna() # Drops NAs generated through lags.\n",
    "\n",
    "    return df\n",
    "\n",
    "\n",
    "\n",
    "def standard_scale(x):\n",
    " \n",
    "    '''  '''  \n",
    "    \n",
    "    x_scaled = (x - x.mean())/x.std()\n",
    "    \n",
    "    return x_scaled\n",
    "\n",
    "\n",
    "\n",
    "def scale_columns (df, columns_list):\n",
    "\n",
    "    ''' Splits dataframe into y (tg) and X vriables. '''\n",
    "    \n",
    "    for column in columns_list:\n",
    "        df[column] = standard_scale(df[column])\n",
    "\n",
    "    return df\n",
    "\n",
    "\n",
    "\n",
    "def drop_cols(df):\n",
    "\n",
    "    ''' Drops intermediary columns (after calculation of another column). '''\n",
    "\n",
    "    df = df.drop(['trend_seasonal','remainder'], axis=1)\n",
    "    return df"
   ]
  },
  {
   "cell_type": "markdown",
   "metadata": {},
   "source": [
    "Below, I build the Feature Engineering pipeline applying the above-defined functions."
   ]
  },
  {
   "cell_type": "code",
   "execution_count": 9,
   "metadata": {},
   "outputs": [],
   "source": [
    "# Call functions\n",
    "get_no_trend_seasonal = FunctionTransformer(remove_trend_seasonal)\n",
    "get_lags = FunctionTransformer(lag)\n",
    "get_scaled_columns = FunctionTransformer(scale_columns, kw_args={'columns_list':['lag1','lag2','lag3']})\n",
    "get_drop_cols = FunctionTransformer(drop_cols)\n",
    "\n",
    "# Define pipeline\n",
    "pipe_model_month = Pipeline([\n",
    "    ('get_no_trend_seasonal', get_no_trend_seasonal),\n",
    "    ('get_lags', get_lags),\n",
    "    ('get_scaled_columns', get_scaled_columns),\n",
    "    ('get_drop_cols', get_drop_cols)\n",
    "])\n",
    "\n",
    "# Fit pipeline using df_train and transform df_train\n",
    "df_train_model = pipe_model_month.fit_transform(df_train)"
   ]
  },
  {
   "cell_type": "markdown",
   "metadata": {},
   "source": [
    "## 5.b. Feature Engineering Exploration"
   ]
  },
  {
   "cell_type": "markdown",
   "metadata": {},
   "source": [
    "ADD AUGMENTED DICKIE FULLER TEST ON REMAINDE"
   ]
  },
  {
   "cell_type": "markdown",
   "metadata": {},
   "source": [
    "Below, I build the Feature Engienering for plotting, which may keep columns which are dropped in the modelling pipeline."
   ]
  },
  {
   "cell_type": "code",
   "execution_count": 10,
   "metadata": {},
   "outputs": [
    {
     "name": "stderr",
     "output_type": "stream",
     "text": [
      "/opt/anaconda3/envs/myenv/lib/python3.7/site-packages/ipykernel_launcher.py:6: SettingWithCopyWarning: \n",
      "A value is trying to be set on a copy of a slice from a DataFrame.\n",
      "Try using .loc[row_indexer,col_indexer] = value instead\n",
      "\n",
      "See the caveats in the documentation: https://pandas.pydata.org/pandas-docs/stable/user_guide/indexing.html#returning-a-view-versus-a-copy\n",
      "  \n"
     ]
    }
   ],
   "source": [
    "# Call functions\n",
    "get_no_trend_seasonal = FunctionTransformer(remove_trend_seasonal)\n",
    "get_lags = FunctionTransformer(lag)\n",
    "get_scaled_columns = FunctionTransformer(scale_columns, kw_args={'columns_list':['lag1','lag2','lag3']})\n",
    "get_drop_cols = FunctionTransformer(drop_cols)\n",
    "\n",
    "# Define pipeline\n",
    "pipe_plot = Pipeline([\n",
    "    ('get_no_trend_seasonal', get_no_trend_seasonal),\n",
    "    ('get_lags', get_lags),\n",
    "    ('get_scaled_columns', get_scaled_columns)\n",
    "])\n",
    "\n",
    "# Fit pipeline using df_train and transform df_train\n",
    "df_train_plot = pipe_plot.fit_transform(df_train)\n",
    "\n",
    "# Split X and y\n",
    "X_train_model = df_train_model.drop(['tg'], axis=1)\n",
    "y_train_model = df_train_model['tg']"
   ]
  },
  {
   "cell_type": "code",
   "execution_count": 11,
   "metadata": {},
   "outputs": [
    {
     "name": "stdout",
     "output_type": "stream",
     "text": [
      "           remainder  lag1  lag2  lag3\n",
      "remainder       1.00   0.8   0.6  0.47\n",
      "lag1            0.80   1.0   0.8  0.60\n",
      "lag2            0.60   0.8   1.0  0.80\n",
      "lag3            0.47   0.6   0.8  1.00\n",
      "Partial_autocorrelation: -0.04000000000000015\n"
     ]
    }
   ],
   "source": [
    "''' Strong correlation between remainder and its lags. ''' \n",
    "print(round(df_train_plot[['remainder','lag1','lag2','lag3']].corr(), 2))\n",
    "\n",
    "\n",
    "''' The correlation between lag2 and remainder is fully explained by the indirect effect of lag2 through lag1. Why keep lag2? '''  \n",
    "remainder_lag1_corr = 0.8\n",
    "lag1_lag2_corr = 0.8\n",
    "remainder_lag2_corr = 0.6\n",
    "print('Partial_autocorrelation:', remainder_lag2_corr - (remainder_lag1_corr * lag1_lag2_corr))"
   ]
  },
  {
   "cell_type": "code",
   "execution_count": 12,
   "metadata": {},
   "outputs": [
    {
     "name": "stderr",
     "output_type": "stream",
     "text": [
      "/opt/anaconda3/envs/myenv/lib/python3.7/site-packages/statsmodels/tsa/base/tsa_model.py:539: ValueWarning: No frequency information was provided, so inferred frequency D will be used.\n",
      "  % freq, ValueWarning)\n",
      "/opt/anaconda3/envs/myenv/lib/python3.7/site-packages/statsmodels/tsa/base/tsa_model.py:539: ValueWarning: No frequency information was provided, so inferred frequency D will be used.\n",
      "  % freq, ValueWarning)\n"
     ]
    },
    {
     "data": {
      "text/plain": [
       "[1, 2, 3]"
      ]
     },
     "execution_count": 12,
     "metadata": {},
     "output_type": "execute_result"
    }
   ],
   "source": [
    "''' According to Autoregressor test, keep lags 1, 2 and 3. '''\n",
    "\n",
    "if plot: selected_order = ar_select_order(df_train_plot['remainder'], maxlag=20)\n",
    "selected_order.ar_lags"
   ]
  },
  {
   "cell_type": "markdown",
   "metadata": {},
   "source": [
    "A clear cutoff is observed in lag 2 of the Partial Autocorrelation graph. Meanwhile, no cutoff is observed in the Autocorrelation plot, suggesting that this is an Autoregression problem, rather than Moving Average."
   ]
  },
  {
   "cell_type": "code",
   "execution_count": 13,
   "metadata": {},
   "outputs": [
    {
     "name": "stderr",
     "output_type": "stream",
     "text": [
      "/opt/anaconda3/envs/myenv/lib/python3.7/site-packages/statsmodels/graphics/tsaplots.py:353: FutureWarning: The default method 'yw' can produce PACF values outside of the [-1,1] interval. After 0.13, the default will change tounadjusted Yule-Walker ('ywm'). You can use this method now by setting method='ywm'.\n",
      "  FutureWarning,\n"
     ]
    },
    {
     "data": {
      "image/png": "[encoded data removed]",
      "text/plain": [
       "<Figure size 1296x288 with 1 Axes>"
      ]
     },
     "metadata": {
      "needs_background": "light"
     },
     "output_type": "display_data"
    },
    {
     "data": {
      "image/png": "[encoded data removed]",
      "text/plain": [
       "<Figure size 1296x288 with 1 Axes>"
      ]
     },
     "metadata": {
      "needs_background": "light"
     },
     "output_type": "display_data"
    }
   ],
   "source": [
    "if plot: \n",
    "    plot_pacf(df_train_plot['tg'])\n",
    "    plot_acf(df_train_plot['tg'])"
   ]
  },
  {
   "cell_type": "markdown",
   "metadata": {},
   "source": [
    "---"
   ]
  },
  {
   "cell_type": "markdown",
   "metadata": {},
   "source": [
    "# 6. Train Model"
   ]
  },
  {
   "cell_type": "markdown",
   "metadata": {},
   "source": [
    "Now, I train a linear modelled as follows:\n",
    "\n",
    "$ y_t = \\beta_{0} + \\beta_{1} X_{timestep,\\ t} + \\beta_{2} X_{Feb\\_dummy,\\ t} + ... + \\beta_{12} X_{Dec\\_dummy,\\ t} + \\beta_{13} X_{R,\\ t-1} + \\beta_{14} X_{R,\\ t-2} + \\beta_{15} X_{R, t-3} + \\epsilon_{t} $ \n",
    "\n",
    "Where $ y_{t} $ is temperature in degrees celsius, $ X_{timestep} $ is the timestep value (linearized datetime), $ X_{Feb\\_dummy} $ to $ X_{Dec\\_dummy} $ are month one-hot encoded dummies, and $ X_{R, t-n} $ are the lags of the remainder (signal leftover after de-trending and de-seasonalizing)."
   ]
  },
  {
   "cell_type": "code",
   "execution_count": 15,
   "metadata": {},
   "outputs": [],
   "source": [
    "''' Callinga and fitting model. '''\n",
    "\n",
    "m2 = LinearRegression()\n",
    "m2.fit(X_train_model, y_train_model)\n",
    "df_train_model['pred_ar3'] = m2.predict(X_train_model)"
   ]
  },
  {
   "cell_type": "code",
   "execution_count": 16,
   "metadata": {},
   "outputs": [
    {
     "name": "stdout",
     "output_type": "stream",
     "text": [
      "M2 R2: 0.91\n"
     ]
    }
   ],
   "source": [
    "print('M2 R2:', round(m2.score(X_train_model, y_train_model),2))"
   ]
  },
  {
   "cell_type": "markdown",
   "metadata": {},
   "source": [
    "---"
   ]
  },
  {
   "cell_type": "code",
   "execution_count": 17,
   "metadata": {},
   "outputs": [],
   "source": [
    "# m4 = pm.auto_arima(df_train_m4, start_p\n",
    "\n",
    "# )\n",
    "\n",
    "# 'https://alkaline-ml.com/pmdarima/quickstart.html#quickstart'"
   ]
  },
  {
   "cell_type": "code",
   "execution_count": 18,
   "metadata": {},
   "outputs": [
    {
     "data": {
      "text/plain": [
       "' This code was used to inspect for chronic under-prediction in peaks and over-prediction in troughs, which is not apparent. '"
      ]
     },
     "execution_count": 18,
     "metadata": {},
     "output_type": "execute_result"
    }
   ],
   "source": [
    "''' This code was used to inspect for chronic under-prediction in peaks and over-prediction in troughs, which is not apparent. '''\n",
    "\n",
    "# min_year_train = df_train_model.index.min().year\n",
    "# max_year_train = df_train_model.index.max().year + 1\n",
    "# if plot:\n",
    "#     for year in range(min_year_train, max_year_train):\n",
    "#         df_train_model[ (df_train_model.index >= f'{year}-01-01') & (df_train_model.index <= f'{year}-12-31')][['tg','pred_ar3']].plot(alpha=0.7, title=f'{year}')"
   ]
  },
  {
   "cell_type": "markdown",
   "metadata": {},
   "source": [
    "---"
   ]
  },
  {
   "cell_type": "markdown",
   "metadata": {},
   "source": [
    "# 7. Hyperparameter Optimization // Cross-Validation"
   ]
  },
  {
   "cell_type": "code",
   "execution_count": null,
   "metadata": {},
   "outputs": [],
   "source": []
  },
  {
   "cell_type": "markdown",
   "metadata": {},
   "source": [
    "---"
   ]
  },
  {
   "cell_type": "markdown",
   "metadata": {},
   "source": [
    "# 8. Calculate Test Score"
   ]
  },
  {
   "cell_type": "code",
   "execution_count": 19,
   "metadata": {},
   "outputs": [
    {
     "name": "stderr",
     "output_type": "stream",
     "text": [
      "/opt/anaconda3/envs/myenv/lib/python3.7/site-packages/ipykernel_launcher.py:6: SettingWithCopyWarning: \n",
      "A value is trying to be set on a copy of a slice from a DataFrame.\n",
      "Try using .loc[row_indexer,col_indexer] = value instead\n",
      "\n",
      "See the caveats in the documentation: https://pandas.pydata.org/pandas-docs/stable/user_guide/indexing.html#returning-a-view-versus-a-copy\n",
      "  \n",
      "/opt/anaconda3/envs/myenv/lib/python3.7/site-packages/ipykernel_launcher.py:6: SettingWithCopyWarning: \n",
      "A value is trying to be set on a copy of a slice from a DataFrame.\n",
      "Try using .loc[row_indexer,col_indexer] = value instead\n",
      "\n",
      "See the caveats in the documentation: https://pandas.pydata.org/pandas-docs/stable/user_guide/indexing.html#returning-a-view-versus-a-copy\n",
      "  \n",
      "/opt/anaconda3/envs/myenv/lib/python3.7/site-packages/ipykernel_launcher.py:6: SettingWithCopyWarning: \n",
      "A value is trying to be set on a copy of a slice from a DataFrame.\n",
      "Try using .loc[row_indexer,col_indexer] = value instead\n",
      "\n",
      "See the caveats in the documentation: https://pandas.pydata.org/pandas-docs/stable/user_guide/indexing.html#returning-a-view-versus-a-copy\n",
      "  \n"
     ]
    }
   ],
   "source": [
    "df_test_m2 = pipe_model_month.fit_transform(df_test)\n",
    "X_test_m2 = pipe_model_month.transform(df_test).drop(['tg'], axis=1)\n",
    "y_test_m2 = pipe_model_month.transform(df_test)['tg']"
   ]
  },
  {
   "cell_type": "markdown",
   "metadata": {},
   "source": [
    "---"
   ]
  },
  {
   "cell_type": "markdown",
   "metadata": {},
   "source": [
    "# 9. Deploy & Monitor"
   ]
  },
  {
   "cell_type": "code",
   "execution_count": 24,
   "metadata": {},
   "outputs": [
    {
     "name": "stdout",
     "output_type": "stream",
     "text": [
      "2021-10-01 00:00:00\n",
      "Max timestep test set: 5478\n",
      "[0, 0, 0, 0, 0, 0, 0, 0, 1, 0, 0]\n",
      "[117.0, 139.0, 157.0]\n",
      "  timestep month_2 month_3 month_4 month_5 month_6 month_7 month_8 month_9  \\\n",
      "0   5479.0     0.0     0.0     0.0     0.0     0.0     0.0     0.0     0.0   \n",
      "\n",
      "  month_10 month_11 month_12   lag1   lag2   lag3  \n",
      "0      1.0      0.0      0.0  117.0  139.0  157.0  \n"
     ]
    }
   ],
   "source": [
    "''' Creating Future Dataset '''\n",
    "\n",
    "df_predict = df_test_m2\n",
    "\n",
    "future_date = df_predict.index.max() + pd.to_timedelta('1 day') # future index\n",
    "print(future_date)\n",
    "\n",
    "print('Max timestep test set:', df_predict['timestep'].max())\n",
    "future_timestamp = df_predict['timestep'].max() + 1 # future timestamp\n",
    "\n",
    "future_ohe_months = [0 for n in range(11)]\n",
    "future_ohe_months[future_date.month - 2] = 1 # future ohe_months; -2 is -1 due to python starting at 0 and another -1 due to dropped jan column\n",
    "print(future_ohe_months)\n",
    "\n",
    "future_lags = [df_predict['tg'][-1], df_predict['tg'][-2], df_predict['tg'][-3]] # lags\n",
    "print(future_lags)\n",
    "\n",
    "X_future = [future_timestamp] + (future_ohe_months) + (future_lags)\n",
    "X_future = np.reshape(X_future, (1,-1))\n",
    "\n",
    "X_future = pd.DataFrame(X_future, columns=[X_train_model.columns])\n",
    "\n",
    "print(X_future)\n",
    "\n"
   ]
  },
  {
   "cell_type": "code",
   "execution_count": null,
   "metadata": {},
   "outputs": [],
   "source": [
    "''' Creating Future Pipeline '''\n",
    "\n",
    "get_scaled_columns = FunctionTransformer(scale_columns, kw_args={'columns_list':['lag1','lag2','lag3']})\n",
    "\n",
    "\n",
    "\n",
    "pipe_model_future = Pipeline([\n",
    "    ('scale', get_scaled_columns),\n",
    "])\n",
    "\n",
    "\n",
    "\n",
    "X_future_m2 = pipe_model_future.transform(X_future)"
   ]
  },
  {
   "cell_type": "code",
   "execution_count": null,
   "metadata": {},
   "outputs": [],
   "source": [
    "m2.predict(X_future_m2)"
   ]
  },
  {
   "cell_type": "code",
   "execution_count": null,
   "metadata": {},
   "outputs": [],
   "source": [
    "df_test_m2.iloc[[-1]]"
   ]
  },
  {
   "cell_type": "code",
   "execution_count": null,
   "metadata": {},
   "outputs": [],
   "source": [
    "pd.DataFrame(X_future)"
   ]
  },
  {
   "cell_type": "code",
   "execution_count": null,
   "metadata": {},
   "outputs": [],
   "source": [
    "m_pred = m2\n",
    "m_pred.fit(X_test_m2, y_test_m2)\n",
    "m_pred.predict(X_future)"
   ]
  },
  {
   "cell_type": "code",
   "execution_count": null,
   "metadata": {},
   "outputs": [],
   "source": [
    "def forecast():\n",
    "    ..."
   ]
  },
  {
   "cell_type": "markdown",
   "metadata": {},
   "source": [
    "---"
   ]
  },
  {
   "cell_type": "markdown",
   "metadata": {},
   "source": [
    "# 10. Appendix"
   ]
  },
  {
   "cell_type": "markdown",
   "metadata": {},
   "source": []
  },
  {
   "cell_type": "code",
   "execution_count": null,
   "metadata": {},
   "outputs": [],
   "source": [
    "''' Using week instad of month to capture seasonality significantly improves nuance. '''\n",
    "if plot:\n",
    "    df_plot = df_train.copy()\n",
    "\n",
    "    df_plot['month'] = df_plot.index.month\n",
    "    df_plot['weekofyear'] = df_plot.index.weekofyear\n",
    "    weekofyear_to_month = pd.Series(df_plot['month'].groupby(df_plot['weekofyear']).median())\n",
    "\n",
    "    seasonality_weekofyear = pd.DataFrame(df_plot['tg'].groupby(df_plot['weekofyear']).mean()).reset_index()\n",
    "    seasonality_weekofyear['month'] = seasonality_weekofyear['weekofyear'].map(weekofyear_to_month)\n",
    "\n",
    "    seasonality_month = df_plot['tg'].groupby(df_plot['month']).mean()\n",
    "    seasonality_weekofyear_month = pd.merge(left=seasonality_weekofyear, right=seasonality_month, how='left', left_on=seasonality_weekofyear['month'], right_on=seasonality_month.index)\n",
    "\n",
    "    seasonality_weekofyear_month.set_index('weekofyear')['tg_x'].plot()\n",
    "    seasonality_weekofyear_month.set_index('weekofyear')['tg_y'].plot()"
   ]
  },
  {
   "cell_type": "code",
   "execution_count": null,
   "metadata": {},
   "outputs": [],
   "source": [
    "''' Building pipeline for modelling assuming WEEKNUM seasonality. '''\n",
    "\n",
    "get_no_trend_seasonal = FunctionTransformer(remove_trend_seasonal, kw_args={'season_granularity':'weeknum'})\n",
    "get_lags = FunctionTransformer(lag)\n",
    "get_scaled_columns = FunctionTransformer(scale_columns, kw_args={'columns_list':['lag1','lag2','lag3']})\n",
    "get_drop_cols = FunctionTransformer(drop_cols)\n",
    "\n",
    "\n",
    "\n",
    "pipe_model_weeknum = Pipeline([\n",
    "    ('no_trend_seasonal', get_no_trend_seasonal),\n",
    "    ('lags', get_lags),\n",
    "    ('scale', get_scaled_columns),\n",
    "    ('drop_cols', get_drop_cols)\n",
    "])"
   ]
  },
  {
   "cell_type": "code",
   "execution_count": null,
   "metadata": {},
   "outputs": [],
   "source": [
    "''' Transforming Data and Splitting X-y '''\n",
    "\n",
    "df_train_m3 = pipe_model_weeknum.fit_transform(df_train)\n",
    "X_train_m3 = pipe_model_weeknum.transform(df_train).drop(['tg'], axis=1)\n",
    "y_train_m3 = pipe_model_weeknum.transform(df_train)['tg']\n",
    "\n",
    "''' Checking columns '''\n",
    "assert list(X_train_m3.columns) == ['timestep', 'weeknum_2', 'weeknum_3', 'weeknum_4', 'weeknum_5',\n",
    "       'weeknum_6', 'weeknum_7', 'weeknum_8', 'weeknum_9', 'weeknum_10',\n",
    "       'weeknum_11', 'weeknum_12', 'weeknum_13', 'weeknum_14', 'weeknum_15',\n",
    "       'weeknum_16', 'weeknum_17', 'weeknum_18', 'weeknum_19', 'weeknum_20',\n",
    "       'weeknum_21', 'weeknum_22', 'weeknum_23', 'weeknum_24', 'weeknum_25',\n",
    "       'weeknum_26', 'weeknum_27', 'weeknum_28', 'weeknum_29', 'weeknum_30',\n",
    "       'weeknum_31', 'weeknum_32', 'weeknum_33', 'weeknum_34', 'weeknum_35',\n",
    "       'weeknum_36', 'weeknum_37', 'weeknum_38', 'weeknum_39', 'weeknum_40',\n",
    "       'weeknum_41', 'weeknum_42', 'weeknum_43', 'weeknum_44', 'weeknum_45',\n",
    "       'weeknum_46', 'weeknum_47', 'weeknum_48', 'weeknum_49', 'weeknum_50',\n",
    "       'weeknum_51', 'weeknum_52', 'weeknum_53', 'lag1', 'lag2', 'lag3']"
   ]
  },
  {
   "cell_type": "code",
   "execution_count": null,
   "metadata": {},
   "outputs": [],
   "source": [
    "''' Calling and fitting model. '''\n",
    "\n",
    "m3 = LinearRegression()\n",
    "m3.fit(X_train_m3, y_train_m3)\n",
    "df_train_m3['pred_ar3'] = m3.predict(X_train_m3)"
   ]
  }
 ],
 "metadata": {
  "interpreter": {
   "hash": "31f2aee4e71d21fbe5cf8b01ff0e069b9275f58929596ceb00d14d90e3e16cd6"
  },
  "kernelspec": {
   "display_name": "Python 3.8.9 64-bit",
   "language": "python",
   "name": "python3"
  },
  "language_info": {
   "codemirror_mode": {
    "name": "ipython",
    "version": 3
   },
   "file_extension": ".py",
   "mimetype": "text/x-python",
   "name": "python",
   "nbconvert_exporter": "python",
   "pygments_lexer": "ipython3",
   "version": "3.7.11"
  },
  "orig_nbformat": 4
 },
 "nbformat": 4,
 "nbformat_minor": 2
}
